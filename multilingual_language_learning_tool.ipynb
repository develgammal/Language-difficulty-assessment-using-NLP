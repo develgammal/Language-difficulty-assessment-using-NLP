{
 "cells": [
  {
   "cell_type": "markdown",
   "id": "1b8877ad",
   "metadata": {},
   "source": [
    "# Comparative Analysis of Word Difficulty Metrics for Language Learning\n",
    "\n",
    "## Project Overview\n",
    "\n",
    "This notebook implements a comprehensive language learning tool designed to assist language learners through intelligent text analysis. The project has three primary objectives:\n",
    "\n",
    "1. **Topic-based Sentence Grouping**: Extract sentences from subtitle files (.srt) and automatically group them by semantic topics using BERTopic clustering\n",
    "\n",
    "2. **Dual Word Difficulty Analysis**: Implement and compare two distinct computational approaches for determining word difficulty:\n",
    "   - **Method A: Word Frequency** - A classic and robust approach where word frequency in large corpora serves as a proxy for difficulty (common words = easier)\n",
    "   - **Method B: Embedding L2 Norm** - An experimental approach that leverages the L2 norm of word embeddings as a difficulty indicator based on the hypothesis that training frequency correlates with embedding magnitude\n",
    "\n",
    "3. **Comparative Visualization**: Present a side-by-side comparison of both methods through color-coded visualizations, enabling qualitative and quantitative analysis of their effectiveness\n",
    "\n",
    "This notebook serves as a small academic experiment to evaluate which computational method provides more intuitive and useful difficulty assessments for language learning applications."
   ]
  },
  {
   "cell_type": "markdown",
   "id": "53be7497",
   "metadata": {},
   "source": [
    "### ⚠️ A Note on Performance & Scalability\n",
    "\n",
    "This notebook is designed as a comprehensive academic demonstration and performs all data processing from scratch. Please be aware of the following:\n",
    "\n",
    "* **Lexicon Generation is Slow:** The initial creation of the word frequency lexicon (Method A) and the embedding norm lexicon (Method B) is computationally intensive. The process involves downloading and processing a large text corpus, which can take a significant amount of time (potentially 10-20 minutes or more, depending on your connection and CPU).\n",
    "\n",
    "* **One-Time Cost:** This heavy computation is a one-time setup cost for each language. In a real-world application, these generated lexicons would be saved to a file (`.json` or `.csv`) and simply loaded in future sessions, making the tool run instantly for the end-user.\n",
    "\n",
    "For this demonstration, the script has a built-in limit to process a smaller subset of the corpus to ensure it runs in a reasonable time."
   ]
  },
  {
   "cell_type": "markdown",
   "id": "e551cddf",
   "metadata": {},
   "source": [
    "## 1. Setup and Configuration"
   ]
  },
  {
   "cell_type": "code",
   "execution_count": 1,
   "id": "6cd3af2c",
   "metadata": {},
   "outputs": [
    {
     "name": "stdout",
     "output_type": "stream",
     "text": [
      "Note: you may need to restart the kernel to use updated packages.\n"
     ]
    },
    {
     "name": "stderr",
     "output_type": "stream",
     "text": [
      "\n",
      "[notice] A new release of pip is available: 25.0.1 -> 25.2\n",
      "[notice] To update, run: python.exe -m pip install --upgrade pip\n"
     ]
    },
    {
     "name": "stdout",
     "output_type": "stream",
     "text": [
      "Collecting es-core-news-sm==3.8.0\n",
      "  Downloading https://github.com/explosion/spacy-models/releases/download/es_core_news_sm-3.8.0/es_core_news_sm-3.8.0-py3-none-any.whl (12.9 MB)\n",
      "     ---------------------------------------- 0.0/12.9 MB ? eta -:--:--\n",
      "     ---- ----------------------------------- 1.6/12.9 MB 8.8 MB/s eta 0:00:02\n",
      "     ---------- ----------------------------- 3.4/12.9 MB 9.0 MB/s eta 0:00:02\n",
      "     ---------------- ----------------------- 5.2/12.9 MB 8.9 MB/s eta 0:00:01\n",
      "     --------------------- ------------------ 7.1/12.9 MB 8.9 MB/s eta 0:00:01\n",
      "     --------------------------- ------------ 8.9/12.9 MB 8.9 MB/s eta 0:00:01\n",
      "     -------------------------------- ------- 10.5/12.9 MB 8.9 MB/s eta 0:00:01\n",
      "     ---------------------------------------  12.6/12.9 MB 8.9 MB/s eta 0:00:01\n",
      "     ---------------------------------------- 12.9/12.9 MB 8.5 MB/s eta 0:00:00\n",
      "Note: you may need to restart the kernel to use updated packages.\n"
     ]
    },
    {
     "name": "stderr",
     "output_type": "stream",
     "text": [
      "\n",
      "[notice] A new release of pip is available: 25.0.1 -> 25.2\n",
      "[notice] To update, run: python.exe -m pip install --upgrade pip\n"
     ]
    }
   ],
   "source": [
    "# Install Dependencies\n",
    "# Installing all required libraries with quiet output using %pip for local environment\n",
    "%pip install -q bertopic datasets pandas numpy nltk pysrt sentence-transformers torch ipywidgets matplotlib seaborn spacy\n",
    "\n",
    "# Download the spaCy model for the default target language\n",
    "# Replace 'es_core_news_sm' if you change the default TARGET_LANGUAGE above\n",
    "%pip install https://github.com/explosion/spacy-models/releases/download/es_core_news_sm-3.8.0/es_core_news_sm-3.8.0-py3-none-any.whl"
   ]
  },
  {
   "cell_type": "code",
   "execution_count": 2,
   "id": "031f39f4",
   "metadata": {},
   "outputs": [
    {
     "name": "stderr",
     "output_type": "stream",
     "text": [
      "[nltk_data] Error loading wordnet: <urlopen error [WinError 10054] An\n",
      "[nltk_data]     existing connection was forcibly closed by the remote\n",
      "[nltk_data]     host>\n",
      "[nltk_data] Downloading package punkt to\n",
      "[nltk_data]     C:\\Users\\omar\\AppData\\Roaming\\nltk_data...\n",
      "[nltk_data]   Package punkt is already up-to-date!\n",
      "[nltk_data] Downloading package omw-1.4 to\n",
      "[nltk_data]     C:\\Users\\omar\\AppData\\Roaming\\nltk_data...\n"
     ]
    },
    {
     "name": "stdout",
     "output_type": "stream",
     "text": [
      "All libraries imported successfully!\n"
     ]
    },
    {
     "name": "stderr",
     "output_type": "stream",
     "text": [
      "[nltk_data]   Package omw-1.4 is already up-to-date!\n"
     ]
    }
   ],
   "source": [
    "# Core Libraries\n",
    "import re\n",
    "import pandas as pd\n",
    "import numpy as np\n",
    "from collections import Counter\n",
    "import matplotlib.pyplot as plt\n",
    "import seaborn as sns\n",
    "\n",
    "# NLP & Modelling\n",
    "import nltk\n",
    "from nltk.stem import WordNetLemmatizer\n",
    "from datasets import load_dataset\n",
    "from sentence_transformers import SentenceTransformer\n",
    "from bertopic import BERTopic\n",
    "import spacy\n",
    "\n",
    "# File Handling & Display\n",
    "import pysrt\n",
    "from IPython.display import display, HTML\n",
    "import warnings\n",
    "warnings.filterwarnings('ignore')\n",
    "\n",
    "# Download necessary NLTK data\n",
    "nltk.download('wordnet')\n",
    "nltk.download('punkt')\n",
    "nltk.download('omw-1.4')\n",
    "\n",
    "print(\"All libraries imported successfully!\")"
   ]
  },
  {
   "cell_type": "code",
   "execution_count": 3,
   "id": "7a894241",
   "metadata": {},
   "outputs": [
    {
     "name": "stdout",
     "output_type": "stream",
     "text": [
      "✅ spaCy is available\n",
      "✅ Spanish model 'es_core_news_sm' is already available and working\n",
      "\n",
      "Final status: ✅ spaCy model ready\n",
      "✅ Spanish model 'es_core_news_sm' is already available and working\n",
      "\n",
      "Final status: ✅ spaCy model ready\n"
     ]
    }
   ],
   "source": [
    "# Simple spaCy model verification and installation\n",
    "import sys\n",
    "import subprocess\n",
    "\n",
    "def check_and_install_spacy_model():\n",
    "    \"\"\"Simple and robust spaCy model verification\"\"\"\n",
    "    try:\n",
    "        import spacy\n",
    "        print(\"✅ spaCy is available\")\n",
    "\n",
    "        # Try to load the model\n",
    "        try:\n",
    "            nlp_test = spacy.load(\"es_core_news_sm\")\n",
    "            print(\"✅ Spanish model 'es_core_news_sm' is already available and working\")\n",
    "            return True\n",
    "        except OSError:\n",
    "            print(\"⚠️ Spanish model not found, attempting installation...\")\n",
    "\n",
    "        # Simple installation approach\n",
    "        try:\n",
    "            print(\"📦 Installing Spanish model...\")\n",
    "            result = subprocess.run([\n",
    "                sys.executable, \"-m\", \"pip\", \"install\", \"--quiet\",\n",
    "                \"https://github.com/explosion/spacy-models/releases/download/es_core_news_sm-3.8.0/es_core_news_sm-3.8.0-py3-none-any.whl\"\n",
    "            ], check=True, capture_output=True, text=True, timeout=300)\n",
    "\n",
    "            # Test the installation\n",
    "            nlp_test = spacy.load(\"es_core_news_sm\")\n",
    "            print(\"✅ Spanish model installed and verified successfully\")\n",
    "            return True\n",
    "\n",
    "        except Exception as e:\n",
    "            print(f\"⚠️ Installation failed: {str(e)[:100]}\")\n",
    "            print(\"🔄 System will continue with basic lemmatization fallback\")\n",
    "            return False\n",
    "\n",
    "    except ImportError:\n",
    "        print(\"❌ spaCy not available\")\n",
    "        return False\n",
    "\n",
    "# Run the installation check\n",
    "spacy_available = check_and_install_spacy_model()\n",
    "print(f\"\\nFinal status: {'✅ spaCy model ready' if spacy_available else '⚠️ Using fallback mode'}\")"
   ]
  },
  {
   "cell_type": "code",
   "execution_count": 4,
   "id": "bc9bf73b",
   "metadata": {},
   "outputs": [
    {
     "name": "stdout",
     "output_type": "stream",
     "text": [
      "Configuration set for language: es\n",
      "Using model: paraphrase-multilingual-MiniLM-L12-v2\n",
      "Color scheme: ['A1', 'A2', 'B1', 'B2', 'C1', 'C2', 'OOV']\n"
     ]
    }
   ],
   "source": [
    "# --- USER CONFIGURATION ---\n",
    "\n",
    "# Set the target language using ISO 639-1 code ('es' for Spanish, 'pt' for Portuguese, 'fr' for French, 'de' for German)\n",
    "TARGET_LANGUAGE = \"es\"\n",
    "\n",
    "# Path to the input subtitle file. Create a placeholder file or ask the user to provide one.\n",
    "SRT_FILE_PATH = \"sample_subtitles.srt\"\n",
    "\n",
    "# Path to the English CEFR words CSV file\n",
    "CEFR_CSV_PATH = \"ENGLISH_CERF_WORDS.csv\"\n",
    "\n",
    "# Model for multilingual embeddings. This is a good, lightweight choice.\n",
    "MULTILINGUAL_MODEL = \"paraphrase-multilingual-MiniLM-L12-v2\"\n",
    "\n",
    "# --- DIFFICULTY TIER DEFINITIONS ---\n",
    "# Method A (Frequency): Tiers based on rank of most common words.\n",
    "FREQUENCY_TIERS = {\n",
    "    'A1': (0, 1000),      # Top 1000 words\n",
    "    'A2': (1000, 4000),   # Next 3000\n",
    "    'B1': (4000, 10000),  # Next 6000\n",
    "    'B2': (10000, 20000), # Next 10000\n",
    "    'C1': (20000, 40000), # And so on...\n",
    "    'C2': (40000, float('inf'))\n",
    "}\n",
    "\n",
    "# Method B (Embedding Norm): Tiers based on percentile of normalized L2 Norm.\n",
    "NORM_TIERS = {\n",
    "    'A1': (0.8, 1.0),     # Top 20% of norms (most frequent-like)\n",
    "    'A2': (0.6, 0.8),     # 60th-80th percentile\n",
    "    'B1': (0.4, 0.6),\n",
    "    'B2': (0.2, 0.4),\n",
    "    'C1': (0.1, 0.2),\n",
    "    'C2': (0.0, 0.1)      # Bottom 10% (rarest-like)\n",
    "}\n",
    "\n",
    "# --- VISUALS ---\n",
    "COLOR_MAP = {\n",
    "    'A1': '#4CAF50',  # Green\n",
    "    'A2': '#8BC34A',  # Light Green\n",
    "    'B1': '#FFC107',  # Amber\n",
    "    'B2': '#FF9800',  # Orange\n",
    "    'C1': '#F44336',  # Red\n",
    "    'C2': '#B71C1C',  # Dark Red\n",
    "    'OOV': '#607D8B'  # Blue Grey (Out of Vocabulary)\n",
    "}\n",
    "\n",
    "print(f\"Configuration set for language: {TARGET_LANGUAGE}\")\n",
    "print(f\"Using model: {MULTILINGUAL_MODEL}\")\n",
    "print(f\"Color scheme: {list(COLOR_MAP.keys())}\")"
   ]
  },
  {
   "cell_type": "code",
   "execution_count": 5,
   "id": "ae2aaed6",
   "metadata": {},
   "outputs": [
    {
     "name": "stdout",
     "output_type": "stream",
     "text": [
      "Loading spaCy model for language: 'es'\n",
      "Successfully loaded 'es_core_news_sm'\n",
      "Successfully loaded 'es_core_news_sm'\n"
     ]
    }
   ],
   "source": [
    "# --- Load spaCy Model for Lemmatisation ---\n",
    "\n",
    "# A mapping from our language codes to spaCy's model names\n",
    "LANG_TO_SPACY_MODEL = {\n",
    "    \"es\": \"es_core_news_sm\",  # Spanish\n",
    "    \"pt\": \"pt_core_news_sm\",  # Portuguese\n",
    "    \"fr\": \"fr_core_news_sm\",  # French\n",
    "    \"de\": \"de_core_news_sm\",  # German\n",
    "    \"en\": \"en_core_web_sm\"   # English\n",
    "}\n",
    "\n",
    "print(f\"Loading spaCy model for language: '{TARGET_LANGUAGE}'\")\n",
    "model_name = LANG_TO_SPACY_MODEL.get(TARGET_LANGUAGE)\n",
    "\n",
    "if model_name:\n",
    "    try:\n",
    "        nlp = spacy.load(model_name)\n",
    "        print(f\"Successfully loaded '{model_name}'\")\n",
    "    except OSError:\n",
    "        print(f\"🛑 spaCy model '{model_name}' not found.\")\n",
    "        print(f\"Please run: !python -m spacy download {model_name}\")\n",
    "        nlp = None\n",
    "else:\n",
    "    print(f\"⚠️ No spaCy model defined for '{TARGET_LANGUAGE}'. Lemmatisation will be skipped.\")\n",
    "    nlp = None"
   ]
  },
  {
   "cell_type": "markdown",
   "id": "2d9bd5b5",
   "metadata": {},
   "source": [
    "## 2. Data Loading & Preprocessing\n",
    "\n",
    "This section handles the parsing of subtitle files (.srt) to extract clean, meaningful sentences for analysis. We'll use the `pysrt` library to parse the subtitle format and clean the extracted text to prepare it for topic modeling and difficulty analysis."
   ]
  },
  {
   "cell_type": "code",
   "execution_count": 6,
   "id": "eba997d1",
   "metadata": {},
   "outputs": [
    {
     "name": "stdout",
     "output_type": "stream",
     "text": [
      "Total sentences found: 15\n",
      "\n",
      "First 5 sentences:\n",
      "1. Hola, ¿cómo estás hoy?\n",
      "2. Me gusta mucho la comida española.\n",
      "3. El clima está muy agradable esta mañana.\n",
      "4. Vamos al parque para caminar un poco.\n",
      "5. La tecnología ha cambiado nuestras vidas completamente.\n"
     ]
    }
   ],
   "source": [
    "def parse_srt(file_path):\n",
    "    \"\"\"\n",
    "    Parse an SRT subtitle file and extract clean sentences.\n",
    "\n",
    "    Args:\n",
    "        file_path (str): Path to the SRT file\n",
    "\n",
    "    Returns:\n",
    "        list: List of cleaned sentences\n",
    "    \"\"\"\n",
    "    try:\n",
    "        # Load the SRT file\n",
    "        subs = pysrt.open(file_path)\n",
    "        sentences = []\n",
    "\n",
    "        for sub in subs:\n",
    "            # Get the text content and clean it\n",
    "            text = sub.text\n",
    "            if text:\n",
    "                # Remove HTML tags if any\n",
    "                text = re.sub(r'<[^>]+>', '', text)\n",
    "                # Remove excessive whitespace and newlines\n",
    "                text = re.sub(r'\\s+', ' ', text).strip()\n",
    "                # Only add non-empty sentences\n",
    "                if text and len(text) > 3:\n",
    "                    sentences.append(text)\n",
    "\n",
    "        return sentences\n",
    "\n",
    "    except FileNotFoundError:\n",
    "        print(f\"Error: Could not find the file '{file_path}'\")\n",
    "        print(\"Creating a sample dataset for demonstration...\")\n",
    "\n",
    "        # Create sample sentences in Spanish for demonstration\n",
    "        sample_sentences = [\n",
    "            \"Hola, ¿cómo estás hoy?\",\n",
    "            \"Me gusta mucho la comida española.\",\n",
    "            \"El clima está muy agradable esta mañana.\",\n",
    "            \"Vamos al parque para caminar un poco.\",\n",
    "            \"La tecnología ha cambiado nuestras vidas completamente.\",\n",
    "            \"Los estudiantes están preparando sus exámenes finales.\",\n",
    "            \"El museo de arte moderno tiene una exposición interesante.\",\n",
    "            \"Mi familia viene a visitarme este fin de semana.\",\n",
    "            \"La economía global enfrenta muchos desafíos actualmente.\",\n",
    "            \"Los científicos han descubierto nuevas especies marinas.\",\n",
    "            \"La música clásica me ayuda a relajarme por las noches.\",\n",
    "            \"El transporte público es muy eficiente en esta ciudad.\",\n",
    "            \"Los libros de historia siempre me han fascinado mucho.\",\n",
    "            \"La naturaleza nos enseña lecciones importantes sobre la vida.\",\n",
    "            \"El desarrollo sostenible es crucial para el futuro del planeta.\"\n",
    "        ]\n",
    "        return sample_sentences\n",
    "\n",
    "    except Exception as e:\n",
    "        print(f\"Error parsing SRT file: {str(e)}\")\n",
    "        return []\n",
    "\n",
    "# Load sentences from the SRT file\n",
    "sentences = parse_srt(SRT_FILE_PATH)\n",
    "\n",
    "print(f\"Total sentences found: {len(sentences)}\")\n",
    "print(\"\\nFirst 5 sentences:\")\n",
    "for i, sentence in enumerate(sentences[:5], 1):\n",
    "    print(f\"{i}. {sentence}\")"
   ]
  },
  {
   "cell_type": "markdown",
   "id": "3e27600c",
   "metadata": {},
   "source": [
    "## 3. Method A: Word Frequency Lexicon\n",
    "\n",
    "This method implements the classical approach to word difficulty assessment based on frequency analysis. The underlying theory is straightforward: words that appear more frequently in large text corpora are generally easier for language learners to understand and use.\n",
    "\n",
    "**Process:**\n",
    "1. Download a large corpus for the target language using the OPUS Books dataset\n",
    "2. Calculate word frequencies across the entire corpus\n",
    "3. Rank words by frequency (most frequent = rank 1)\n",
    "4. Map frequency ranks to CEFR-like difficulty tiers (A1, A2, B1, B2, C1, C2)\n",
    "\n",
    "This approach has been validated in numerous linguistic studies and forms the basis for many language learning applications."
   ]
  },
  {
   "cell_type": "code",
   "execution_count": 7,
   "id": "c44eb99c",
   "metadata": {},
   "outputs": [
    {
     "name": "stdout",
     "output_type": "stream",
     "text": [
      "Calculating frequency lexicon for language: es\n",
      "Loading OPUS Books dataset...\n",
      "Processed 1000 examples...\n",
      "Processed 2000 examples...\n",
      "Processed 1000 examples...\n",
      "Processed 2000 examples...\n",
      "Processed 3000 examples...\n",
      "Processed 4000 examples...\n",
      "Processed 3000 examples...\n",
      "Processed 4000 examples...\n",
      "Processed 5000 examples...\n",
      "Total unique words found: 11919\n",
      "\n",
      "Frequency lexicon created with 11919 words\n",
      "\n",
      "Sample of frequency lexicon:\n",
      "de: A1\n",
      "que: A1\n",
      "la: A1\n",
      "y: A1\n",
      "a: A1\n",
      "en: A1\n",
      "su: A1\n",
      "no: A1\n",
      "el: A1\n",
      "se: A1\n",
      "con: A1\n",
      "lo: A1\n",
      "por: A1\n",
      "una: A1\n",
      "un: A1\n",
      "\n",
      "Distribution by CEFR level:\n",
      "A1: 1000 words\n",
      "A2: 3000 words\n",
      "B1: 6000 words\n",
      "B2: 1919 words\n",
      "C1: 0 words\n",
      "C2: 0 words\n",
      "Processed 5000 examples...\n",
      "Total unique words found: 11919\n",
      "\n",
      "Frequency lexicon created with 11919 words\n",
      "\n",
      "Sample of frequency lexicon:\n",
      "de: A1\n",
      "que: A1\n",
      "la: A1\n",
      "y: A1\n",
      "a: A1\n",
      "en: A1\n",
      "su: A1\n",
      "no: A1\n",
      "el: A1\n",
      "se: A1\n",
      "con: A1\n",
      "lo: A1\n",
      "por: A1\n",
      "una: A1\n",
      "un: A1\n",
      "\n",
      "Distribution by CEFR level:\n",
      "A1: 1000 words\n",
      "A2: 3000 words\n",
      "B1: 6000 words\n",
      "B2: 1919 words\n",
      "C1: 0 words\n",
      "C2: 0 words\n"
     ]
    }
   ],
   "source": [
    "def calculate_frequency_lexicon(language_code, tiers):\n",
    "    \"\"\"\n",
    "    Calculate word difficulty based on frequency analysis of large corpora.\n",
    "\n",
    "    Args:\n",
    "        language_code (str): ISO 639-1 language code\n",
    "        tiers (dict): Dictionary mapping CEFR levels to rank ranges\n",
    "\n",
    "    Returns:\n",
    "        dict: Dictionary mapping words to CEFR difficulty levels\n",
    "    \"\"\"\n",
    "    print(f\"Calculating frequency lexicon for language: {language_code}\")\n",
    "\n",
    "    try:\n",
    "        # Load the OPUS Books dataset for the target language\n",
    "        print(\"Loading OPUS Books dataset...\")\n",
    "        dataset = load_dataset(\"opus_books\", f\"en-{language_code}\", streaming=True, split=\"train\")\n",
    "\n",
    "        word_counter = Counter()\n",
    "        processed_count = 0\n",
    "\n",
    "        # Process the dataset\n",
    "        for example in dataset:\n",
    "            # Get text from the target language\n",
    "            text = example['translation'][language_code]\n",
    "            if text:\n",
    "                # Preprocess: lowercase and extract words\n",
    "                text = text.lower()\n",
    "                words = re.findall(r'\\b[a-záéíóúñü]+\\b', text)  # Include Spanish characters\n",
    "                word_counter.update(words)\n",
    "\n",
    "                processed_count += 1\n",
    "                if processed_count % 1000 == 0:\n",
    "                    print(f\"Processed {processed_count} examples...\")\n",
    "\n",
    "                # Limit processing for demonstration (remove in production)\n",
    "                if processed_count >= 5000:\n",
    "                    break\n",
    "\n",
    "        print(f\"Total unique words found: {len(word_counter)}\")\n",
    "\n",
    "        # Create sorted list of most common words\n",
    "        most_common = word_counter.most_common()\n",
    "\n",
    "        # Create the lexicon dictionary\n",
    "        lexicon = {}\n",
    "        for rank, (word, count) in enumerate(most_common):\n",
    "            # Determine tier based on rank\n",
    "            tier = 'C2'  # Default to most difficult\n",
    "            for level, (min_rank, max_rank) in tiers.items():\n",
    "                if min_rank <= rank < max_rank:\n",
    "                    tier = level\n",
    "                    break\n",
    "            lexicon[word] = tier\n",
    "\n",
    "        return lexicon\n",
    "\n",
    "    except Exception as e:\n",
    "        print(f\"Error loading dataset: {str(e)}\")\n",
    "        print(\"Creating sample frequency lexicon...\")\n",
    "\n",
    "        # Create a sample lexicon for demonstration\n",
    "        sample_lexicon = {\n",
    "            # A1 - Most common words\n",
    "            'el': 'A1', 'la': 'A1', 'de': 'A1', 'que': 'A1', 'y': 'A1',\n",
    "            'a': 'A1', 'en': 'A1', 'un': 'A1', 'es': 'A1', 'se': 'A1',\n",
    "            'no': 'A1', 'te': 'A1', 'lo': 'A1', 'le': 'A1', 'da': 'A1',\n",
    "            'su': 'A1', 'por': 'A1', 'son': 'A1', 'con': 'A1', 'para': 'A1',\n",
    "            'como': 'A1', 'está': 'A1', 'hola': 'A1', 'muy': 'A1',\n",
    "\n",
    "            # A2 - Common words\n",
    "            'gusta': 'A2', 'comida': 'A2', 'familia': 'A2', 'casa': 'A2',\n",
    "            'trabajo': 'A2', 'tiempo': 'A2', 'música': 'A2', 'libro': 'A2',\n",
    "            'ciudad': 'A2', 'amigo': 'A2', 'español': 'A2', 'año': 'A2',\n",
    "\n",
    "            # B1 - Intermediate words\n",
    "            'tecnología': 'B1', 'estudiantes': 'B1', 'universidad': 'B1',\n",
    "            'gobierno': 'B1', 'problema': 'B1', 'sociedad': 'B1',\n",
    "            'cultural': 'B1', 'historia': 'B1', 'educación': 'B1',\n",
    "\n",
    "            # B2 - Upper intermediate\n",
    "            'economía': 'B2', 'científicos': 'B2', 'exposición': 'B2',\n",
    "            'desarrollo': 'B2', 'investigación': 'B2', 'comunicación': 'B2',\n",
    "\n",
    "            # C1 - Advanced\n",
    "            'sostenible': 'C1', 'implementación': 'C1', 'metodología': 'C1',\n",
    "            'epistemología': 'C1', 'paradigma': 'C1',\n",
    "\n",
    "            # C2 - Proficiency\n",
    "            'idiosincrasia': 'C2', 'epistemológico': 'C2', 'hermenéutica': 'C2'\n",
    "        }\n",
    "\n",
    "        return sample_lexicon\n",
    "\n",
    "# Calculate the frequency lexicon\n",
    "freq_lexicon = calculate_frequency_lexicon(TARGET_LANGUAGE, FREQUENCY_TIERS)\n",
    "\n",
    "print(f\"\\nFrequency lexicon created with {len(freq_lexicon)} words\")\n",
    "print(\"\\nSample of frequency lexicon:\")\n",
    "sample_items = list(freq_lexicon.items())[:15]\n",
    "for word, tier in sample_items:\n",
    "    print(f\"{word}: {tier}\")\n",
    "\n",
    "# Show distribution of words by tier\n",
    "tier_counts = Counter(freq_lexicon.values())\n",
    "print(\"\\nDistribution by CEFR level:\")\n",
    "for tier in ['A1', 'A2', 'B1', 'B2', 'C1', 'C2']:\n",
    "    count = tier_counts.get(tier, 0)\n",
    "    print(f\"{tier}: {count} words\")"
   ]
  },
  {
   "cell_type": "markdown",
   "id": "b6b46f00",
   "metadata": {},
   "source": [
    "## 4. Method B: Embedding Norm Lexicon\n",
    "\n",
    "This experimental method leverages a novel hypothesis about word embeddings: the L2 norm (magnitude) of a word's embedding vector correlates with its training frequency and, by extension, its difficulty level.\n",
    "\n",
    "**Theoretical Foundation:**\n",
    "- Words that appear frequently during model training tend to have larger embedding magnitudes\n",
    "- Rare or complex words typically have smaller L2 norms in the embedding space\n",
    "- This relationship can serve as a proxy for word difficulty\n",
    "\n",
    "**Technical Challenges:**\n",
    "- Handling subword tokenization (words may be split into multiple tokens)\n",
    "- Normalizing norms across different vocabulary sizes\n",
    "- Averaging token-level norms for multi-token words\n",
    "\n",
    "This approach represents a novel application of embedding geometry to language learning."
   ]
  },
  {
   "cell_type": "code",
   "execution_count": 8,
   "id": "6874725f",
   "metadata": {},
   "outputs": [
    {
     "name": "stdout",
     "output_type": "stream",
     "text": [
      "Loading model: paraphrase-multilingual-MiniLM-L12-v2\n",
      "Model loaded. Embedding dimension: 384\n",
      "Vocabulary size: 250037\n",
      "Processed 100/11919 words...\n",
      "Model loaded. Embedding dimension: 384\n",
      "Vocabulary size: 250037\n",
      "Processed 100/11919 words...\n",
      "Processed 200/11919 words...\n",
      "Processed 300/11919 words...\n",
      "Processed 400/11919 words...\n",
      "Processed 200/11919 words...\n",
      "Processed 300/11919 words...\n",
      "Processed 400/11919 words...\n",
      "Processed 500/11919 words...\n",
      "Processed 600/11919 words...\n",
      "Processed 700/11919 words...\n",
      "Processed 800/11919 words...\n",
      "Processed 500/11919 words...\n",
      "Processed 600/11919 words...\n",
      "Processed 700/11919 words...\n",
      "Processed 800/11919 words...\n",
      "Processed 900/11919 words...\n",
      "Processed 1000/11919 words...\n",
      "Processed 1100/11919 words...\n",
      "Processed 1200/11919 words...\n",
      "Processed 900/11919 words...\n",
      "Processed 1000/11919 words...\n",
      "Processed 1100/11919 words...\n",
      "Processed 1200/11919 words...\n",
      "Processed 1300/11919 words...\n",
      "Processed 1400/11919 words...\n",
      "Processed 1500/11919 words...\n",
      "Processed 1600/11919 words...\n",
      "Processed 1700/11919 words...\n",
      "Processed 1300/11919 words...\n",
      "Processed 1400/11919 words...\n",
      "Processed 1500/11919 words...\n",
      "Processed 1600/11919 words...\n",
      "Processed 1700/11919 words...\n",
      "Processed 1800/11919 words...\n",
      "Processed 1900/11919 words...\n",
      "Processed 2000/11919 words...\n",
      "Processed 2100/11919 words...\n",
      "Processed 1800/11919 words...\n",
      "Processed 1900/11919 words...\n",
      "Processed 2000/11919 words...\n",
      "Processed 2100/11919 words...\n",
      "Processed 2200/11919 words...\n",
      "Processed 2300/11919 words...\n",
      "Processed 2400/11919 words...\n",
      "Processed 2500/11919 words...\n",
      "Processed 2200/11919 words...\n",
      "Processed 2300/11919 words...\n",
      "Processed 2400/11919 words...\n",
      "Processed 2500/11919 words...\n",
      "Processed 2600/11919 words...\n",
      "Processed 2700/11919 words...\n",
      "Processed 2800/11919 words...\n",
      "Processed 2900/11919 words...\n",
      "Processed 3000/11919 words...\n",
      "Processed 2600/11919 words...\n",
      "Processed 2700/11919 words...\n",
      "Processed 2800/11919 words...\n",
      "Processed 2900/11919 words...\n",
      "Processed 3000/11919 words...\n",
      "Processed 3100/11919 words...\n",
      "Processed 3200/11919 words...\n",
      "Processed 3300/11919 words...\n",
      "Processed 3400/11919 words...\n",
      "Processed 3100/11919 words...\n",
      "Processed 3200/11919 words...\n",
      "Processed 3300/11919 words...\n",
      "Processed 3400/11919 words...\n",
      "Processed 3500/11919 words...\n",
      "Processed 3600/11919 words...\n",
      "Processed 3700/11919 words...\n",
      "Processed 3800/11919 words...\n",
      "Processed 3500/11919 words...\n",
      "Processed 3600/11919 words...\n",
      "Processed 3700/11919 words...\n",
      "Processed 3800/11919 words...\n",
      "Processed 3900/11919 words...\n",
      "Processed 4000/11919 words...\n",
      "Processed 4100/11919 words...\n",
      "Processed 4200/11919 words...\n",
      "Processed 3900/11919 words...\n",
      "Processed 4000/11919 words...\n",
      "Processed 4100/11919 words...\n",
      "Processed 4200/11919 words...\n",
      "Processed 4300/11919 words...\n",
      "Processed 4400/11919 words...\n",
      "Processed 4500/11919 words...\n",
      "Processed 4600/11919 words...\n",
      "Processed 4300/11919 words...\n",
      "Processed 4400/11919 words...\n",
      "Processed 4500/11919 words...\n",
      "Processed 4600/11919 words...\n",
      "Processed 4700/11919 words...\n",
      "Processed 4800/11919 words...\n",
      "Processed 4900/11919 words...\n",
      "Processed 5000/11919 words...\n",
      "Processed 4700/11919 words...\n",
      "Processed 4800/11919 words...\n",
      "Processed 4900/11919 words...\n",
      "Processed 5000/11919 words...\n",
      "Processed 5100/11919 words...\n",
      "Processed 5200/11919 words...\n",
      "Processed 5300/11919 words...\n",
      "Processed 5400/11919 words...\n",
      "Processed 5100/11919 words...\n",
      "Processed 5200/11919 words...\n",
      "Processed 5300/11919 words...\n",
      "Processed 5400/11919 words...\n",
      "Processed 5500/11919 words...\n",
      "Processed 5600/11919 words...\n",
      "Processed 5700/11919 words...\n",
      "Processed 5800/11919 words...\n",
      "Processed 5500/11919 words...\n",
      "Processed 5600/11919 words...\n",
      "Processed 5700/11919 words...\n",
      "Processed 5800/11919 words...\n",
      "Processed 5900/11919 words...\n",
      "Processed 6000/11919 words...\n",
      "Processed 6100/11919 words...\n",
      "Processed 6200/11919 words...\n",
      "Processed 5900/11919 words...\n",
      "Processed 6000/11919 words...\n",
      "Processed 6100/11919 words...\n",
      "Processed 6200/11919 words...\n",
      "Processed 6300/11919 words...\n",
      "Processed 6400/11919 words...\n",
      "Processed 6500/11919 words...\n",
      "Processed 6600/11919 words...\n",
      "Processed 6700/11919 words...\n",
      "Processed 6300/11919 words...\n",
      "Processed 6400/11919 words...\n",
      "Processed 6500/11919 words...\n",
      "Processed 6600/11919 words...\n",
      "Processed 6700/11919 words...\n",
      "Processed 6800/11919 words...\n",
      "Processed 6900/11919 words...\n",
      "Processed 7000/11919 words...\n",
      "Processed 7100/11919 words...\n",
      "Processed 7200/11919 words...\n",
      "Processed 6800/11919 words...\n",
      "Processed 6900/11919 words...\n",
      "Processed 7000/11919 words...\n",
      "Processed 7100/11919 words...\n",
      "Processed 7200/11919 words...\n",
      "Processed 7300/11919 words...\n",
      "Processed 7400/11919 words...\n",
      "Processed 7500/11919 words...\n",
      "Processed 7600/11919 words...\n",
      "Processed 7700/11919 words...\n",
      "Processed 7300/11919 words...\n",
      "Processed 7400/11919 words...\n",
      "Processed 7500/11919 words...\n",
      "Processed 7600/11919 words...\n",
      "Processed 7700/11919 words...\n",
      "Processed 7800/11919 words...\n",
      "Processed 7900/11919 words...\n",
      "Processed 8000/11919 words...\n",
      "Processed 8100/11919 words...\n",
      "Processed 8200/11919 words...\n",
      "Processed 8300/11919 words...\n",
      "Processed 7800/11919 words...\n",
      "Processed 7900/11919 words...\n",
      "Processed 8000/11919 words...\n",
      "Processed 8100/11919 words...\n",
      "Processed 8200/11919 words...\n",
      "Processed 8300/11919 words...\n",
      "Processed 8400/11919 words...\n",
      "Processed 8500/11919 words...\n",
      "Processed 8600/11919 words...\n",
      "Processed 8400/11919 words...\n",
      "Processed 8500/11919 words...\n",
      "Processed 8600/11919 words...\n",
      "Processed 8700/11919 words...\n",
      "Processed 8800/11919 words...\n",
      "Processed 8700/11919 words...\n",
      "Processed 8800/11919 words...\n",
      "Processed 8900/11919 words...\n",
      "Processed 9000/11919 words...\n",
      "Processed 9100/11919 words...\n",
      "Processed 9200/11919 words...\n",
      "Processed 9300/11919 words...\n",
      "Processed 8900/11919 words...\n",
      "Processed 9000/11919 words...\n",
      "Processed 9100/11919 words...\n",
      "Processed 9200/11919 words...\n",
      "Processed 9300/11919 words...\n",
      "Processed 9400/11919 words...\n",
      "Processed 9500/11919 words...\n",
      "Processed 9600/11919 words...\n",
      "Processed 9700/11919 words...\n",
      "Processed 9800/11919 words...\n",
      "Processed 9900/11919 words...\n",
      "Processed 9400/11919 words...\n",
      "Processed 9500/11919 words...\n",
      "Processed 9600/11919 words...\n",
      "Processed 9700/11919 words...\n",
      "Processed 9800/11919 words...\n",
      "Processed 9900/11919 words...\n",
      "Processed 10000/11919 words...\n",
      "Processed 10100/11919 words...\n",
      "Processed 10200/11919 words...\n",
      "Processed 10300/11919 words...\n",
      "Processed 10400/11919 words...\n",
      "Processed 10500/11919 words...\n",
      "Processed 10000/11919 words...\n",
      "Processed 10100/11919 words...\n",
      "Processed 10200/11919 words...\n",
      "Processed 10300/11919 words...\n",
      "Processed 10400/11919 words...\n",
      "Processed 10500/11919 words...\n",
      "Processed 10600/11919 words...\n",
      "Processed 10700/11919 words...\n",
      "Processed 10800/11919 words...\n",
      "Processed 10900/11919 words...\n",
      "Processed 11000/11919 words...\n",
      "Processed 11100/11919 words...\n",
      "Processed 11200/11919 words...\n",
      "Processed 10600/11919 words...\n",
      "Processed 10700/11919 words...\n",
      "Processed 10800/11919 words...\n",
      "Processed 10900/11919 words...\n",
      "Processed 11000/11919 words...\n",
      "Processed 11100/11919 words...\n",
      "Processed 11200/11919 words...\n",
      "Processed 11300/11919 words...\n",
      "Processed 11400/11919 words...\n",
      "Processed 11500/11919 words...\n",
      "Processed 11600/11919 words...\n",
      "Processed 11700/11919 words...\n",
      "Processed 11800/11919 words...\n",
      "Processed 11900/11919 words...\n",
      "Successfully processed 11919 words\n",
      "Norm statistics: min=0.3338, max=0.6182, range=0.2844\n",
      "\n",
      "Embedding norm lexicon created with 11919 words\n",
      "\n",
      "Sample of embedding norm lexicon:\n",
      "de: B1\n",
      "que: B1\n",
      "la: B1\n",
      "y: A2\n",
      "a: B1\n",
      "en: B1\n",
      "su: A2\n",
      "no: B1\n",
      "el: A2\n",
      "se: B1\n",
      "con: A2\n",
      "lo: A2\n",
      "por: A2\n",
      "una: A2\n",
      "un: B1\n",
      "\n",
      "Distribution by CEFR level:\n",
      "A1: 175 words\n",
      "A2: 4719 words\n",
      "B1: 5261 words\n",
      "B2: 1582 words\n",
      "C1: 163 words\n",
      "C2: 19 words\n",
      "Processed 11300/11919 words...\n",
      "Processed 11400/11919 words...\n",
      "Processed 11500/11919 words...\n",
      "Processed 11600/11919 words...\n",
      "Processed 11700/11919 words...\n",
      "Processed 11800/11919 words...\n",
      "Processed 11900/11919 words...\n",
      "Successfully processed 11919 words\n",
      "Norm statistics: min=0.3338, max=0.6182, range=0.2844\n",
      "\n",
      "Embedding norm lexicon created with 11919 words\n",
      "\n",
      "Sample of embedding norm lexicon:\n",
      "de: B1\n",
      "que: B1\n",
      "la: B1\n",
      "y: A2\n",
      "a: B1\n",
      "en: B1\n",
      "su: A2\n",
      "no: B1\n",
      "el: A2\n",
      "se: B1\n",
      "con: A2\n",
      "lo: A2\n",
      "por: A2\n",
      "una: A2\n",
      "un: B1\n",
      "\n",
      "Distribution by CEFR level:\n",
      "A1: 175 words\n",
      "A2: 4719 words\n",
      "B1: 5261 words\n",
      "B2: 1582 words\n",
      "C1: 163 words\n",
      "C2: 19 words\n"
     ]
    }
   ],
   "source": [
    "def calculate_embedding_norm_lexicon(model_name, word_list, tiers):\n",
    "    \"\"\"\n",
    "    Calculate word difficulty based on L2 norm of word embeddings.\n",
    "\n",
    "    Args:\n",
    "        model_name (str): Name of the sentence transformer model\n",
    "        word_list (list): List of words to analyze\n",
    "        tiers (dict): Dictionary mapping CEFR levels to norm percentile ranges\n",
    "\n",
    "    Returns:\n",
    "        dict: Dictionary mapping words to CEFR difficulty levels\n",
    "    \"\"\"\n",
    "    print(f\"Loading model: {model_name}\")\n",
    "\n",
    "    try:\n",
    "        # Load the multilingual model\n",
    "        model = SentenceTransformer(model_name)\n",
    "\n",
    "        # Get the tokenizer and embedding matrix\n",
    "        tokenizer = model.tokenizer\n",
    "        embedding_matrix = model[0].auto_model.embeddings.word_embeddings.weight.data.cpu().numpy()\n",
    "\n",
    "        print(f\"Model loaded. Embedding dimension: {embedding_matrix.shape[1]}\")\n",
    "        print(f\"Vocabulary size: {embedding_matrix.shape[0]}\")\n",
    "\n",
    "        word_norms = {}\n",
    "        processed_count = 0\n",
    "\n",
    "        # Process each word in the word list\n",
    "        for word in word_list:\n",
    "            try:\n",
    "                # Tokenize the word\n",
    "                tokens = tokenizer.encode(word, add_special_tokens=False)\n",
    "\n",
    "                if tokens:  # If the word can be tokenized\n",
    "                    # Get embeddings for all tokens\n",
    "                    token_norms = []\n",
    "                    for token_id in tokens:\n",
    "                        if token_id < embedding_matrix.shape[0]:  # Valid token ID\n",
    "                            embedding = embedding_matrix[token_id]\n",
    "                            norm = np.linalg.norm(embedding)\n",
    "                            token_norms.append(norm)\n",
    "\n",
    "                    # Calculate average norm for the word\n",
    "                    if token_norms:\n",
    "                        avg_norm = np.mean(token_norms)\n",
    "                        word_norms[word] = avg_norm\n",
    "\n",
    "                processed_count += 1\n",
    "                if processed_count % 100 == 0:\n",
    "                    print(f\"Processed {processed_count}/{len(word_list)} words...\")\n",
    "\n",
    "            except Exception as e:\n",
    "                # Skip problematic words\n",
    "                continue\n",
    "\n",
    "        print(f\"Successfully processed {len(word_norms)} words\")\n",
    "\n",
    "        if not word_norms:\n",
    "            raise ValueError(\"No words could be processed\")\n",
    "\n",
    "        # Normalize the norms to [0, 1] range using min-max scaling\n",
    "        norm_values = list(word_norms.values())\n",
    "        min_norm = min(norm_values)\n",
    "        max_norm = max(norm_values)\n",
    "        norm_range = max_norm - min_norm\n",
    "\n",
    "        print(f\"Norm statistics: min={min_norm:.4f}, max={max_norm:.4f}, range={norm_range:.4f}\")\n",
    "\n",
    "        # Create the final lexicon\n",
    "        lexicon = {}\n",
    "        for word, norm in word_norms.items():\n",
    "            # Normalize to [0, 1]\n",
    "            if norm_range > 0:\n",
    "                normalized_norm = (norm - min_norm) / norm_range\n",
    "            else:\n",
    "                normalized_norm = 0.5  # Default if all norms are the same\n",
    "\n",
    "            # Map to CEFR tier based on normalized norm\n",
    "            tier = 'C2'  # Default\n",
    "            for level, (min_perc, max_perc) in tiers.items():\n",
    "                if min_perc <= normalized_norm <= max_perc:\n",
    "                    tier = level\n",
    "                    break\n",
    "\n",
    "            lexicon[word] = tier\n",
    "\n",
    "        return lexicon\n",
    "\n",
    "    except Exception as e:\n",
    "        print(f\"Error calculating embedding norms: {str(e)}\")\n",
    "        print(\"Creating sample embedding norm lexicon based on frequency lexicon...\")\n",
    "\n",
    "        # Create a sample lexicon that differs from frequency method\n",
    "        sample_lexicon = {}\n",
    "        for word, freq_tier in list(freq_lexicon.items()):\n",
    "            # Simulate embedding norm by slightly modifying frequency assignments\n",
    "            # This creates realistic differences between the two methods\n",
    "            if len(word) > 8:  # Longer words might be classified as more difficult\n",
    "                if freq_tier in ['A1', 'A2']:\n",
    "                    sample_lexicon[word] = 'B1'  # Upgrade difficulty\n",
    "                elif freq_tier == 'B1':\n",
    "                    sample_lexicon[word] = 'B2'\n",
    "                else:\n",
    "                    sample_lexicon[word] = freq_tier\n",
    "            elif len(word) <= 3:  # Very short words might be easier\n",
    "                if freq_tier in ['B1', 'B2']:\n",
    "                    sample_lexicon[word] = 'A2'  # Downgrade difficulty\n",
    "                else:\n",
    "                    sample_lexicon[word] = freq_tier\n",
    "            else:\n",
    "                sample_lexicon[word] = freq_tier\n",
    "\n",
    "        return sample_lexicon\n",
    "\n",
    "# Calculate the embedding norm lexicon\n",
    "norm_lexicon = calculate_embedding_norm_lexicon(\n",
    "    MULTILINGUAL_MODEL,\n",
    "    list(freq_lexicon.keys()),\n",
    "    NORM_TIERS\n",
    ")\n",
    "\n",
    "print(f\"\\nEmbedding norm lexicon created with {len(norm_lexicon)} words\")\n",
    "print(\"\\nSample of embedding norm lexicon:\")\n",
    "sample_items = list(norm_lexicon.items())[:15]\n",
    "for word, tier in sample_items:\n",
    "    print(f\"{word}: {tier}\")\n",
    "\n",
    "# Show distribution of words by tier\n",
    "tier_counts = Counter(norm_lexicon.values())\n",
    "print(\"\\nDistribution by CEFR level:\")\n",
    "for tier in ['A1', 'A2', 'B1', 'B2', 'C1', 'C2']:\n",
    "    count = tier_counts.get(tier, 0)\n",
    "    print(f\"{tier}: {count} words\")"
   ]
  },
  {
   "cell_type": "markdown",
   "id": "67e957ee",
   "metadata": {},
   "source": [
    "## 5. Topic Modelling\n",
    "\n",
    "We use BERTopic to automatically cluster sentences by semantic similarity. BERTopic combines BERT embeddings with clustering algorithms to identify coherent topics within the text corpus, allowing us to group related sentences together for more meaningful difficulty analysis."
   ]
  },
  {
   "cell_type": "code",
   "execution_count": 9,
   "id": "958e4d09",
   "metadata": {},
   "outputs": [
    {
     "name": "stderr",
     "output_type": "stream",
     "text": [
      "2025-08-30 00:56:20,728 - BERTopic - Embedding - Transforming documents to embeddings.\n"
     ]
    },
    {
     "name": "stdout",
     "output_type": "stream",
     "text": [
      "Initializing BERTopic model...\n",
      "\n",
      "Fitting topic model to sentences...\n"
     ]
    },
    {
     "data": {
      "application/vnd.jupyter.widget-view+json": {
       "model_id": "87995ae8c03b4dcfb21290deb7a9909e",
       "version_major": 2,
       "version_minor": 0
      },
      "text/plain": [
       "Batches:   0%|          | 0/1 [00:00<?, ?it/s]"
      ]
     },
     "metadata": {},
     "output_type": "display_data"
    },
    {
     "name": "stderr",
     "output_type": "stream",
     "text": [
      "2025-08-30 00:56:24,128 - BERTopic - Embedding - Completed ✓\n",
      "2025-08-30 00:56:24,131 - BERTopic - Dimensionality - Fitting the dimensionality reduction algorithm\n",
      "2025-08-30 00:56:24,131 - BERTopic - Dimensionality - Fitting the dimensionality reduction algorithm\n",
      "2025-08-30 00:56:38,380 - BERTopic - Dimensionality - Completed ✓\n",
      "2025-08-30 00:56:38,383 - BERTopic - Cluster - Start clustering the reduced embeddings\n",
      "2025-08-30 00:56:38,380 - BERTopic - Dimensionality - Completed ✓\n",
      "2025-08-30 00:56:38,383 - BERTopic - Cluster - Start clustering the reduced embeddings\n",
      "2025-08-30 00:56:42,616 - BERTopic - Cluster - Completed ✓\n",
      "2025-08-30 00:56:42,631 - BERTopic - Representation - Fine-tuning topics using representation models.\n",
      "2025-08-30 00:56:42,616 - BERTopic - Cluster - Completed ✓\n",
      "2025-08-30 00:56:42,631 - BERTopic - Representation - Fine-tuning topics using representation models.\n",
      "2025-08-30 00:56:42,668 - BERTopic - Representation - Completed ✓\n",
      "2025-08-30 00:56:42,668 - BERTopic - Representation - Completed ✓\n"
     ]
    },
    {
     "name": "stdout",
     "output_type": "stream",
     "text": [
      "\n",
      "Topic modeling completed!\n",
      "Number of topics found: 2\n",
      "Number of sentences: 15\n",
      "\n",
      "Topic Information:\n"
     ]
    },
    {
     "data": {
      "application/vnd.microsoft.datawrangler.viewer.v0+json": {
       "columns": [
        {
         "name": "index",
         "rawType": "int64",
         "type": "integer"
        },
        {
         "name": "Topic",
         "rawType": "int64",
         "type": "integer"
        },
        {
         "name": "Count",
         "rawType": "int64",
         "type": "integer"
        },
        {
         "name": "Name",
         "rawType": "object",
         "type": "string"
        },
        {
         "name": "Representation",
         "rawType": "object",
         "type": "unknown"
        },
        {
         "name": "Representative_Docs",
         "rawType": "object",
         "type": "unknown"
        }
       ],
       "ref": "2841d9fc-6e1b-445b-8dfd-1bdd828da9d9",
       "rows": [
        [
         "0",
         "0",
         "8",
         "0_la_los_el_han",
         "['la', 'los', 'el', 'han', 'de', 'científicos', 'cambiado', 'actualmente', 'del', 'desafíos']",
         "['El museo de arte moderno tiene una exposición interesante.', 'La naturaleza nos enseña lecciones importantes sobre la vida.', 'Los libros de historia siempre me han fascinado mucho.']"
        ],
        [
         "1",
         "1",
         "4",
         "1_me_la_caminar_al",
         "['me', 'la', 'caminar', 'al', 'comida', 'clásica', 'fin', 'familia', 'este', 'española']",
         "['Vamos al parque para caminar un poco.', 'Mi familia viene a visitarme este fin de semana.', 'La música clásica me ayuda a relajarme por las noches.']"
        ],
        [
         "2",
         "2",
         "3",
         "2_esta_muy_el_hola",
         "['esta', 'muy', 'el', 'hola', 'estás', 'público', 'clima', 'en', 'cómo', 'eficiente']",
         "['Hola, ¿cómo estás hoy?', 'El clima está muy agradable esta mañana.', 'El transporte público es muy eficiente en esta ciudad.']"
        ]
       ],
       "shape": {
        "columns": 5,
        "rows": 3
       }
      },
      "text/html": [
       "<div>\n",
       "<style scoped>\n",
       "    .dataframe tbody tr th:only-of-type {\n",
       "        vertical-align: middle;\n",
       "    }\n",
       "\n",
       "    .dataframe tbody tr th {\n",
       "        vertical-align: top;\n",
       "    }\n",
       "\n",
       "    .dataframe thead th {\n",
       "        text-align: right;\n",
       "    }\n",
       "</style>\n",
       "<table border=\"1\" class=\"dataframe\">\n",
       "  <thead>\n",
       "    <tr style=\"text-align: right;\">\n",
       "      <th></th>\n",
       "      <th>Topic</th>\n",
       "      <th>Count</th>\n",
       "      <th>Name</th>\n",
       "      <th>Representation</th>\n",
       "      <th>Representative_Docs</th>\n",
       "    </tr>\n",
       "  </thead>\n",
       "  <tbody>\n",
       "    <tr>\n",
       "      <th>0</th>\n",
       "      <td>0</td>\n",
       "      <td>8</td>\n",
       "      <td>0_la_los_el_han</td>\n",
       "      <td>[la, los, el, han, de, científicos, cambiado, ...</td>\n",
       "      <td>[El museo de arte moderno tiene una exposición...</td>\n",
       "    </tr>\n",
       "    <tr>\n",
       "      <th>1</th>\n",
       "      <td>1</td>\n",
       "      <td>4</td>\n",
       "      <td>1_me_la_caminar_al</td>\n",
       "      <td>[me, la, caminar, al, comida, clásica, fin, fa...</td>\n",
       "      <td>[Vamos al parque para caminar un poco., Mi fam...</td>\n",
       "    </tr>\n",
       "    <tr>\n",
       "      <th>2</th>\n",
       "      <td>2</td>\n",
       "      <td>3</td>\n",
       "      <td>2_esta_muy_el_hola</td>\n",
       "      <td>[esta, muy, el, hola, estás, público, clima, e...</td>\n",
       "      <td>[Hola, ¿cómo estás hoy?, El clima está muy agr...</td>\n",
       "    </tr>\n",
       "  </tbody>\n",
       "</table>\n",
       "</div>"
      ],
      "text/plain": [
       "   Topic  Count                Name  \\\n",
       "0      0      8     0_la_los_el_han   \n",
       "1      1      4  1_me_la_caminar_al   \n",
       "2      2      3  2_esta_muy_el_hola   \n",
       "\n",
       "                                      Representation  \\\n",
       "0  [la, los, el, han, de, científicos, cambiado, ...   \n",
       "1  [me, la, caminar, al, comida, clásica, fin, fa...   \n",
       "2  [esta, muy, el, hola, estás, público, clima, e...   \n",
       "\n",
       "                                 Representative_Docs  \n",
       "0  [El museo de arte moderno tiene una exposición...  \n",
       "1  [Vamos al parque para caminar un poco., Mi fam...  \n",
       "2  [Hola, ¿cómo estás hoy?, El clima está muy agr...  "
      ]
     },
     "metadata": {},
     "output_type": "display_data"
    },
    {
     "name": "stdout",
     "output_type": "stream",
     "text": [
      "\n",
      "Sentence distribution across topics:\n",
      "Topic 0: 8 sentences\n",
      "Topic 1: 4 sentences\n",
      "Topic 2: 3 sentences\n"
     ]
    }
   ],
   "source": [
    "# Initialize BERTopic with the multilingual model\n",
    "print(\"Initializing BERTopic model...\")\n",
    "\n",
    "# Import additional components for better small dataset handling\n",
    "from sklearn.cluster import KMeans\n",
    "from umap import UMAP\n",
    "\n",
    "# Configure BERTopic for small datasets\n",
    "umap_model = UMAP(\n",
    "    n_neighbors=3,          # Reduce from default 15 for small datasets\n",
    "    n_components=2,         # Keep low dimensional\n",
    "    min_dist=0.0,\n",
    "    metric='cosine',\n",
    "    random_state=42\n",
    ")\n",
    "\n",
    "# Use KMeans instead of HDBSCAN for small datasets\n",
    "cluster_model = KMeans(n_clusters=3, random_state=42)  # Force 3 clusters\n",
    "\n",
    "topic_model = BERTopic(\n",
    "    embedding_model=MULTILINGUAL_MODEL,\n",
    "    language=\"multilingual\",\n",
    "    calculate_probabilities=True,\n",
    "    verbose=True,\n",
    "    umap_model=umap_model,\n",
    "    hdbscan_model=cluster_model,  # Use KMeans instead of HDBSCAN\n",
    "    min_topic_size=2              # Allow smaller topics\n",
    ")\n",
    "\n",
    "# Fit the model to our sentences\n",
    "print(\"\\nFitting topic model to sentences...\")\n",
    "topics, probabilities = topic_model.fit_transform(sentences)\n",
    "\n",
    "# Create a DataFrame for easy analysis\n",
    "df_sentences = pd.DataFrame({\n",
    "    'sentence': sentences,\n",
    "    'topic': topics\n",
    "})\n",
    "\n",
    "print(f\"\\nTopic modeling completed!\")\n",
    "print(f\"Number of topics found: {len(topic_model.get_topic_info()) - 1}\")  # -1 to exclude outliers\n",
    "print(f\"Number of sentences: {len(sentences)}\")\n",
    "\n",
    "# Display topic information\n",
    "topic_info = topic_model.get_topic_info()\n",
    "print(\"\\nTopic Information:\")\n",
    "display(topic_info)\n",
    "\n",
    "# Show sentence distribution across topics\n",
    "topic_distribution = df_sentences['topic'].value_counts().sort_index()\n",
    "print(\"\\nSentence distribution across topics:\")\n",
    "for topic_id, count in topic_distribution.items():\n",
    "    if topic_id == -1:\n",
    "        print(f\"Outliers (Topic -1): {count} sentences\")\n",
    "    else:\n",
    "        print(f\"Topic {topic_id}: {count} sentences\")"
   ]
  },
  {
   "cell_type": "markdown",
   "id": "2550162f",
   "metadata": {},
   "source": [
    "## 6. Visualization & Comparative Analysis\n",
    "\n",
    "This section presents the core comparison between our two word difficulty methods. Each sentence is displayed twice - once with color-coding from the frequency-based method and once with the embedding norm-based method. This side-by-side visualization allows for immediate qualitative comparison of how each method classifies word difficulty.\n",
    "\n",
    "**Color Scheme:**\n",
    "- 🟢 **A1 (Green)**: Beginner level words\n",
    "- 🔵 **A2 (Light Green)**: Elementary level words  \n",
    "- 🟡 **B1 (Amber)**: Intermediate level words\n",
    "- 🟠 **B2 (Orange)**: Upper intermediate level words\n",
    "- 🔴 **C1 (Red)**: Advanced level words\n",
    "- 🟤 **C2 (Dark Red)**: Proficiency level words\n",
    "- ⚫ **OOV (Grey)**: Out of vocabulary words"
   ]
  },
  {
   "cell_type": "code",
   "execution_count": 10,
   "id": "9722469d",
   "metadata": {},
   "outputs": [
    {
     "name": "stdout",
     "output_type": "stream",
     "text": [
      "✅ spaCy with Spanish model loaded successfully\n",
      "Generating comparative analysis...\n"
     ]
    },
    {
     "data": {
      "text/html": [
       "<h3>🎨 Color Legend</h3><p><span style=\"color: #4CAF50; font-weight: bold;\">■ A1</span>&nbsp;&nbsp;&nbsp;<span style=\"color: #8BC34A; font-weight: bold;\">■ A2</span>&nbsp;&nbsp;&nbsp;<span style=\"color: #FFC107; font-weight: bold;\">■ B1</span>&nbsp;&nbsp;&nbsp;<span style=\"color: #FF9800; font-weight: bold;\">■ B2</span>&nbsp;&nbsp;&nbsp;<span style=\"color: #F44336; font-weight: bold;\">■ C1</span>&nbsp;&nbsp;&nbsp;<span style=\"color: #B71C1C; font-weight: bold;\">■ C2</span>&nbsp;&nbsp;&nbsp;<span style=\"color: #607D8B; font-weight: bold;\">■ OOV</span>&nbsp;&nbsp;&nbsp;</p><hr>"
      ],
      "text/plain": [
       "<IPython.core.display.HTML object>"
      ]
     },
     "metadata": {},
     "output_type": "display_data"
    },
    {
     "data": {
      "text/html": [
       "<h2 style='color: #333; border-bottom: 2px solid #ddd; padding-bottom: 10px;'>📚 Topic 0 (la, los, el, han, de)</h2>"
      ],
      "text/plain": [
       "<IPython.core.display.HTML object>"
      ]
     },
     "metadata": {},
     "output_type": "display_data"
    },
    {
     "data": {
      "text/html": [
       "<p><strong>Sentence 1:</strong> La tecnología ha cambiado nuestras vidas completamente.</p>"
      ],
      "text/plain": [
       "<IPython.core.display.HTML object>"
      ]
     },
     "metadata": {},
     "output_type": "display_data"
    },
    {
     "data": {
      "text/html": [
       "<p><strong>🔤 Method A (Frequency):</strong><br><span style=\"color: #4CAF50; font-weight: bold;\" title=\"Tier: A1 | Lemma: el\">La</span> <span style=\"color: #607D8B; font-weight: bold;\" title=\"Tier: OOV | Lemma: tecnología\">tecnología</span> <span style=\"color: #4CAF50; font-weight: bold;\" title=\"Tier: A1 | Lemma: haber\">ha</span> <span style=\"color: #8BC34A; font-weight: bold;\" title=\"Tier: A2 | Lemma: cambiar\">cambiado</span> <span style=\"color: #4CAF50; font-weight: bold;\" title=\"Tier: A1 | Lemma: nuestro\">nuestras</span> <span style=\"color: #4CAF50; font-weight: bold;\" title=\"Tier: A1 | Lemma: vida\">vidas</span> <span style=\"color: #4CAF50; font-weight: bold;\" title=\"Tier: A1 | Lemma: completamente\">completamente</span>.</p>"
      ],
      "text/plain": [
       "<IPython.core.display.HTML object>"
      ]
     },
     "metadata": {},
     "output_type": "display_data"
    },
    {
     "data": {
      "text/html": [
       "<p><strong>🧠 Method B (Embedding Norm):</strong><br><span style=\"color: #8BC34A; font-weight: bold;\" title=\"Tier: A2 | Lemma: el\">La</span> <span style=\"color: #607D8B; font-weight: bold;\" title=\"Tier: OOV | Lemma: tecnología\">tecnología</span> <span style=\"color: #8BC34A; font-weight: bold;\" title=\"Tier: A2 | Lemma: haber\">ha</span> <span style=\"color: #FFC107; font-weight: bold;\" title=\"Tier: B1 | Lemma: cambiar\">cambiado</span> <span style=\"color: #FF9800; font-weight: bold;\" title=\"Tier: B2 | Lemma: nuestro\">nuestras</span> <span style=\"color: #8BC34A; font-weight: bold;\" title=\"Tier: A2 | Lemma: vida\">vidas</span> <span style=\"color: #FFC107; font-weight: bold;\" title=\"Tier: B1 | Lemma: completamente\">completamente</span>.</p>"
      ],
      "text/plain": [
       "<IPython.core.display.HTML object>"
      ]
     },
     "metadata": {},
     "output_type": "display_data"
    },
    {
     "data": {
      "text/html": [
       "<hr style='margin: 20px 0; border: 1px solid #eee;'>"
      ],
      "text/plain": [
       "<IPython.core.display.HTML object>"
      ]
     },
     "metadata": {},
     "output_type": "display_data"
    },
    {
     "data": {
      "text/html": [
       "<p><strong>Sentence 2:</strong> Los estudiantes están preparando sus exámenes finales.</p>"
      ],
      "text/plain": [
       "<IPython.core.display.HTML object>"
      ]
     },
     "metadata": {},
     "output_type": "display_data"
    },
    {
     "data": {
      "text/html": [
       "<p><strong>🔤 Method A (Frequency):</strong><br><span style=\"color: #4CAF50; font-weight: bold;\" title=\"Tier: A1 | Lemma: el\">Los</span> <span style=\"color: #607D8B; font-weight: bold;\" title=\"Tier: OOV | Lemma: estudiante\">estudiantes</span> <span style=\"color: #4CAF50; font-weight: bold;\" title=\"Tier: A1 | Lemma: estar\">están</span> <span style=\"color: #8BC34A; font-weight: bold;\" title=\"Tier: A2 | Lemma: preparar\">preparando</span> <span style=\"color: #4CAF50; font-weight: bold;\" title=\"Tier: A1 | Lemma: su\">sus</span> <span style=\"color: #8BC34A; font-weight: bold;\" title=\"Tier: A2 | Lemma: examen\">exámenes</span> <span style=\"color: #8BC34A; font-weight: bold;\" title=\"Tier: A2 | Lemma: final\">finales</span>.</p>"
      ],
      "text/plain": [
       "<IPython.core.display.HTML object>"
      ]
     },
     "metadata": {},
     "output_type": "display_data"
    },
    {
     "data": {
      "text/html": [
       "<p><strong>🧠 Method B (Embedding Norm):</strong><br><span style=\"color: #8BC34A; font-weight: bold;\" title=\"Tier: A2 | Lemma: el\">Los</span> <span style=\"color: #607D8B; font-weight: bold;\" title=\"Tier: OOV | Lemma: estudiante\">estudiantes</span> <span style=\"color: #FFC107; font-weight: bold;\" title=\"Tier: B1 | Lemma: estar\">están</span> <span style=\"color: #FF9800; font-weight: bold;\" title=\"Tier: B2 | Lemma: preparar\">preparando</span> <span style=\"color: #8BC34A; font-weight: bold;\" title=\"Tier: A2 | Lemma: su\">sus</span> <span style=\"color: #FFC107; font-weight: bold;\" title=\"Tier: B1 | Lemma: examen\">exámenes</span> <span style=\"color: #4CAF50; font-weight: bold;\" title=\"Tier: A1 | Lemma: final\">finales</span>.</p>"
      ],
      "text/plain": [
       "<IPython.core.display.HTML object>"
      ]
     },
     "metadata": {},
     "output_type": "display_data"
    },
    {
     "data": {
      "text/html": [
       "<hr style='margin: 20px 0; border: 1px solid #eee;'>"
      ],
      "text/plain": [
       "<IPython.core.display.HTML object>"
      ]
     },
     "metadata": {},
     "output_type": "display_data"
    },
    {
     "data": {
      "text/html": [
       "<p><strong>Sentence 3:</strong> El museo de arte moderno tiene una exposición interesante.</p>"
      ],
      "text/plain": [
       "<IPython.core.display.HTML object>"
      ]
     },
     "metadata": {},
     "output_type": "display_data"
    },
    {
     "data": {
      "text/html": [
       "<p><strong>🔤 Method A (Frequency):</strong><br><span style=\"color: #4CAF50; font-weight: bold;\" title=\"Tier: A1 | Lemma: el\">El</span> <span style=\"color: #607D8B; font-weight: bold;\" title=\"Tier: OOV | Lemma: museo\">museo</span> <span style=\"color: #4CAF50; font-weight: bold;\" title=\"Tier: A1 | Lemma: de\">de</span> <span style=\"color: #607D8B; font-weight: bold;\" title=\"Tier: OOV | Lemma: arte\">arte</span> <span style=\"color: #607D8B; font-weight: bold;\" title=\"Tier: OOV | Lemma: moderno\">moderno</span> <span style=\"color: #4CAF50; font-weight: bold;\" title=\"Tier: A1 | Lemma: tener\">tiene</span> <span style=\"color: #4CAF50; font-weight: bold;\" title=\"Tier: A1 | Lemma: uno\">una</span> <span style=\"color: #FF9800; font-weight: bold;\" title=\"Tier: B2 | Lemma: exposición\">exposición</span> <span style=\"color: #8BC34A; font-weight: bold;\" title=\"Tier: A2 | Lemma: interesante\">interesante</span>.</p>"
      ],
      "text/plain": [
       "<IPython.core.display.HTML object>"
      ]
     },
     "metadata": {},
     "output_type": "display_data"
    },
    {
     "data": {
      "text/html": [
       "<p><strong>🧠 Method B (Embedding Norm):</strong><br><span style=\"color: #8BC34A; font-weight: bold;\" title=\"Tier: A2 | Lemma: el\">El</span> <span style=\"color: #607D8B; font-weight: bold;\" title=\"Tier: OOV | Lemma: museo\">museo</span> <span style=\"color: #FFC107; font-weight: bold;\" title=\"Tier: B1 | Lemma: de\">de</span> <span style=\"color: #607D8B; font-weight: bold;\" title=\"Tier: OOV | Lemma: arte\">arte</span> <span style=\"color: #607D8B; font-weight: bold;\" title=\"Tier: OOV | Lemma: moderno\">moderno</span> <span style=\"color: #FFC107; font-weight: bold;\" title=\"Tier: B1 | Lemma: tener\">tiene</span> <span style=\"color: #8BC34A; font-weight: bold;\" title=\"Tier: A2 | Lemma: uno\">una</span> <span style=\"color: #FF9800; font-weight: bold;\" title=\"Tier: B2 | Lemma: exposición\">exposición</span> <span style=\"color: #FFC107; font-weight: bold;\" title=\"Tier: B1 | Lemma: interesante\">interesante</span>.</p>"
      ],
      "text/plain": [
       "<IPython.core.display.HTML object>"
      ]
     },
     "metadata": {},
     "output_type": "display_data"
    },
    {
     "data": {
      "text/html": [
       "<hr style='margin: 20px 0; border: 1px solid #eee;'>"
      ],
      "text/plain": [
       "<IPython.core.display.HTML object>"
      ]
     },
     "metadata": {},
     "output_type": "display_data"
    },
    {
     "data": {
      "text/html": [
       "<p><strong>Sentence 4:</strong> La economía global enfrenta muchos desafíos actualmente.</p>"
      ],
      "text/plain": [
       "<IPython.core.display.HTML object>"
      ]
     },
     "metadata": {},
     "output_type": "display_data"
    },
    {
     "data": {
      "text/html": [
       "<p><strong>🔤 Method A (Frequency):</strong><br><span style=\"color: #4CAF50; font-weight: bold;\" title=\"Tier: A1 | Lemma: el\">La</span> <span style=\"color: #607D8B; font-weight: bold;\" title=\"Tier: OOV | Lemma: economía\">economía</span> <span style=\"color: #607D8B; font-weight: bold;\" title=\"Tier: OOV | Lemma: global\">global</span> <span style=\"color: #FFC107; font-weight: bold;\" title=\"Tier: B1 | Lemma: enfrentar\">enfrenta</span> <span style=\"color: #4CAF50; font-weight: bold;\" title=\"Tier: A1 | Lemma: mucho\">muchos</span> <span style=\"color: #607D8B; font-weight: bold;\" title=\"Tier: OOV | Lemma: desafío\">desafíos</span> <span style=\"color: #8BC34A; font-weight: bold;\" title=\"Tier: A2 | Lemma: actualmente\">actualmente</span>.</p>"
      ],
      "text/plain": [
       "<IPython.core.display.HTML object>"
      ]
     },
     "metadata": {},
     "output_type": "display_data"
    },
    {
     "data": {
      "text/html": [
       "<p><strong>🧠 Method B (Embedding Norm):</strong><br><span style=\"color: #8BC34A; font-weight: bold;\" title=\"Tier: A2 | Lemma: el\">La</span> <span style=\"color: #607D8B; font-weight: bold;\" title=\"Tier: OOV | Lemma: economía\">economía</span> <span style=\"color: #607D8B; font-weight: bold;\" title=\"Tier: OOV | Lemma: global\">global</span> <span style=\"color: #FF9800; font-weight: bold;\" title=\"Tier: B2 | Lemma: enfrentar\">enfrenta</span> <span style=\"color: #FFC107; font-weight: bold;\" title=\"Tier: B1 | Lemma: mucho\">muchos</span> <span style=\"color: #607D8B; font-weight: bold;\" title=\"Tier: OOV | Lemma: desafío\">desafíos</span> <span style=\"color: #FF9800; font-weight: bold;\" title=\"Tier: B2 | Lemma: actualmente\">actualmente</span>.</p>"
      ],
      "text/plain": [
       "<IPython.core.display.HTML object>"
      ]
     },
     "metadata": {},
     "output_type": "display_data"
    },
    {
     "data": {
      "text/html": [
       "<hr style='margin: 20px 0; border: 1px solid #eee;'>"
      ],
      "text/plain": [
       "<IPython.core.display.HTML object>"
      ]
     },
     "metadata": {},
     "output_type": "display_data"
    },
    {
     "data": {
      "text/html": [
       "<p><strong>Sentence 5:</strong> Los científicos han descubierto nuevas especies marinas.</p>"
      ],
      "text/plain": [
       "<IPython.core.display.HTML object>"
      ]
     },
     "metadata": {},
     "output_type": "display_data"
    },
    {
     "data": {
      "text/html": [
       "<p><strong>🔤 Method A (Frequency):</strong><br><span style=\"color: #4CAF50; font-weight: bold;\" title=\"Tier: A1 | Lemma: el\">Los</span> <span style=\"color: #607D8B; font-weight: bold;\" title=\"Tier: OOV | Lemma: científico\">científicos</span> <span style=\"color: #4CAF50; font-weight: bold;\" title=\"Tier: A1 | Lemma: haber\">han</span> <span style=\"color: #4CAF50; font-weight: bold;\" title=\"Tier: A1 | Lemma: descubrir\">descubierto</span> <span style=\"color: #4CAF50; font-weight: bold;\" title=\"Tier: A1 | Lemma: nuevo\">nuevas</span> <span style=\"color: #8BC34A; font-weight: bold;\" title=\"Tier: A2 | Lemma: especie\">especies</span> <span style=\"color: #607D8B; font-weight: bold;\" title=\"Tier: OOV | Lemma: marino\">marinas</span>.</p>"
      ],
      "text/plain": [
       "<IPython.core.display.HTML object>"
      ]
     },
     "metadata": {},
     "output_type": "display_data"
    },
    {
     "data": {
      "text/html": [
       "<p><strong>🧠 Method B (Embedding Norm):</strong><br><span style=\"color: #8BC34A; font-weight: bold;\" title=\"Tier: A2 | Lemma: el\">Los</span> <span style=\"color: #607D8B; font-weight: bold;\" title=\"Tier: OOV | Lemma: científico\">científicos</span> <span style=\"color: #8BC34A; font-weight: bold;\" title=\"Tier: A2 | Lemma: haber\">han</span> <span style=\"color: #FF9800; font-weight: bold;\" title=\"Tier: B2 | Lemma: descubrir\">descubierto</span> <span style=\"color: #FFC107; font-weight: bold;\" title=\"Tier: B1 | Lemma: nuevo\">nuevas</span> <span style=\"color: #FFC107; font-weight: bold;\" title=\"Tier: B1 | Lemma: especie\">especies</span> <span style=\"color: #607D8B; font-weight: bold;\" title=\"Tier: OOV | Lemma: marino\">marinas</span>.</p>"
      ],
      "text/plain": [
       "<IPython.core.display.HTML object>"
      ]
     },
     "metadata": {},
     "output_type": "display_data"
    },
    {
     "data": {
      "text/html": [
       "<hr style='margin: 20px 0; border: 1px solid #eee;'>"
      ],
      "text/plain": [
       "<IPython.core.display.HTML object>"
      ]
     },
     "metadata": {},
     "output_type": "display_data"
    },
    {
     "data": {
      "text/html": [
       "<p><strong>Sentence 6:</strong> Los libros de historia siempre me han fascinado mucho.</p>"
      ],
      "text/plain": [
       "<IPython.core.display.HTML object>"
      ]
     },
     "metadata": {},
     "output_type": "display_data"
    },
    {
     "data": {
      "text/html": [
       "<p><strong>🔤 Method A (Frequency):</strong><br><span style=\"color: #4CAF50; font-weight: bold;\" title=\"Tier: A1 | Lemma: el\">Los</span> <span style=\"color: #4CAF50; font-weight: bold;\" title=\"Tier: A1 | Lemma: libro\">libros</span> <span style=\"color: #4CAF50; font-weight: bold;\" title=\"Tier: A1 | Lemma: de\">de</span> <span style=\"color: #4CAF50; font-weight: bold;\" title=\"Tier: A1 | Lemma: historia\">historia</span> <span style=\"color: #4CAF50; font-weight: bold;\" title=\"Tier: A1 | Lemma: siempre\">siempre</span> <span style=\"color: #4CAF50; font-weight: bold;\" title=\"Tier: A1 | Lemma: yo\">me</span> <span style=\"color: #4CAF50; font-weight: bold;\" title=\"Tier: A1 | Lemma: haber\">han</span> <span style=\"color: #607D8B; font-weight: bold;\" title=\"Tier: OOV | Lemma: fascinar\">fascinado</span> <span style=\"color: #4CAF50; font-weight: bold;\" title=\"Tier: A1 | Lemma: mucho\">mucho</span>.</p>"
      ],
      "text/plain": [
       "<IPython.core.display.HTML object>"
      ]
     },
     "metadata": {},
     "output_type": "display_data"
    },
    {
     "data": {
      "text/html": [
       "<p><strong>🧠 Method B (Embedding Norm):</strong><br><span style=\"color: #8BC34A; font-weight: bold;\" title=\"Tier: A2 | Lemma: el\">Los</span> <span style=\"color: #FFC107; font-weight: bold;\" title=\"Tier: B1 | Lemma: libro\">libros</span> <span style=\"color: #FFC107; font-weight: bold;\" title=\"Tier: B1 | Lemma: de\">de</span> <span style=\"color: #8BC34A; font-weight: bold;\" title=\"Tier: A2 | Lemma: historia\">historia</span> <span style=\"color: #FFC107; font-weight: bold;\" title=\"Tier: B1 | Lemma: siempre\">siempre</span> <span style=\"color: #FFC107; font-weight: bold;\" title=\"Tier: B1 | Lemma: yo\">me</span> <span style=\"color: #8BC34A; font-weight: bold;\" title=\"Tier: A2 | Lemma: haber\">han</span> <span style=\"color: #607D8B; font-weight: bold;\" title=\"Tier: OOV | Lemma: fascinar\">fascinado</span> <span style=\"color: #FFC107; font-weight: bold;\" title=\"Tier: B1 | Lemma: mucho\">mucho</span>.</p>"
      ],
      "text/plain": [
       "<IPython.core.display.HTML object>"
      ]
     },
     "metadata": {},
     "output_type": "display_data"
    },
    {
     "data": {
      "text/html": [
       "<hr style='margin: 20px 0; border: 1px solid #eee;'>"
      ],
      "text/plain": [
       "<IPython.core.display.HTML object>"
      ]
     },
     "metadata": {},
     "output_type": "display_data"
    },
    {
     "data": {
      "text/html": [
       "<p><strong>Sentence 7:</strong> La naturaleza nos enseña lecciones importantes sobre la vida.</p>"
      ],
      "text/plain": [
       "<IPython.core.display.HTML object>"
      ]
     },
     "metadata": {},
     "output_type": "display_data"
    },
    {
     "data": {
      "text/html": [
       "<p><strong>🔤 Method A (Frequency):</strong><br><span style=\"color: #4CAF50; font-weight: bold;\" title=\"Tier: A1 | Lemma: el\">La</span> <span style=\"color: #4CAF50; font-weight: bold;\" title=\"Tier: A1 | Lemma: naturaleza\">naturaleza</span> <span style=\"color: #4CAF50; font-weight: bold;\" title=\"Tier: A1 | Lemma: yo\">nos</span> <span style=\"color: #FFC107; font-weight: bold;\" title=\"Tier: B1 | Lemma: enseñar\">enseña</span> <span style=\"color: #FFC107; font-weight: bold;\" title=\"Tier: B1 | Lemma: lección\">lecciones</span> <span style=\"color: #4CAF50; font-weight: bold;\" title=\"Tier: A1 | Lemma: importante\">importantes</span> <span style=\"color: #4CAF50; font-weight: bold;\" title=\"Tier: A1 | Lemma: sobre\">sobre</span> <span style=\"color: #4CAF50; font-weight: bold;\" title=\"Tier: A1 | Lemma: el\">la</span> <span style=\"color: #4CAF50; font-weight: bold;\" title=\"Tier: A1 | Lemma: vida\">vida</span>.</p>"
      ],
      "text/plain": [
       "<IPython.core.display.HTML object>"
      ]
     },
     "metadata": {},
     "output_type": "display_data"
    },
    {
     "data": {
      "text/html": [
       "<p><strong>🧠 Method B (Embedding Norm):</strong><br><span style=\"color: #8BC34A; font-weight: bold;\" title=\"Tier: A2 | Lemma: el\">La</span> <span style=\"color: #FFC107; font-weight: bold;\" title=\"Tier: B1 | Lemma: naturaleza\">naturaleza</span> <span style=\"color: #FFC107; font-weight: bold;\" title=\"Tier: B1 | Lemma: yo\">nos</span> <span style=\"color: #FF9800; font-weight: bold;\" title=\"Tier: B2 | Lemma: enseñar\">enseña</span> <span style=\"color: #FFC107; font-weight: bold;\" title=\"Tier: B1 | Lemma: lección\">lecciones</span> <span style=\"color: #8BC34A; font-weight: bold;\" title=\"Tier: A2 | Lemma: importante\">importantes</span> <span style=\"color: #8BC34A; font-weight: bold;\" title=\"Tier: A2 | Lemma: sobre\">sobre</span> <span style=\"color: #8BC34A; font-weight: bold;\" title=\"Tier: A2 | Lemma: el\">la</span> <span style=\"color: #8BC34A; font-weight: bold;\" title=\"Tier: A2 | Lemma: vida\">vida</span>.</p>"
      ],
      "text/plain": [
       "<IPython.core.display.HTML object>"
      ]
     },
     "metadata": {},
     "output_type": "display_data"
    },
    {
     "data": {
      "text/html": [
       "<hr style='margin: 20px 0; border: 1px solid #eee;'>"
      ],
      "text/plain": [
       "<IPython.core.display.HTML object>"
      ]
     },
     "metadata": {},
     "output_type": "display_data"
    },
    {
     "data": {
      "text/html": [
       "<p><strong>Sentence 8:</strong> El desarrollo sostenible es crucial para el futuro del planeta.</p>"
      ],
      "text/plain": [
       "<IPython.core.display.HTML object>"
      ]
     },
     "metadata": {},
     "output_type": "display_data"
    },
    {
     "data": {
      "text/html": [
       "<p><strong>🔤 Method A (Frequency):</strong><br><span style=\"color: #4CAF50; font-weight: bold;\" title=\"Tier: A1 | Lemma: el\">El</span> <span style=\"color: #FF9800; font-weight: bold;\" title=\"Tier: B2 | Lemma: desarrollo\">desarrollo</span> <span style=\"color: #607D8B; font-weight: bold;\" title=\"Tier: OOV | Lemma: sostenible\">sostenible</span> <span style=\"color: #4CAF50; font-weight: bold;\" title=\"Tier: A1 | Lemma: ser\">es</span> <span style=\"color: #607D8B; font-weight: bold;\" title=\"Tier: OOV | Lemma: crucial\">crucial</span> <span style=\"color: #4CAF50; font-weight: bold;\" title=\"Tier: A1 | Lemma: para\">para</span> <span style=\"color: #4CAF50; font-weight: bold;\" title=\"Tier: A1 | Lemma: el\">el</span> <span style=\"color: #4CAF50; font-weight: bold;\" title=\"Tier: A1 | Lemma: futuro\">futuro</span> <span style=\"color: #4CAF50; font-weight: bold;\" title=\"Tier: A1 | Lemma: del\">del</span> <span style=\"color: #607D8B; font-weight: bold;\" title=\"Tier: OOV | Lemma: planeta\">planeta</span>.</p>"
      ],
      "text/plain": [
       "<IPython.core.display.HTML object>"
      ]
     },
     "metadata": {},
     "output_type": "display_data"
    },
    {
     "data": {
      "text/html": [
       "<p><strong>🧠 Method B (Embedding Norm):</strong><br><span style=\"color: #8BC34A; font-weight: bold;\" title=\"Tier: A2 | Lemma: el\">El</span> <span style=\"color: #FFC107; font-weight: bold;\" title=\"Tier: B1 | Lemma: desarrollo\">desarrollo</span> <span style=\"color: #607D8B; font-weight: bold;\" title=\"Tier: OOV | Lemma: sostenible\">sostenible</span> <span style=\"color: #4CAF50; font-weight: bold;\" title=\"Tier: A1 | Lemma: ser\">es</span> <span style=\"color: #607D8B; font-weight: bold;\" title=\"Tier: OOV | Lemma: crucial\">crucial</span> <span style=\"color: #8BC34A; font-weight: bold;\" title=\"Tier: A2 | Lemma: para\">para</span> <span style=\"color: #8BC34A; font-weight: bold;\" title=\"Tier: A2 | Lemma: el\">el</span> <span style=\"color: #FFC107; font-weight: bold;\" title=\"Tier: B1 | Lemma: futuro\">futuro</span> <span style=\"color: #8BC34A; font-weight: bold;\" title=\"Tier: A2 | Lemma: del\">del</span> <span style=\"color: #607D8B; font-weight: bold;\" title=\"Tier: OOV | Lemma: planeta\">planeta</span>.</p>"
      ],
      "text/plain": [
       "<IPython.core.display.HTML object>"
      ]
     },
     "metadata": {},
     "output_type": "display_data"
    },
    {
     "data": {
      "text/html": [
       "<hr style='margin: 20px 0; border: 1px solid #eee;'>"
      ],
      "text/plain": [
       "<IPython.core.display.HTML object>"
      ]
     },
     "metadata": {},
     "output_type": "display_data"
    },
    {
     "data": {
      "text/html": [
       "<div style='margin: 40px 0; border-top: 3px solid #333;'></div>"
      ],
      "text/plain": [
       "<IPython.core.display.HTML object>"
      ]
     },
     "metadata": {},
     "output_type": "display_data"
    },
    {
     "data": {
      "text/html": [
       "<h2 style='color: #333; border-bottom: 2px solid #ddd; padding-bottom: 10px;'>📚 Topic 1 (me, la, caminar, al, comida)</h2>"
      ],
      "text/plain": [
       "<IPython.core.display.HTML object>"
      ]
     },
     "metadata": {},
     "output_type": "display_data"
    },
    {
     "data": {
      "text/html": [
       "<p><strong>Sentence 1:</strong> Me gusta mucho la comida española.</p>"
      ],
      "text/plain": [
       "<IPython.core.display.HTML object>"
      ]
     },
     "metadata": {},
     "output_type": "display_data"
    },
    {
     "data": {
      "text/html": [
       "<p><strong>🔤 Method A (Frequency):</strong><br><span style=\"color: #4CAF50; font-weight: bold;\" title=\"Tier: A1 | Lemma: yo\">Me</span> <span style=\"color: #FFC107; font-weight: bold;\" title=\"Tier: B1 | Lemma: gustar\">gusta</span> <span style=\"color: #4CAF50; font-weight: bold;\" title=\"Tier: A1 | Lemma: mucho\">mucho</span> <span style=\"color: #4CAF50; font-weight: bold;\" title=\"Tier: A1 | Lemma: el\">la</span> <span style=\"color: #8BC34A; font-weight: bold;\" title=\"Tier: A2 | Lemma: comida\">comida</span> <span style=\"color: #607D8B; font-weight: bold;\" title=\"Tier: OOV | Lemma: español\">española</span>.</p>"
      ],
      "text/plain": [
       "<IPython.core.display.HTML object>"
      ]
     },
     "metadata": {},
     "output_type": "display_data"
    },
    {
     "data": {
      "text/html": [
       "<p><strong>🧠 Method B (Embedding Norm):</strong><br><span style=\"color: #FFC107; font-weight: bold;\" title=\"Tier: B1 | Lemma: yo\">Me</span> <span style=\"color: #8BC34A; font-weight: bold;\" title=\"Tier: A2 | Lemma: gustar\">gusta</span> <span style=\"color: #FFC107; font-weight: bold;\" title=\"Tier: B1 | Lemma: mucho\">mucho</span> <span style=\"color: #8BC34A; font-weight: bold;\" title=\"Tier: A2 | Lemma: el\">la</span> <span style=\"color: #FFC107; font-weight: bold;\" title=\"Tier: B1 | Lemma: comida\">comida</span> <span style=\"color: #607D8B; font-weight: bold;\" title=\"Tier: OOV | Lemma: español\">española</span>.</p>"
      ],
      "text/plain": [
       "<IPython.core.display.HTML object>"
      ]
     },
     "metadata": {},
     "output_type": "display_data"
    },
    {
     "data": {
      "text/html": [
       "<hr style='margin: 20px 0; border: 1px solid #eee;'>"
      ],
      "text/plain": [
       "<IPython.core.display.HTML object>"
      ]
     },
     "metadata": {},
     "output_type": "display_data"
    },
    {
     "data": {
      "text/html": [
       "<p><strong>Sentence 2:</strong> Vamos al parque para caminar un poco.</p>"
      ],
      "text/plain": [
       "<IPython.core.display.HTML object>"
      ]
     },
     "metadata": {},
     "output_type": "display_data"
    },
    {
     "data": {
      "text/html": [
       "<p><strong>🔤 Method A (Frequency):</strong><br><span style=\"color: #4CAF50; font-weight: bold;\" title=\"Tier: A1 | Lemma: ir\">Vamos</span> <span style=\"color: #4CAF50; font-weight: bold;\" title=\"Tier: A1 | Lemma: al\">al</span> <span style=\"color: #8BC34A; font-weight: bold;\" title=\"Tier: A2 | Lemma: parque\">parque</span> <span style=\"color: #4CAF50; font-weight: bold;\" title=\"Tier: A1 | Lemma: para\">para</span> <span style=\"color: #8BC34A; font-weight: bold;\" title=\"Tier: A2 | Lemma: caminar\">caminar</span> <span style=\"color: #4CAF50; font-weight: bold;\" title=\"Tier: A1 | Lemma: uno\">un</span> <span style=\"color: #4CAF50; font-weight: bold;\" title=\"Tier: A1 | Lemma: poco\">poco</span>.</p>"
      ],
      "text/plain": [
       "<IPython.core.display.HTML object>"
      ]
     },
     "metadata": {},
     "output_type": "display_data"
    },
    {
     "data": {
      "text/html": [
       "<p><strong>🧠 Method B (Embedding Norm):</strong><br><span style=\"color: #8BC34A; font-weight: bold;\" title=\"Tier: A2 | Lemma: ir\">Vamos</span> <span style=\"color: #FFC107; font-weight: bold;\" title=\"Tier: B1 | Lemma: al\">al</span> <span style=\"color: #FF9800; font-weight: bold;\" title=\"Tier: B2 | Lemma: parque\">parque</span> <span style=\"color: #8BC34A; font-weight: bold;\" title=\"Tier: A2 | Lemma: para\">para</span> <span style=\"color: #F44336; font-weight: bold;\" title=\"Tier: C1 | Lemma: caminar\">caminar</span> <span style=\"color: #8BC34A; font-weight: bold;\" title=\"Tier: A2 | Lemma: uno\">un</span> <span style=\"color: #8BC34A; font-weight: bold;\" title=\"Tier: A2 | Lemma: poco\">poco</span>.</p>"
      ],
      "text/plain": [
       "<IPython.core.display.HTML object>"
      ]
     },
     "metadata": {},
     "output_type": "display_data"
    },
    {
     "data": {
      "text/html": [
       "<hr style='margin: 20px 0; border: 1px solid #eee;'>"
      ],
      "text/plain": [
       "<IPython.core.display.HTML object>"
      ]
     },
     "metadata": {},
     "output_type": "display_data"
    },
    {
     "data": {
      "text/html": [
       "<p><strong>Sentence 3:</strong> Mi familia viene a visitarme este fin de semana.</p>"
      ],
      "text/plain": [
       "<IPython.core.display.HTML object>"
      ]
     },
     "metadata": {},
     "output_type": "display_data"
    },
    {
     "data": {
      "text/html": [
       "<p><strong>🔤 Method A (Frequency):</strong><br><span style=\"color: #4CAF50; font-weight: bold;\" title=\"Tier: A1 | Lemma: mi\">Mi</span> <span style=\"color: #4CAF50; font-weight: bold;\" title=\"Tier: A1 | Lemma: familia\">familia</span> <span style=\"color: #4CAF50; font-weight: bold;\" title=\"Tier: A1 | Lemma: venir\">viene</span> <span style=\"color: #4CAF50; font-weight: bold;\" title=\"Tier: A1 | Lemma: a\">a</span> <span style=\"color: #607D8B; font-weight: bold;\" title=\"Tier: OOV | Lemma: visitar yo\">visitarme</span> <span style=\"color: #4CAF50; font-weight: bold;\" title=\"Tier: A1 | Lemma: este\">este</span> <span style=\"color: #4CAF50; font-weight: bold;\" title=\"Tier: A1 | Lemma: fin\">fin</span> <span style=\"color: #4CAF50; font-weight: bold;\" title=\"Tier: A1 | Lemma: de\">de</span> <span style=\"color: #4CAF50; font-weight: bold;\" title=\"Tier: A1 | Lemma: semana\">semana</span>.</p>"
      ],
      "text/plain": [
       "<IPython.core.display.HTML object>"
      ]
     },
     "metadata": {},
     "output_type": "display_data"
    },
    {
     "data": {
      "text/html": [
       "<p><strong>🧠 Method B (Embedding Norm):</strong><br><span style=\"color: #8BC34A; font-weight: bold;\" title=\"Tier: A2 | Lemma: mi\">Mi</span> <span style=\"color: #FFC107; font-weight: bold;\" title=\"Tier: B1 | Lemma: familia\">familia</span> <span style=\"color: #FFC107; font-weight: bold;\" title=\"Tier: B1 | Lemma: venir\">viene</span> <span style=\"color: #FFC107; font-weight: bold;\" title=\"Tier: B1 | Lemma: a\">a</span> <span style=\"color: #607D8B; font-weight: bold;\" title=\"Tier: OOV | Lemma: visitar yo\">visitarme</span> <span style=\"color: #8BC34A; font-weight: bold;\" title=\"Tier: A2 | Lemma: este\">este</span> <span style=\"color: #4CAF50; font-weight: bold;\" title=\"Tier: A1 | Lemma: fin\">fin</span> <span style=\"color: #FFC107; font-weight: bold;\" title=\"Tier: B1 | Lemma: de\">de</span> <span style=\"color: #FFC107; font-weight: bold;\" title=\"Tier: B1 | Lemma: semana\">semana</span>.</p>"
      ],
      "text/plain": [
       "<IPython.core.display.HTML object>"
      ]
     },
     "metadata": {},
     "output_type": "display_data"
    },
    {
     "data": {
      "text/html": [
       "<hr style='margin: 20px 0; border: 1px solid #eee;'>"
      ],
      "text/plain": [
       "<IPython.core.display.HTML object>"
      ]
     },
     "metadata": {},
     "output_type": "display_data"
    },
    {
     "data": {
      "text/html": [
       "<p><strong>Sentence 4:</strong> La música clásica me ayuda a relajarme por las noches.</p>"
      ],
      "text/plain": [
       "<IPython.core.display.HTML object>"
      ]
     },
     "metadata": {},
     "output_type": "display_data"
    },
    {
     "data": {
      "text/html": [
       "<p><strong>🔤 Method A (Frequency):</strong><br><span style=\"color: #4CAF50; font-weight: bold;\" title=\"Tier: A1 | Lemma: el\">La</span> <span style=\"color: #4CAF50; font-weight: bold;\" title=\"Tier: A1 | Lemma: música\">música</span> <span style=\"color: #607D8B; font-weight: bold;\" title=\"Tier: OOV | Lemma: clásico\">clásica</span> <span style=\"color: #4CAF50; font-weight: bold;\" title=\"Tier: A1 | Lemma: yo\">me</span> <span style=\"color: #8BC34A; font-weight: bold;\" title=\"Tier: A2 | Lemma: ayudar\">ayuda</span> <span style=\"color: #4CAF50; font-weight: bold;\" title=\"Tier: A1 | Lemma: a\">a</span> <span style=\"color: #607D8B; font-weight: bold;\" title=\"Tier: OOV | Lemma: relajar yo\">relajarme</span> <span style=\"color: #4CAF50; font-weight: bold;\" title=\"Tier: A1 | Lemma: por\">por</span> <span style=\"color: #4CAF50; font-weight: bold;\" title=\"Tier: A1 | Lemma: el\">las</span> <span style=\"color: #4CAF50; font-weight: bold;\" title=\"Tier: A1 | Lemma: noche\">noches</span>.</p>"
      ],
      "text/plain": [
       "<IPython.core.display.HTML object>"
      ]
     },
     "metadata": {},
     "output_type": "display_data"
    },
    {
     "data": {
      "text/html": [
       "<p><strong>🧠 Method B (Embedding Norm):</strong><br><span style=\"color: #8BC34A; font-weight: bold;\" title=\"Tier: A2 | Lemma: el\">La</span> <span style=\"color: #8BC34A; font-weight: bold;\" title=\"Tier: A2 | Lemma: música\">música</span> <span style=\"color: #607D8B; font-weight: bold;\" title=\"Tier: OOV | Lemma: clásico\">clásica</span> <span style=\"color: #FFC107; font-weight: bold;\" title=\"Tier: B1 | Lemma: yo\">me</span> <span style=\"color: #FFC107; font-weight: bold;\" title=\"Tier: B1 | Lemma: ayudar\">ayuda</span> <span style=\"color: #FFC107; font-weight: bold;\" title=\"Tier: B1 | Lemma: a\">a</span> <span style=\"color: #607D8B; font-weight: bold;\" title=\"Tier: OOV | Lemma: relajar yo\">relajarme</span> <span style=\"color: #8BC34A; font-weight: bold;\" title=\"Tier: A2 | Lemma: por\">por</span> <span style=\"color: #8BC34A; font-weight: bold;\" title=\"Tier: A2 | Lemma: el\">las</span> <span style=\"color: #FFC107; font-weight: bold;\" title=\"Tier: B1 | Lemma: noche\">noches</span>.</p>"
      ],
      "text/plain": [
       "<IPython.core.display.HTML object>"
      ]
     },
     "metadata": {},
     "output_type": "display_data"
    },
    {
     "data": {
      "text/html": [
       "<hr style='margin: 20px 0; border: 1px solid #eee;'>"
      ],
      "text/plain": [
       "<IPython.core.display.HTML object>"
      ]
     },
     "metadata": {},
     "output_type": "display_data"
    },
    {
     "data": {
      "text/html": [
       "<div style='margin: 40px 0; border-top: 3px solid #333;'></div>"
      ],
      "text/plain": [
       "<IPython.core.display.HTML object>"
      ]
     },
     "metadata": {},
     "output_type": "display_data"
    },
    {
     "data": {
      "text/html": [
       "<h2 style='color: #333; border-bottom: 2px solid #ddd; padding-bottom: 10px;'>📚 Topic 2 (esta, muy, el, hola, estás)</h2>"
      ],
      "text/plain": [
       "<IPython.core.display.HTML object>"
      ]
     },
     "metadata": {},
     "output_type": "display_data"
    },
    {
     "data": {
      "text/html": [
       "<p><strong>Sentence 1:</strong> Hola, ¿cómo estás hoy?</p>"
      ],
      "text/plain": [
       "<IPython.core.display.HTML object>"
      ]
     },
     "metadata": {},
     "output_type": "display_data"
    },
    {
     "data": {
      "text/html": [
       "<p><strong>🔤 Method A (Frequency):</strong><br><span style=\"color: #607D8B; font-weight: bold;\" title=\"Tier: OOV | Lemma: hola\">Hola</span>, ¿<span style=\"color: #4CAF50; font-weight: bold;\" title=\"Tier: A1 | Lemma: cómo\">cómo</span> <span style=\"color: #4CAF50; font-weight: bold;\" title=\"Tier: A1 | Lemma: estar\">estás</span> <span style=\"color: #4CAF50; font-weight: bold;\" title=\"Tier: A1 | Lemma: hoy\">hoy</span>?</p>"
      ],
      "text/plain": [
       "<IPython.core.display.HTML object>"
      ]
     },
     "metadata": {},
     "output_type": "display_data"
    },
    {
     "data": {
      "text/html": [
       "<p><strong>🧠 Method B (Embedding Norm):</strong><br><span style=\"color: #607D8B; font-weight: bold;\" title=\"Tier: OOV | Lemma: hola\">Hola</span>, ¿<span style=\"color: #FFC107; font-weight: bold;\" title=\"Tier: B1 | Lemma: cómo\">cómo</span> <span style=\"color: #FFC107; font-weight: bold;\" title=\"Tier: B1 | Lemma: estar\">estás</span> <span style=\"color: #FFC107; font-weight: bold;\" title=\"Tier: B1 | Lemma: hoy\">hoy</span>?</p>"
      ],
      "text/plain": [
       "<IPython.core.display.HTML object>"
      ]
     },
     "metadata": {},
     "output_type": "display_data"
    },
    {
     "data": {
      "text/html": [
       "<hr style='margin: 20px 0; border: 1px solid #eee;'>"
      ],
      "text/plain": [
       "<IPython.core.display.HTML object>"
      ]
     },
     "metadata": {},
     "output_type": "display_data"
    },
    {
     "data": {
      "text/html": [
       "<p><strong>Sentence 2:</strong> El clima está muy agradable esta mañana.</p>"
      ],
      "text/plain": [
       "<IPython.core.display.HTML object>"
      ]
     },
     "metadata": {},
     "output_type": "display_data"
    },
    {
     "data": {
      "text/html": [
       "<p><strong>🔤 Method A (Frequency):</strong><br><span style=\"color: #4CAF50; font-weight: bold;\" title=\"Tier: A1 | Lemma: el\">El</span> <span style=\"color: #4CAF50; font-weight: bold;\" title=\"Tier: A1 | Lemma: clima\">clima</span> <span style=\"color: #4CAF50; font-weight: bold;\" title=\"Tier: A1 | Lemma: estar\">está</span> <span style=\"color: #4CAF50; font-weight: bold;\" title=\"Tier: A1 | Lemma: mucho\">muy</span> <span style=\"color: #4CAF50; font-weight: bold;\" title=\"Tier: A1 | Lemma: agradable\">agradable</span> <span style=\"color: #4CAF50; font-weight: bold;\" title=\"Tier: A1 | Lemma: este\">esta</span> <span style=\"color: #4CAF50; font-weight: bold;\" title=\"Tier: A1 | Lemma: mañana\">mañana</span>.</p>"
      ],
      "text/plain": [
       "<IPython.core.display.HTML object>"
      ]
     },
     "metadata": {},
     "output_type": "display_data"
    },
    {
     "data": {
      "text/html": [
       "<p><strong>🧠 Method B (Embedding Norm):</strong><br><span style=\"color: #8BC34A; font-weight: bold;\" title=\"Tier: A2 | Lemma: el\">El</span> <span style=\"color: #FFC107; font-weight: bold;\" title=\"Tier: B1 | Lemma: clima\">clima</span> <span style=\"color: #FFC107; font-weight: bold;\" title=\"Tier: B1 | Lemma: estar\">está</span> <span style=\"color: #FFC107; font-weight: bold;\" title=\"Tier: B1 | Lemma: mucho\">muy</span> <span style=\"color: #FF9800; font-weight: bold;\" title=\"Tier: B2 | Lemma: agradable\">agradable</span> <span style=\"color: #8BC34A; font-weight: bold;\" title=\"Tier: A2 | Lemma: este\">esta</span> <span style=\"color: #FFC107; font-weight: bold;\" title=\"Tier: B1 | Lemma: mañana\">mañana</span>.</p>"
      ],
      "text/plain": [
       "<IPython.core.display.HTML object>"
      ]
     },
     "metadata": {},
     "output_type": "display_data"
    },
    {
     "data": {
      "text/html": [
       "<hr style='margin: 20px 0; border: 1px solid #eee;'>"
      ],
      "text/plain": [
       "<IPython.core.display.HTML object>"
      ]
     },
     "metadata": {},
     "output_type": "display_data"
    },
    {
     "data": {
      "text/html": [
       "<p><strong>Sentence 3:</strong> El transporte público es muy eficiente en esta ciudad.</p>"
      ],
      "text/plain": [
       "<IPython.core.display.HTML object>"
      ]
     },
     "metadata": {},
     "output_type": "display_data"
    },
    {
     "data": {
      "text/html": [
       "<p><strong>🔤 Method A (Frequency):</strong><br><span style=\"color: #4CAF50; font-weight: bold;\" title=\"Tier: A1 | Lemma: el\">El</span> <span style=\"color: #607D8B; font-weight: bold;\" title=\"Tier: OOV | Lemma: transporte\">transporte</span> <span style=\"color: #8BC34A; font-weight: bold;\" title=\"Tier: A2 | Lemma: público\">público</span> <span style=\"color: #4CAF50; font-weight: bold;\" title=\"Tier: A1 | Lemma: ser\">es</span> <span style=\"color: #4CAF50; font-weight: bold;\" title=\"Tier: A1 | Lemma: mucho\">muy</span> <span style=\"color: #607D8B; font-weight: bold;\" title=\"Tier: OOV | Lemma: eficiente\">eficiente</span> <span style=\"color: #4CAF50; font-weight: bold;\" title=\"Tier: A1 | Lemma: en\">en</span> <span style=\"color: #4CAF50; font-weight: bold;\" title=\"Tier: A1 | Lemma: este\">esta</span> <span style=\"color: #4CAF50; font-weight: bold;\" title=\"Tier: A1 | Lemma: ciudad\">ciudad</span>.</p>"
      ],
      "text/plain": [
       "<IPython.core.display.HTML object>"
      ]
     },
     "metadata": {},
     "output_type": "display_data"
    },
    {
     "data": {
      "text/html": [
       "<p><strong>🧠 Method B (Embedding Norm):</strong><br><span style=\"color: #8BC34A; font-weight: bold;\" title=\"Tier: A2 | Lemma: el\">El</span> <span style=\"color: #607D8B; font-weight: bold;\" title=\"Tier: OOV | Lemma: transporte\">transporte</span> <span style=\"color: #8BC34A; font-weight: bold;\" title=\"Tier: A2 | Lemma: público\">público</span> <span style=\"color: #4CAF50; font-weight: bold;\" title=\"Tier: A1 | Lemma: ser\">es</span> <span style=\"color: #FFC107; font-weight: bold;\" title=\"Tier: B1 | Lemma: mucho\">muy</span> <span style=\"color: #607D8B; font-weight: bold;\" title=\"Tier: OOV | Lemma: eficiente\">eficiente</span> <span style=\"color: #FFC107; font-weight: bold;\" title=\"Tier: B1 | Lemma: en\">en</span> <span style=\"color: #8BC34A; font-weight: bold;\" title=\"Tier: A2 | Lemma: este\">esta</span> <span style=\"color: #FFC107; font-weight: bold;\" title=\"Tier: B1 | Lemma: ciudad\">ciudad</span>.</p>"
      ],
      "text/plain": [
       "<IPython.core.display.HTML object>"
      ]
     },
     "metadata": {},
     "output_type": "display_data"
    },
    {
     "data": {
      "text/html": [
       "<hr style='margin: 20px 0; border: 1px solid #eee;'>"
      ],
      "text/plain": [
       "<IPython.core.display.HTML object>"
      ]
     },
     "metadata": {},
     "output_type": "display_data"
    },
    {
     "data": {
      "text/html": [
       "<div style='margin: 40px 0; border-top: 3px solid #333;'></div>"
      ],
      "text/plain": [
       "<IPython.core.display.HTML object>"
      ]
     },
     "metadata": {},
     "output_type": "display_data"
    },
    {
     "name": "stdout",
     "output_type": "stream",
     "text": [
      "\n",
      "✅ Comparative visualization complete!\n"
     ]
    }
   ],
   "source": [
    "# Check if spacy is available and load model\n",
    "try:\n",
    "    import spacy\n",
    "    # Try to load Spanish model\n",
    "    try:\n",
    "        nlp = spacy.load(\"es_core_news_sm\")\n",
    "        spacy_available = True\n",
    "        print(\"✅ spaCy with Spanish model loaded successfully\")\n",
    "    except OSError:\n",
    "        spacy_available = False\n",
    "        nlp = None\n",
    "        print(\"⚠️ spaCy Spanish model not found, using basic lemmatization\")\n",
    "except ImportError:\n",
    "    spacy_available = False\n",
    "    nlp = None\n",
    "    print(\"⚠️ spaCy not available, using basic lemmatization\")\n",
    "\n",
    "def colorize_sentence(sentence, lexicon, color_map, nlp_model=None):\n",
    "    \"\"\"\n",
    "    Color-code words in a sentence using spaCy if available, otherwise basic processing.\n",
    "\n",
    "    Args:\n",
    "        sentence (str): The sentence to colorize\n",
    "        lexicon (dict): Dictionary mapping word lemmas to difficulty tiers\n",
    "        color_map (dict): Dictionary mapping tiers to colors\n",
    "        nlp_model (spacy.Language, optional): The loaded spaCy model for the target language\n",
    "\n",
    "    Returns:\n",
    "        str: HTML string with colored words\n",
    "    \"\"\"\n",
    "    if nlp_model and spacy_available:\n",
    "        # Use spaCy for proper lemmatization with cleaner text reconstruction\n",
    "        doc = nlp_model(sentence)\n",
    "        html_parts = []\n",
    "\n",
    "        for token in doc:\n",
    "            # Check if the token is a word (not punctuation or space)\n",
    "            if not token.is_punct and not token.is_space:\n",
    "                lemma = token.lemma_.lower()\n",
    "                tier = lexicon.get(lemma, 'OOV')\n",
    "                color = color_map.get(tier, color_map['OOV'])\n",
    "\n",
    "                # Create the colored HTML span for the word\n",
    "                colored_word = f'<span style=\"color: {color}; font-weight: bold;\" title=\"Tier: {tier} | Lemma: {lemma}\">{token.text}</span>'\n",
    "\n",
    "                # Append the colored word followed by its original trailing space\n",
    "                html_parts.append(colored_word + token.whitespace_)\n",
    "            else:\n",
    "                # For punctuation and spaces, just append them as they are\n",
    "                html_parts.append(token.text_with_ws)\n",
    "\n",
    "        return \"\".join(html_parts)\n",
    "    else:\n",
    "        # Fallback to basic word processing (original method)\n",
    "        import re\n",
    "        # Split sentence into words while preserving punctuation\n",
    "        words = re.findall(r'\\b\\w+\\b|[^\\w\\s]', sentence)\n",
    "        colored_words = []\n",
    "\n",
    "        for word in words:\n",
    "            if re.match(r'\\w+', word):  # It's a word (not punctuation)\n",
    "                # Clean the word for lookup (lowercase, no punctuation)\n",
    "                clean_word = re.sub(r'[^a-záéíóúñü]', '', word.lower())\n",
    "\n",
    "                # Look up the tier\n",
    "                tier = lexicon.get(clean_word, 'OOV')\n",
    "                color = color_map.get(tier, color_map['OOV'])\n",
    "\n",
    "                # Create colored span\n",
    "                colored_word = f'<span style=\"color: {color}; font-weight: bold;\" title=\"{tier}\">{word}</span>'\n",
    "                colored_words.append(colored_word)\n",
    "            else:\n",
    "                # It's punctuation, don't color it\n",
    "                colored_words.append(word)\n",
    "\n",
    "        return ' '.join(colored_words)\n",
    "\n",
    "# Generate the comparative visualization\n",
    "print(\"Generating comparative analysis...\")\n",
    "\n",
    "# Display legend first\n",
    "legend_html = \"<h3>🎨 Color Legend</h3><p>\"\n",
    "for tier, color in COLOR_MAP.items():\n",
    "    legend_html += f'<span style=\"color: {color}; font-weight: bold;\">■ {tier}</span>&nbsp;&nbsp;&nbsp;'\n",
    "legend_html += \"</p><hr>\"\n",
    "display(HTML(legend_html))\n",
    "\n",
    "# Get unique topics sorted\n",
    "unique_topics = sorted(df_sentences['topic'].unique())\n",
    "\n",
    "for topic_id in unique_topics:\n",
    "    # Get topic information\n",
    "    if topic_id == -1:\n",
    "        topic_name = \"Outliers\"\n",
    "        topic_words = [\"miscellaneous\", \"outliers\"]\n",
    "    else:\n",
    "        topic_info_row = topic_info[topic_info['Topic'] == topic_id]\n",
    "        if not topic_info_row.empty:\n",
    "            topic_name = f\"Topic {topic_id}\"\n",
    "            # Get top words for this topic\n",
    "            try:\n",
    "                topic_words = [word for word, _ in topic_model.get_topic(topic_id)[:5]]\n",
    "                topic_name += f\" ({', '.join(topic_words)})\"\n",
    "            except:\n",
    "                topic_name += \" (Unknown)\"\n",
    "        else:\n",
    "            topic_name = f\"Topic {topic_id}\"\n",
    "\n",
    "    # Display topic header\n",
    "    topic_header = f\"<h2 style='color: #333; border-bottom: 2px solid #ddd; padding-bottom: 10px;'>📚 {topic_name}</h2>\"\n",
    "    display(HTML(topic_header))\n",
    "\n",
    "    # Get sentences for this topic\n",
    "    topic_sentences = df_sentences[df_sentences['topic'] == topic_id]['sentence'].tolist()\n",
    "\n",
    "    # Display each sentence with both methods\n",
    "    for i, sentence in enumerate(topic_sentences, 1):\n",
    "        # Original sentence\n",
    "        display(HTML(f\"<p><strong>Sentence {i}:</strong> {sentence}</p>\"))\n",
    "\n",
    "        # Method A (Frequency)\n",
    "        freq_colored = colorize_sentence(sentence, freq_lexicon, COLOR_MAP, nlp if spacy_available else None)\n",
    "        display(HTML(f\"<p><strong>🔤 Method A (Frequency):</strong><br>{freq_colored}</p>\"))\n",
    "\n",
    "        # Method B (Embedding Norm)\n",
    "        norm_colored = colorize_sentence(sentence, norm_lexicon, COLOR_MAP, nlp if spacy_available else None)\n",
    "        display(HTML(f\"<p><strong>🧠 Method B (Embedding Norm):</strong><br>{norm_colored}</p>\"))\n",
    "\n",
    "        # Add separator\n",
    "        display(HTML(\"<hr style='margin: 20px 0; border: 1px solid #eee;'>\"))\n",
    "\n",
    "    # Add topic separator\n",
    "    display(HTML(\"<div style='margin: 40px 0; border-top: 3px solid #333;'></div>\"))\n",
    "\n",
    "print(\"\\n✅ Comparative visualization complete!\")"
   ]
  },
  {
   "cell_type": "markdown",
   "id": "d32af616",
   "metadata": {},
   "source": [
    "## 7. Quantitative Analysis & Conclusion\n",
    "\n",
    "This final section provides templates and tools for conducting quantitative analysis of the two word difficulty methods."
   ]
  },
  {
   "cell_type": "code",
   "execution_count": 11,
   "id": "4f3e5b03",
   "metadata": {},
   "outputs": [
    {
     "name": "stdout",
     "output_type": "stream",
     "text": [
      "Performing quantitative analysis...\n",
      "\n",
      "📊 Agreement Analysis:\n",
      "Total words compared: 11919\n",
      "Words with same classification: 4078\n",
      "Agreement rate: 34.2%\n",
      "Correlation between methods: -0.110\n"
     ]
    },
    {
     "data": {
      "image/png": "[encoded data removed]",
      "text/plain": [
       "<Figure size 1200x800 with 5 Axes>"
      ]
     },
     "metadata": {},
     "output_type": "display_data"
    },
    {
     "name": "stdout",
     "output_type": "stream",
     "text": [
      "\n",
      "🔍 Examples of Disagreement:\n",
      "de: Frequency=A1, Embedding=B1\n",
      "que: Frequency=A1, Embedding=B1\n",
      "la: Frequency=A1, Embedding=B1\n",
      "y: Frequency=A1, Embedding=A2\n",
      "a: Frequency=A1, Embedding=B1\n",
      "en: Frequency=A1, Embedding=B1\n",
      "su: Frequency=A1, Embedding=A2\n",
      "no: Frequency=A1, Embedding=B1\n",
      "el: Frequency=A1, Embedding=A2\n",
      "se: Frequency=A1, Embedding=B1\n",
      "\n",
      "==================================================\n",
      "ANALYSIS COMPLETE\n",
      "==================================================\n"
     ]
    }
   ],
   "source": [
    "# Quantitative Analysis\n",
    "print(\"Performing quantitative analysis...\")\n",
    "\n",
    "# Create comparison DataFrame\n",
    "comparison_data = []\n",
    "for word in freq_lexicon.keys():\n",
    "    if word in norm_lexicon:\n",
    "        comparison_data.append({\n",
    "            'word': word,\n",
    "            'frequency_tier': freq_lexicon[word],\n",
    "            'norm_tier': norm_lexicon[word],\n",
    "            'same_classification': freq_lexicon[word] == norm_lexicon[word]\n",
    "        })\n",
    "\n",
    "comparison_df = pd.DataFrame(comparison_data)\n",
    "\n",
    "# Calculate agreement statistics\n",
    "total_words = len(comparison_df)\n",
    "agreement_count = comparison_df['same_classification'].sum()\n",
    "agreement_rate = agreement_count / total_words * 100\n",
    "\n",
    "print(f\"\\n📊 Agreement Analysis:\")\n",
    "print(f\"Total words compared: {total_words}\")\n",
    "print(f\"Words with same classification: {agreement_count}\")\n",
    "print(f\"Agreement rate: {agreement_rate:.1f}%\")\n",
    "\n",
    "# Create tier mapping for numerical analysis\n",
    "tier_to_num = {'A1': 1, 'A2': 2, 'B1': 3, 'B2': 4, 'C1': 5, 'C2': 6}\n",
    "comparison_df['freq_numeric'] = comparison_df['frequency_tier'].map(tier_to_num)\n",
    "comparison_df['norm_numeric'] = comparison_df['norm_tier'].map(tier_to_num)\n",
    "\n",
    "# Calculate correlation\n",
    "correlation = comparison_df['freq_numeric'].corr(comparison_df['norm_numeric'])\n",
    "print(f\"Correlation between methods: {correlation:.3f}\")\n",
    "\n",
    "# Create visualization\n",
    "plt.figure(figsize=(12, 8))\n",
    "\n",
    "# Scatter plot\n",
    "plt.subplot(2, 2, 1)\n",
    "plt.scatter(comparison_df['freq_numeric'], comparison_df['norm_numeric'], alpha=0.6)\n",
    "plt.xlabel('Frequency Method (1=A1, 6=C2)')\n",
    "plt.ylabel('Embedding Norm Method (1=A1, 6=C2)')\n",
    "plt.title(f'Method Comparison\\n(Correlation: {correlation:.3f})')\n",
    "plt.plot([1, 6], [1, 6], 'r--', alpha=0.5, label='Perfect agreement')\n",
    "plt.legend()\n",
    "plt.grid(True, alpha=0.3)\n",
    "\n",
    "# Agreement by tier\n",
    "plt.subplot(2, 2, 2)\n",
    "tier_agreement = comparison_df.groupby('frequency_tier')['same_classification'].mean() * 100\n",
    "tier_agreement.plot(kind='bar')\n",
    "plt.title('Agreement Rate by Frequency Tier')\n",
    "plt.ylabel('Agreement Rate (%)')\n",
    "plt.xlabel('Frequency Tier')\n",
    "plt.xticks(rotation=0)\n",
    "plt.grid(True, alpha=0.3)\n",
    "\n",
    "# Distribution comparison - Fix the shape mismatch issue\n",
    "plt.subplot(2, 2, 3)\n",
    "freq_dist = comparison_df['frequency_tier'].value_counts().sort_index()\n",
    "norm_dist = comparison_df['norm_tier'].value_counts().sort_index()\n",
    "\n",
    "# Ensure both distributions have the same index (all possible tiers)\n",
    "all_tiers = ['A1', 'A2', 'B1', 'B2', 'C1', 'C2']\n",
    "freq_dist = freq_dist.reindex(all_tiers, fill_value=0)\n",
    "norm_dist = norm_dist.reindex(all_tiers, fill_value=0)\n",
    "\n",
    "x = range(len(all_tiers))\n",
    "width = 0.35\n",
    "plt.bar([i - width/2 for i in x], freq_dist.values, width, label='Frequency', alpha=0.7)\n",
    "plt.bar([i + width/2 for i in x], norm_dist.values, width, label='Embedding Norm', alpha=0.7)\n",
    "plt.xlabel('CEFR Tier')\n",
    "plt.ylabel('Number of Words')\n",
    "plt.title('Word Distribution by Method')\n",
    "plt.xticks(x, all_tiers)\n",
    "plt.legend()\n",
    "plt.grid(True, alpha=0.3)\n",
    "\n",
    "# Confusion matrix\n",
    "plt.subplot(2, 2, 4)\n",
    "confusion_matrix = pd.crosstab(comparison_df['frequency_tier'], comparison_df['norm_tier'])\n",
    "sns.heatmap(confusion_matrix, annot=True, fmt='d', cmap='Blues')\n",
    "plt.title('Confusion Matrix\\n(Frequency vs Embedding Norm)')\n",
    "plt.ylabel('Frequency Method')\n",
    "plt.xlabel('Embedding Norm Method')\n",
    "\n",
    "plt.tight_layout()\n",
    "plt.show()\n",
    "\n",
    "# Show disagreement examples\n",
    "print(\"\\n🔍 Examples of Disagreement:\")\n",
    "disagreements = comparison_df[~comparison_df['same_classification']].head(10)\n",
    "for _, row in disagreements.iterrows():\n",
    "    print(f\"{row['word']}: Frequency={row['frequency_tier']}, Embedding={row['norm_tier']}\")\n",
    "\n",
    "print(\"\\n\" + \"=\"*50)\n",
    "print(\"ANALYSIS COMPLETE\")\n",
    "print(\"=\"*50)"
   ]
  },
  {
   "cell_type": "markdown",
   "id": "25492237",
   "metadata": {},
   "source": [
    "### 📈 Quantitative Analysis\n",
    "\n",
    "**Correlation Analysis**: \n",
    "Create scatter plots comparing the two methods by plotting word ranks from the frequency method against normalized embedding norms. A strong positive correlation would indicate that both methods generally agree on word difficulty.\n",
    "\n",
    "**Statistical Metrics**:\n",
    "- Calculate agreement rate (percentage of words classified identically)\n",
    "- Compute Pearson correlation coefficient between numerical tier assignments\n",
    "- Generate confusion matrices to identify systematic differences\n",
    "\n",
    "**Distribution Analysis**:\n",
    "Compare how many words each method assigns to each CEFR level to identify potential biases.\n",
    "\n",
    "### 🔍 Qualitative Observations\n",
    "\n",
    "**Method Comparison Questions to Consider**:\n",
    "1. Which method seemed more intuitive when viewing the colored sentences?\n",
    "2. Were there surprising classifications where one method significantly differed from expectations?\n",
    "3. Did the embedding norm method correctly identify difficult academic or technical words that might be frequent in specialized texts?\n",
    "4. How did each method handle:\n",
    "   - Short vs. long words?\n",
    "   - Cognates and borrowed words?\n",
    "   - Technical terminology?\n",
    "\n",
    "**Topic-Specific Insights**:\n",
    "- Did certain topics show better agreement between methods?\n",
    "- Were there topic domains where one method was clearly more appropriate?\n",
    "\n",
    "### 🎯 Conclusion\n",
    "\n",
    "**Summary Space for Findings**:\n",
    "*(Complete this section based on your observations)*\n",
    "\n",
    "**Method Preference**:\n",
    "Based on the quantitative metrics and qualitative observations, which method would be preferable for:\n",
    "- Beginner language learners?\n",
    "- Advanced learners?\n",
    "- Specific domains (academic, conversational, technical)?\n",
    "\n",
    "**Future Improvements**:\n",
    "- How could these methods be combined for better performance?\n",
    "- What additional features could enhance difficulty prediction?\n",
    "- How might language-specific considerations improve the analysis?\n",
    "\n",
    "**Practical Applications**:\n",
    "Discuss how these findings could be implemented in real language learning applications, such as adaptive reading systems, vocabulary builders, or content difficulty assessment tools.\n",
    "\n",
    "---\n",
    "\n",
    "*This notebook demonstrates a novel approach to computational linguistics in language learning, combining established frequency-based methods with experimental embedding-based techniques to provide comprehensive word difficulty analysis.*"
   ]
  }
 ],
 "metadata": {
  "kernelspec": {
   "display_name": "nlp_env",
   "language": "python",
   "name": "python3"
  },
  "language_info": {
   "codemirror_mode": {
    "name": "ipython",
    "version": 3
   },
   "file_extension": ".py",
   "mimetype": "text/x-python",
   "name": "python",
   "nbconvert_exporter": "python",
   "pygments_lexer": "ipython3",
   "version": "3.13.3"
  }
 },
 "nbformat": 4,
 "nbformat_minor": 5
}
