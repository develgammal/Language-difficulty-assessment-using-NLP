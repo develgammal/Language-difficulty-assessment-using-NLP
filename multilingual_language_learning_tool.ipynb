{
 "cells": [
  {
   "cell_type": "markdown",
   "id": "1b8877ad",
   "metadata": {},
   "source": [
    "# Comparative Analysis of Word Difficulty Metrics for Language Learning\n",
    "\n",
    "## Project Overview\n",
    "\n",
    "This notebook implements a comprehensive language learning tool designed to assist language learners through intelligent text analysis. The project has three primary objectives:\n",
    "\n",
    "1. **Topic-based Sentence Grouping**: Extract sentences from subtitle files (.srt) and automatically group them by semantic topics using BERTopic clustering\n",
    "\n",
    "2. **Dual Word Difficulty Analysis**: Implement and compare two distinct computational approaches for determining word difficulty:\n",
    "   - **Method A: Word Frequency** - A classic and robust approach where word frequency in large corpora serves as a proxy for difficulty (common words = easier)\n",
    "   - **Method B: Embedding L2 Norm** - An experimental approach that leverages the L2 norm of word embeddings as a difficulty indicator based on the hypothesis that training frequency correlates with embedding magnitude\n",
    "\n",
    "3. **Comparative Visualization**: Present a side-by-side comparison of both methods through color-coded visualizations, enabling qualitative and quantitative analysis of their effectiveness\n",
    "\n",
    "This notebook serves as a small academic experiment to evaluate which computational method provides more intuitive and useful difficulty assessments for language learning applications."
   ]
  },
  {
   "cell_type": "markdown",
   "id": "53be7497",
   "metadata": {},
   "source": [
    "### ⚠️ A Note on Performance & Scalability\n",
    "\n",
    "This notebook is designed as a comprehensive academic demonstration and performs all data processing from scratch. Please be aware of the following:\n",
    "\n",
    "* **Lexicon Generation is Slow:** The initial creation of the word frequency lexicon (Method A) and the embedding norm lexicon (Method B) is computationally intensive. The process involves downloading and processing a large text corpus, which can take a significant amount of time (potentially 10-20 minutes or more, depending on your connection and CPU).\n",
    "\n",
    "* **One-Time Cost:** This heavy computation is a one-time setup cost for each language. In a real-world application, these generated lexicons would be saved to a file (`.json` or `.csv`) and simply loaded in future sessions, making the tool run instantly for the end-user.\n",
    "\n",
    "For this demonstration, the script has a built-in limit to process a smaller subset of the corpus to ensure it runs in a reasonable time."
   ]
  },
  {
   "cell_type": "markdown",
   "id": "e551cddf",
   "metadata": {},
   "source": [
    "## 1. Setup and Configuration"
   ]
  },
  {
   "cell_type": "markdown",
   "id": "3997da9a",
   "metadata": {},
   "source": [
    "### ⚠️ Important: Language-Specific Model Requirements\n",
    "\n",
    "Before running this notebook, you **must** download the appropriate spaCy model for your chosen target language. The notebook uses spaCy for advanced text processing including lemmatization and Named Entity Recognition (NER).\n",
    "\n",
    "**Required Installation Commands by Language:**\n",
    "- **German**: `python -m spacy download de_core_news_sm`\n",
    "- **Spanish**: `python -m spacy download es_core_news_sm`\n",
    "- **French**: `python -m spacy download fr_core_news_sm`\n",
    "- **Portuguese**: `python -m spacy download pt_core_news_sm`\n",
    "- **English**: `python -m spacy download en_core_web_sm`\n",
    "\n",
    "Run the appropriate command in your terminal or command prompt before executing the notebook cells. The notebook will check for model availability and provide fallback functionality if the model is not found."
   ]
  },
  {
   "cell_type": "code",
   "execution_count": 1,
   "id": "6cd3af2c",
   "metadata": {},
   "outputs": [
    {
     "name": "stdout",
     "output_type": "stream",
     "text": [
      "Note: you may need to restart the kernel to use updated packages.\n"
     ]
    },
    {
     "name": "stderr",
     "output_type": "stream",
     "text": [
      "\n",
      "[notice] A new release of pip is available: 25.0.1 -> 25.2\n",
      "[notice] To update, run: python.exe -m pip install --upgrade pip\n"
     ]
    },
    {
     "name": "stdout",
     "output_type": "stream",
     "text": [
      "Collecting de-core-news-sm==3.8.0\n",
      "  Using cached https://github.com/explosion/spacy-models/releases/download/de_core_news_sm-3.8.0/de_core_news_sm-3.8.0-py3-none-any.whl (14.6 MB)\n",
      "Note: you may need to restart the kernel to use updated packages.\n"
     ]
    },
    {
     "name": "stderr",
     "output_type": "stream",
     "text": [
      "\n",
      "[notice] A new release of pip is available: 25.0.1 -> 25.2\n",
      "[notice] To update, run: python.exe -m pip install --upgrade pip\n"
     ]
    }
   ],
   "source": [
    "# Install Dependencies\n",
    "# Installing all required libraries with quiet output using %pip for local environment\n",
    "%pip install -q bertopic datasets pandas numpy nltk pysrt sentence-transformers torch ipywidgets matplotlib seaborn spacy scikit-learn\n",
    "\n",
    "# Download the spaCy model for the default target language (German)\n",
    "# Replace 'de_core_news_sm' if you change the default TARGET_LANGUAGE above\n",
    "%pip install https://github.com/explosion/spacy-models/releases/download/de_core_news_sm-3.8.0/de_core_news_sm-3.8.0-py3-none-any.whl"
   ]
  },
  {
   "cell_type": "code",
   "execution_count": 2,
   "id": "031f39f4",
   "metadata": {},
   "outputs": [
    {
     "name": "stderr",
     "output_type": "stream",
     "text": [
      "[nltk_data] Error loading wordnet: <urlopen error [WinError 10054] An\n",
      "[nltk_data]     existing connection was forcibly closed by the remote\n",
      "[nltk_data]     host>\n",
      "[nltk_data] Downloading package punkt to\n",
      "[nltk_data]     C:\\Users\\omar\\AppData\\Roaming\\nltk_data...\n",
      "[nltk_data]   Package punkt is already up-to-date!\n",
      "[nltk_data] Downloading package omw-1.4 to\n",
      "[nltk_data]     C:\\Users\\omar\\AppData\\Roaming\\nltk_data...\n"
     ]
    },
    {
     "name": "stdout",
     "output_type": "stream",
     "text": [
      "All libraries imported successfully!\n"
     ]
    },
    {
     "name": "stderr",
     "output_type": "stream",
     "text": [
      "[nltk_data]   Package omw-1.4 is already up-to-date!\n"
     ]
    }
   ],
   "source": [
    "# Core Libraries\n",
    "import re\n",
    "import pandas as pd\n",
    "import numpy as np\n",
    "from collections import Counter\n",
    "import matplotlib.pyplot as plt\n",
    "import seaborn as sns\n",
    "\n",
    "# NLP & Modelling\n",
    "import nltk\n",
    "from nltk.stem import WordNetLemmatizer\n",
    "from datasets import load_dataset\n",
    "from sentence_transformers import SentenceTransformer\n",
    "from bertopic import BERTopic\n",
    "import spacy\n",
    "\n",
    "# File Handling & Display\n",
    "import pysrt\n",
    "from IPython.display import display, HTML\n",
    "import warnings\n",
    "warnings.filterwarnings('ignore')\n",
    "\n",
    "# Download necessary NLTK data\n",
    "nltk.download('wordnet')\n",
    "nltk.download('punkt')\n",
    "nltk.download('omw-1.4')\n",
    "\n",
    "print(\"All libraries imported successfully!\")"
   ]
  },
  {
   "cell_type": "code",
   "execution_count": 3,
   "id": "7a894241",
   "metadata": {},
   "outputs": [
    {
     "name": "stdout",
     "output_type": "stream",
     "text": [
      "✅ spaCy is available\n",
      "✅ German model 'de_core_news_sm' is already available and working\n",
      "\n",
      "Final status: ✅ spaCy model ready\n",
      "✅ German model 'de_core_news_sm' is already available and working\n",
      "\n",
      "Final status: ✅ spaCy model ready\n"
     ]
    }
   ],
   "source": [
    "# Simple spaCy model verification and installation\n",
    "import sys\n",
    "import subprocess\n",
    "\n",
    "def check_and_install_spacy_model():\n",
    "    \"\"\"Simple and robust spaCy model verification\"\"\"\n",
    "    try:\n",
    "        import spacy\n",
    "        print(\"✅ spaCy is available\")\n",
    "\n",
    "        # Try to load the German model\n",
    "        try:\n",
    "            nlp_test = spacy.load(\"de_core_news_sm\")\n",
    "            print(\"✅ German model 'de_core_news_sm' is already available and working\")\n",
    "            return True\n",
    "        except OSError:\n",
    "            print(\"⚠️ German model not found, attempting installation...\")\n",
    "\n",
    "        # Simple installation approach\n",
    "        try:\n",
    "            print(\"📦 Installing German model...\")\n",
    "            result = subprocess.run([\n",
    "                sys.executable, \"-m\", \"pip\", \"install\", \"--quiet\",\n",
    "                \"https://github.com/explosion/spacy-models/releases/download/de_core_news_sm-3.8.0/de_core_news_sm-3.8.0-py3-none-any.whl\"\n",
    "            ], check=True, capture_output=True, text=True, timeout=300)\n",
    "\n",
    "            # Test the installation\n",
    "            nlp_test = spacy.load(\"de_core_news_sm\")\n",
    "            print(\"✅ German model installed and verified successfully\")\n",
    "            return True\n",
    "\n",
    "        except Exception as e:\n",
    "            print(f\"⚠️ Installation failed: {str(e)[:100]}\")\n",
    "            print(\"🔄 System will continue with basic lemmatization fallback\")\n",
    "            return False\n",
    "\n",
    "    except ImportError:\n",
    "        print(\"❌ spaCy not available\")\n",
    "        return False\n",
    "\n",
    "# Run the installation check\n",
    "spacy_available = check_and_install_spacy_model()\n",
    "print(f\"\\nFinal status: {'✅ spaCy model ready' if spacy_available else '⚠️ Using fallback mode'}\")"
   ]
  },
  {
   "cell_type": "code",
   "execution_count": 4,
   "id": "bc9bf73b",
   "metadata": {},
   "outputs": [],
   "source": [
    "# --- USER CONFIGURATION ---\n",
    "\n",
    "# Set the target language using ISO 639-1 code ('de' for German, 'es' for Spanish, 'pt' for Portuguese, 'fr' for French)\n",
    "TARGET_LANGUAGE = \"de\"\n",
    "\n",
    "# Path to the input subtitle file. Create a placeholder file or ask the user to provide one.\n",
    "SRT_FILE_PATH = \"sample_subtitles_german.srt\"\n",
    "\n",
    "# Path to the English CEFR words CSV file (used for Method C training)\n",
    "ENGLISH_WORDS_CSV_PATH = \"ENGLISH_CERF_WORDS.csv\"\n",
    "\n",
    "# Model for multilingual embeddings. This is a good, lightweight choice.\n",
    "MULTILINGUAL_MODEL = \"paraphrase-multilingual-MiniLM-L12-v2\"\n",
    "\n",
    "# Training data sample size for Method C (controls how much of the English dataset is used for training)\n",
    "# Set to None to use the full dataset, or specify a number for faster testing/iteration\n",
    "TRAINING_DATA_SAMPLE_SIZE = None  # Use 50 words for faster training during development for debugging\n",
    "\n",
    "# DEBUG flag to control verbose output (set to False to hide detailed processing messages)\n",
    "DEBUG = False\n",
    "\n",
    "# Machine Learning imports for Method C\n",
    "from sklearn.ensemble import RandomForestClassifier\n",
    "from sklearn.model_selection import train_test_split\n",
    "from sklearn.preprocessing import LabelEncoder\n",
    "from sklearn.metrics import classification_report, confusion_matrix\n",
    "import math\n",
    "\n",
    "# Mapping from target language to appropriate spaCy model\n",
    "SPACY_MODEL = {\n",
    "    \"de\": \"de_core_news_sm\",  # German\n",
    "    \"es\": \"es_core_news_sm\",  # Spanish\n",
    "    \"pt\": \"pt_core_news_sm\",  # Portuguese\n",
    "    \"fr\": \"fr_core_news_sm\",  # French\n",
    "    \"en\": \"en_core_web_sm\"    # English\n",
    "}.get(TARGET_LANGUAGE, \"en_core_web_sm\")\n",
    "\n",
    "# --- DIFFICULTY TIER DEFINITIONS ---\n",
    "# Method A (Frequency): Tiers based on rank of most common words.\n",
    "FREQUENCY_TIERS = {\n",
    "    'A1': (0, 1000),      # Top 1000 words\n",
    "    'A2': (1000, 4000),   # Next 3000\n",
    "    'B1': (4000, 10000),  # Next 6000\n",
    "    'B2': (10000, 20000), # Next 10000\n",
    "    'C1': (20000, 40000), # And so on...\n",
    "    'C2': (40000, float('inf'))\n",
    "}\n",
    "\n",
    "# Method B (Embedding Norm): Tiers based on percentile of normalized L2 Norm.\n",
    "NORM_TIERS = {\n",
    "    'A1': (0.8, 1.0),     # Top 20% of norms (most frequent-like)\n",
    "    'A2': (0.6, 0.8),     # 60th-80th percentile\n",
    "    'B1': (0.4, 0.6),\n",
    "    'B2': (0.2, 0.4),\n",
    "    'C1': (0.1, 0.2),\n",
    "    'C2': (0.0, 0.1)      # Bottom 10% (rarest-like)\n",
    "}\n",
    "\n",
    "# Color scheme for visualizing CEFR difficulty levels\n",
    "COLOR_MAP = {\n",
    "    'A1': '#4CAF50',      # Green - Easy\n",
    "    'A2': '#8BC34A',      # Light Green\n",
    "    'B1': '#FFC107',      # Yellow - Intermediate\n",
    "    'B2': '#FF9800',      # Orange\n",
    "    'C1': '#F44336',      # Red - Advanced\n",
    "    'C2': '#B71C1C',      # Dark Red - Most difficult\n",
    "    'OOV': '#607D8B'      # Blue-Grey - Out of vocabulary\n",
    "}"
   ]
  },
  {
   "cell_type": "code",
   "execution_count": 5,
   "id": "ae2aaed6",
   "metadata": {},
   "outputs": [
    {
     "name": "stdout",
     "output_type": "stream",
     "text": [
      "Loading spaCy model for language: 'de'\n",
      "✅ Successfully loaded 'de_core_news_sm'\n",
      "✅ Successfully loaded 'de_core_news_sm'\n"
     ]
    }
   ],
   "source": [
    "# --- Load spaCy Model for Lemmatisation ---\n",
    "\n",
    "print(f\"Loading spaCy model for language: '{TARGET_LANGUAGE}'\")\n",
    "model_name = SPACY_MODEL\n",
    "\n",
    "if model_name:\n",
    "    try:\n",
    "        nlp = spacy.load(model_name)\n",
    "        spacy_model_available = True\n",
    "        print(f\"✅ Successfully loaded '{model_name}'\")\n",
    "    except OSError:\n",
    "        spacy_model_available = False\n",
    "        print(f\"🛑 spaCy model '{model_name}' not found.\")\n",
    "        print(f\"Please run: python -m spacy download {model_name}\")\n",
    "        nlp = None\n",
    "else:\n",
    "    spacy_model_available = False\n",
    "    print(f\"⚠️ No spaCy model defined for '{TARGET_LANGUAGE}'. Lemmatisation will be skipped.\")\n",
    "    nlp = None"
   ]
  },
  {
   "cell_type": "markdown",
   "id": "2d9bd5b5",
   "metadata": {},
   "source": [
    "## 2. Data Loading & Preprocessing\n",
    "\n",
    "This section handles the parsing of subtitle files (.srt) to extract clean, meaningful sentences for analysis. We'll use the `pysrt` library to parse the subtitle format and clean the extracted text to prepare it for topic modeling and difficulty analysis."
   ]
  },
  {
   "cell_type": "code",
   "execution_count": 6,
   "id": "eba997d1",
   "metadata": {},
   "outputs": [
    {
     "name": "stdout",
     "output_type": "stream",
     "text": [
      "Loading sentences for analysis...\n",
      "Loaded 15 sentences for topic modeling and analysis.\n"
     ]
    }
   ],
   "source": [
    "def parse_srt(file_path):\n",
    "    \"\"\"\n",
    "    Parse an SRT subtitle file and extract clean sentences.\n",
    "\n",
    "    Args:\n",
    "        file_path (str): Path to the SRT file\n",
    "\n",
    "    Returns:\n",
    "        list: List of cleaned sentences\n",
    "    \"\"\"\n",
    "    try:\n",
    "        # Load the SRT file\n",
    "        subs = pysrt.open(file_path)\n",
    "        sentences = []\n",
    "\n",
    "        for sub in subs:\n",
    "            # Get the text content and clean it\n",
    "            text = sub.text\n",
    "            if text:\n",
    "                # Remove HTML tags if any\n",
    "                text = re.sub(r'<[^>]+>', '', text)\n",
    "                # Remove excessive whitespace and newlines\n",
    "                text = re.sub(r'\\s+', ' ', text).strip()\n",
    "                # Only add non-empty sentences\n",
    "                if text and len(text) > 3:\n",
    "                    sentences.append(text)\n",
    "\n",
    "        return sentences\n",
    "\n",
    "    except FileNotFoundError:\n",
    "        print(f\"Error: Could not find the file '{file_path}'\")\n",
    "        print(\"Creating a sample dataset for demonstration...\")\n",
    "\n",
    "        # Create sample sentences in German for demonstration\n",
    "        sample_sentences = [\n",
    "            \"Hallo, wie geht es dir heute?\",\n",
    "            \"Ich mag deutsches Essen sehr gerne.\",\n",
    "            \"Das Wetter ist heute Morgen sehr angenehm.\",\n",
    "            \"Wir gehen in den Park, um ein bisschen spazieren zu gehen.\",\n",
    "            \"Die Technologie hat unser Leben völlig verändert.\",\n",
    "            \"Die Studenten bereiten sich auf ihre Abschlussprüfungen vor.\",\n",
    "            \"Das Museum für moderne Kunst hat eine interessante Ausstellung.\",\n",
    "            \"Meine Familie kommt dieses Wochenende zu Besuch.\",\n",
    "            \"Die Weltwirtschaft steht vor vielen Herausforderungen.\",\n",
    "            \"Wissenschaftler haben neue Meeresarten entdeckt.\",\n",
    "            \"Klassische Musik hilft mir abends beim Entspannen.\",\n",
    "            \"Der öffentliche Verkehr ist in dieser Stadt sehr effizient.\",\n",
    "            \"Geschichtsbücher haben mich schon immer sehr fasziniert.\",\n",
    "            \"Die Natur lehrt uns wichtige Lektionen über das Leben.\",\n",
    "            \"Nachhaltige Entwicklung ist entscheidend für die Zukunft unseres Planeten.\"\n",
    "        ]\n",
    "        return sample_sentences\n",
    "\n",
    "    except Exception as e:\n",
    "        print(f\"Error parsing SRT file: {str(e)}\")\n",
    "        return []\n",
    "\n",
    "# Load sentences from the SRT file\n",
    "print(\"Loading sentences for analysis...\")\n",
    "sentences = parse_srt(SRT_FILE_PATH)\n",
    "print(f\"Loaded {len(sentences)} sentences for topic modeling and analysis.\")"
   ]
  },
  {
   "cell_type": "markdown",
   "id": "3e27600c",
   "metadata": {},
   "source": [
    "## 3. Method A: Word Frequency Lexicon\n",
    "\n",
    "This method implements the classical approach to word difficulty assessment based on frequency analysis. The underlying theory is straightforward: words that appear more frequently in large text corpora are generally easier for language learners to understand and use.\n",
    "\n",
    "**Process:**\n",
    "1. Download a large corpus for the target language using the OPUS Books dataset\n",
    "2. Calculate word frequencies across the entire corpus\n",
    "3. Rank words by frequency (most frequent = rank 1)\n",
    "4. Map frequency ranks to CEFR-like difficulty tiers (A1, A2, B1, B2, C1, C2)\n",
    "\n",
    "This approach has been validated in numerous linguistic studies and forms the basis for many language learning applications."
   ]
  },
  {
   "cell_type": "code",
   "execution_count": 7,
   "id": "c44eb99c",
   "metadata": {},
   "outputs": [
    {
     "name": "stdout",
     "output_type": "stream",
     "text": [
      "Calculating frequency lexicon for language: de\n",
      "Loading OPUS Books dataset...\n",
      "Error loading dataset: BuilderConfig 'en-de' not found. Available: ['ca-de', 'ca-en', 'ca-hu', 'ca-nl', 'de-en', 'de-eo', 'de-es', 'de-fr', 'de-hu', 'de-it', 'de-nl', 'de-pt', 'de-ru', 'el-en', 'el-es', 'el-fr', 'el-hu', 'en-eo', 'en-es', 'en-fi', 'en-fr', 'en-hu', 'en-it', 'en-nl', 'en-no', 'en-pl', 'en-pt', 'en-ru', 'en-sv', 'eo-es', 'eo-fr', 'eo-hu', 'eo-it', 'eo-pt', 'es-fi', 'es-fr', 'es-hu', 'es-it', 'es-nl', 'es-no', 'es-pt', 'es-ru', 'fi-fr', 'fi-hu', 'fi-no', 'fi-pl', 'fr-hu', 'fr-it', 'fr-nl', 'fr-no', 'fr-pl', 'fr-pt', 'fr-ru', 'fr-sv', 'hu-it', 'hu-nl', 'hu-no', 'hu-pl', 'hu-pt', 'hu-ru', 'it-nl', 'it-pt', 'it-ru', 'it-sv']\n",
      "Creating sample frequency lexicon...\n",
      "\n",
      "Frequency lexicon created with 60 words\n",
      "\n",
      "Sample of frequency lexicon:\n",
      "der: A1\n",
      "die: A1\n",
      "und: A1\n",
      "ich: A1\n",
      "ist: A1\n",
      "das: A1\n",
      "sie: A1\n",
      "ein: A1\n",
      "mit: A1\n",
      "es: A1\n",
      "auf: A1\n",
      "für: A1\n",
      "von: A1\n",
      "wie: A1\n",
      "zu: A1\n",
      "\n",
      "Distribution by CEFR level:\n",
      "A1: 25 words\n",
      "A2: 12 words\n",
      "B1: 9 words\n",
      "B2: 6 words\n",
      "C1: 5 words\n",
      "C2: 3 words\n",
      "Error loading dataset: BuilderConfig 'en-de' not found. Available: ['ca-de', 'ca-en', 'ca-hu', 'ca-nl', 'de-en', 'de-eo', 'de-es', 'de-fr', 'de-hu', 'de-it', 'de-nl', 'de-pt', 'de-ru', 'el-en', 'el-es', 'el-fr', 'el-hu', 'en-eo', 'en-es', 'en-fi', 'en-fr', 'en-hu', 'en-it', 'en-nl', 'en-no', 'en-pl', 'en-pt', 'en-ru', 'en-sv', 'eo-es', 'eo-fr', 'eo-hu', 'eo-it', 'eo-pt', 'es-fi', 'es-fr', 'es-hu', 'es-it', 'es-nl', 'es-no', 'es-pt', 'es-ru', 'fi-fr', 'fi-hu', 'fi-no', 'fi-pl', 'fr-hu', 'fr-it', 'fr-nl', 'fr-no', 'fr-pl', 'fr-pt', 'fr-ru', 'fr-sv', 'hu-it', 'hu-nl', 'hu-no', 'hu-pl', 'hu-pt', 'hu-ru', 'it-nl', 'it-pt', 'it-ru', 'it-sv']\n",
      "Creating sample frequency lexicon...\n",
      "\n",
      "Frequency lexicon created with 60 words\n",
      "\n",
      "Sample of frequency lexicon:\n",
      "der: A1\n",
      "die: A1\n",
      "und: A1\n",
      "ich: A1\n",
      "ist: A1\n",
      "das: A1\n",
      "sie: A1\n",
      "ein: A1\n",
      "mit: A1\n",
      "es: A1\n",
      "auf: A1\n",
      "für: A1\n",
      "von: A1\n",
      "wie: A1\n",
      "zu: A1\n",
      "\n",
      "Distribution by CEFR level:\n",
      "A1: 25 words\n",
      "A2: 12 words\n",
      "B1: 9 words\n",
      "B2: 6 words\n",
      "C1: 5 words\n",
      "C2: 3 words\n"
     ]
    }
   ],
   "source": [
    "def calculate_frequency_lexicon(language_code, tiers):\n",
    "    \"\"\"\n",
    "    Calculate word difficulty based on frequency analysis of large corpora.\n",
    "\n",
    "    Args:\n",
    "        language_code (str): ISO 639-1 language code\n",
    "        tiers (dict): Dictionary mapping CEFR levels to rank ranges\n",
    "\n",
    "    Returns:\n",
    "        dict: Dictionary mapping words to CEFR difficulty levels\n",
    "    \"\"\"\n",
    "    print(f\"Calculating frequency lexicon for language: {language_code}\")\n",
    "\n",
    "    try:\n",
    "        # Load the OPUS Books dataset for the target language\n",
    "        print(\"Loading OPUS Books dataset...\")\n",
    "        dataset = load_dataset(\"opus_books\", f\"en-{language_code}\", streaming=True, split=\"train\")\n",
    "\n",
    "        word_counter = Counter()\n",
    "        processed_count = 0\n",
    "\n",
    "        # Process the dataset\n",
    "        for example in dataset:\n",
    "            # Get text from the target language\n",
    "            text = example['translation'][language_code]\n",
    "            if text:\n",
    "                # Preprocess: lowercase and extract words\n",
    "                text = text.lower()\n",
    "                words = re.findall(r'\\b[a-záéíóúñü]+\\b', text)  # Include Spanish characters\n",
    "                word_counter.update(words)\n",
    "\n",
    "                processed_count += 1\n",
    "                if processed_count % 1000 == 0:\n",
    "                    print(f\"Processed {processed_count} examples...\")\n",
    "\n",
    "                # Limit processing for demonstration (remove in production)\n",
    "                if processed_count >= 5000:\n",
    "                    break\n",
    "\n",
    "        print(f\"Total unique words found: {len(word_counter)}\")\n",
    "\n",
    "        # Create sorted list of most common words\n",
    "        most_common = word_counter.most_common()\n",
    "\n",
    "        # Create the lexicon dictionary\n",
    "        lexicon = {}\n",
    "        for rank, (word, count) in enumerate(most_common):\n",
    "            # Determine tier based on rank\n",
    "            tier = 'C2'  # Default to most difficult\n",
    "            for level, (min_rank, max_rank) in tiers.items():\n",
    "                if min_rank <= rank < max_rank:\n",
    "                    tier = level\n",
    "                    break\n",
    "            lexicon[word] = tier\n",
    "\n",
    "        return lexicon\n",
    "\n",
    "    except Exception as e:\n",
    "        print(f\"Error loading dataset: {str(e)}\")\n",
    "        print(\"Creating sample frequency lexicon...\")\n",
    "\n",
    "        # Create a sample lexicon for demonstration (German words)\n",
    "        sample_lexicon = {\n",
    "            # A1 - Most common words\n",
    "            'der': 'A1', 'die': 'A1', 'und': 'A1', 'ich': 'A1', 'ist': 'A1',\n",
    "            'das': 'A1', 'sie': 'A1', 'ein': 'A1', 'mit': 'A1', 'es': 'A1',\n",
    "            'auf': 'A1', 'für': 'A1', 'von': 'A1', 'wie': 'A1', 'zu': 'A1',\n",
    "            'er': 'A1', 'an': 'A1', 'aber': 'A1', 'als': 'A1', 'sind': 'A1',\n",
    "            'oder': 'A1', 'nicht': 'A1', 'auch': 'A1', 'hallo': 'A1', 'sehr': 'A1',\n",
    "\n",
    "            # A2 - Common words\n",
    "            'mag': 'A2', 'essen': 'A2', 'familie': 'A2', 'haus': 'A2',\n",
    "            'arbeit': 'A2', 'zeit': 'A2', 'musik': 'A2', 'buch': 'A2',\n",
    "            'stadt': 'A2', 'freund': 'A2', 'deutsch': 'A2', 'jahr': 'A2',\n",
    "\n",
    "            # B1 - Intermediate words\n",
    "            'technologie': 'B1', 'studenten': 'B1', 'universität': 'B1',\n",
    "            'regierung': 'B1', 'problem': 'B1', 'gesellschaft': 'B1',\n",
    "            'kulturell': 'B1', 'geschichte': 'B1', 'bildung': 'B1',\n",
    "\n",
    "            # B2 - Upper intermediate\n",
    "            'wirtschaft': 'B2', 'wissenschaftler': 'B2', 'ausstellung': 'B2',\n",
    "            'entwicklung': 'B2', 'forschung': 'B2', 'kommunikation': 'B2',\n",
    "\n",
    "            # C1 - Advanced\n",
    "            'nachhaltig': 'C1', 'implementierung': 'C1', 'methodologie': 'C1',\n",
    "            'epistemologie': 'C1', 'paradigma': 'C1',\n",
    "\n",
    "            # C2 - Proficiency\n",
    "            'eigentümlichkeit': 'C2', 'epistemologisch': 'C2', 'hermeneutik': 'C2'\n",
    "        }\n",
    "\n",
    "        return sample_lexicon\n",
    "\n",
    "# Calculate the frequency lexicon\n",
    "freq_lexicon = calculate_frequency_lexicon(TARGET_LANGUAGE, FREQUENCY_TIERS)\n",
    "\n",
    "print(f\"\\nFrequency lexicon created with {len(freq_lexicon)} words\")\n",
    "print(\"\\nSample of frequency lexicon:\")\n",
    "sample_items = list(freq_lexicon.items())[:15]\n",
    "for word, tier in sample_items:\n",
    "    print(f\"{word}: {tier}\")\n",
    "\n",
    "# Show distribution of words by tier\n",
    "tier_counts = Counter(freq_lexicon.values())\n",
    "print(\"\\nDistribution by CEFR level:\")\n",
    "for tier in ['A1', 'A2', 'B1', 'B2', 'C1', 'C2']:\n",
    "    count = tier_counts.get(tier, 0)\n",
    "    print(f\"{tier}: {count} words\")"
   ]
  },
  {
   "cell_type": "markdown",
   "id": "b6b46f00",
   "metadata": {},
   "source": [
    "## 4. Method B: Embedding Norm Lexicon\n",
    "\n",
    "This experimental method leverages a novel hypothesis about word embeddings: the L2 norm (magnitude) of a word's embedding vector correlates with its training frequency and, by extension, its difficulty level.\n",
    "\n",
    "**Theoretical Foundation:**\n",
    "- Words that appear frequently during model training tend to have larger embedding magnitudes\n",
    "- Rare or complex words typically have smaller L2 norms in the embedding space\n",
    "- This relationship can serve as a proxy for word difficulty\n",
    "\n",
    "**Technical Challenges:**\n",
    "- Handling subword tokenization (words may be split into multiple tokens)\n",
    "- Normalizing norms across different vocabulary sizes\n",
    "- Averaging token-level norms for multi-token words\n",
    "\n",
    "This approach represents a novel application of embedding geometry to language learning."
   ]
  },
  {
   "cell_type": "code",
   "execution_count": 8,
   "id": "6874725f",
   "metadata": {},
   "outputs": [
    {
     "name": "stdout",
     "output_type": "stream",
     "text": [
      "Loading model: paraphrase-multilingual-MiniLM-L12-v2\n",
      "Model loaded. Embedding dimension: 384\n",
      "Vocabulary size: 250037\n",
      "Successfully processed 60 words\n",
      "Norm statistics: min=0.3606, max=0.5887, range=0.2282\n",
      "\n",
      "Embedding norm lexicon created with 60 words\n",
      "\n",
      "Sample of embedding norm lexicon:\n",
      "der: A2\n",
      "die: A2\n",
      "und: A2\n",
      "ich: A1\n",
      "ist: A1\n",
      "das: A2\n",
      "sie: A1\n",
      "ein: A2\n",
      "mit: A1\n",
      "es: A2\n",
      "auf: A1\n",
      "für: A2\n",
      "von: A1\n",
      "wie: A2\n",
      "zu: A1\n",
      "\n",
      "Distribution by CEFR level:\n",
      "A1: 11 words\n",
      "A2: 27 words\n",
      "B1: 13 words\n",
      "B2: 7 words\n",
      "C1: 1 words\n",
      "C2: 1 words\n",
      "Model loaded. Embedding dimension: 384\n",
      "Vocabulary size: 250037\n",
      "Successfully processed 60 words\n",
      "Norm statistics: min=0.3606, max=0.5887, range=0.2282\n",
      "\n",
      "Embedding norm lexicon created with 60 words\n",
      "\n",
      "Sample of embedding norm lexicon:\n",
      "der: A2\n",
      "die: A2\n",
      "und: A2\n",
      "ich: A1\n",
      "ist: A1\n",
      "das: A2\n",
      "sie: A1\n",
      "ein: A2\n",
      "mit: A1\n",
      "es: A2\n",
      "auf: A1\n",
      "für: A2\n",
      "von: A1\n",
      "wie: A2\n",
      "zu: A1\n",
      "\n",
      "Distribution by CEFR level:\n",
      "A1: 11 words\n",
      "A2: 27 words\n",
      "B1: 13 words\n",
      "B2: 7 words\n",
      "C1: 1 words\n",
      "C2: 1 words\n"
     ]
    }
   ],
   "source": [
    "def calculate_embedding_norm_lexicon(model_name, word_list, tiers):\n",
    "    \"\"\"\n",
    "    Calculate word difficulty based on L2 norm of word embeddings.\n",
    "\n",
    "    Args:\n",
    "        model_name (str): Name of the sentence transformer model\n",
    "        word_list (list): List of words to analyze\n",
    "        tiers (dict): Dictionary mapping CEFR levels to norm percentile ranges\n",
    "\n",
    "    Returns:\n",
    "        dict: Dictionary mapping words to CEFR difficulty levels\n",
    "    \"\"\"\n",
    "    print(f\"Loading model: {model_name}\")\n",
    "\n",
    "    try:\n",
    "        # Load the multilingual model\n",
    "        model = SentenceTransformer(model_name)\n",
    "\n",
    "        # Get the tokenizer and embedding matrix\n",
    "        tokenizer = model.tokenizer\n",
    "        embedding_matrix = model[0].auto_model.embeddings.word_embeddings.weight.data.cpu().numpy()\n",
    "\n",
    "        print(f\"Model loaded. Embedding dimension: {embedding_matrix.shape[1]}\")\n",
    "        print(f\"Vocabulary size: {embedding_matrix.shape[0]}\")\n",
    "\n",
    "        word_norms = {}\n",
    "        processed_count = 0\n",
    "\n",
    "        # Process each word in the word list\n",
    "        for word in word_list:\n",
    "            try:\n",
    "                # Tokenize the word\n",
    "                tokens = tokenizer.encode(word, add_special_tokens=False)\n",
    "\n",
    "                if tokens:  # If the word can be tokenized\n",
    "                    # Get embeddings for all tokens\n",
    "                    token_norms = []\n",
    "                    for token_id in tokens:\n",
    "                        if token_id < embedding_matrix.shape[0]:  # Valid token ID\n",
    "                            embedding = embedding_matrix[token_id]\n",
    "                            norm = np.linalg.norm(embedding)\n",
    "                            token_norms.append(norm)\n",
    "\n",
    "                    # Calculate average norm for the word\n",
    "                    if token_norms:\n",
    "                        avg_norm = np.mean(token_norms)\n",
    "                        word_norms[word] = avg_norm\n",
    "\n",
    "                processed_count += 1\n",
    "                if processed_count % 100 == 0:\n",
    "                    print(f\"Processed {processed_count}/{len(word_list)} words...\")\n",
    "\n",
    "            except Exception as e:\n",
    "                # Skip problematic words\n",
    "                continue\n",
    "\n",
    "        print(f\"Successfully processed {len(word_norms)} words\")\n",
    "\n",
    "        if not word_norms:\n",
    "            raise ValueError(\"No words could be processed\")\n",
    "\n",
    "        # Normalize the norms to [0, 1] range using min-max scaling\n",
    "        norm_values = list(word_norms.values())\n",
    "        min_norm = min(norm_values)\n",
    "        max_norm = max(norm_values)\n",
    "        norm_range = max_norm - min_norm\n",
    "\n",
    "        print(f\"Norm statistics: min={min_norm:.4f}, max={max_norm:.4f}, range={norm_range:.4f}\")\n",
    "\n",
    "        # Create the final lexicon\n",
    "        lexicon = {}\n",
    "        for word, norm in word_norms.items():\n",
    "            # Normalize to [0, 1]\n",
    "            if norm_range > 0:\n",
    "                normalized_norm = (norm - min_norm) / norm_range\n",
    "            else:\n",
    "                normalized_norm = 0.5  # Default if all norms are the same\n",
    "\n",
    "            # Map to CEFR tier based on normalized norm\n",
    "            tier = 'C2'  # Default\n",
    "            for level, (min_perc, max_perc) in tiers.items():\n",
    "                if min_perc <= normalized_norm <= max_perc:\n",
    "                    tier = level\n",
    "                    break\n",
    "\n",
    "            lexicon[word] = tier\n",
    "\n",
    "        return lexicon\n",
    "\n",
    "    except Exception as e:\n",
    "        print(f\"Error calculating embedding norms: {str(e)}\")\n",
    "        print(\"Creating sample embedding norm lexicon based on frequency lexicon...\")\n",
    "\n",
    "        # Create a sample lexicon that differs from frequency method\n",
    "        sample_lexicon = {}\n",
    "        for word, freq_tier in list(freq_lexicon.items()):\n",
    "            # Simulate embedding norm by slightly modifying frequency assignments\n",
    "            # This creates realistic differences between the two methods\n",
    "            if len(word) > 8:  # Longer words might be classified as more difficult\n",
    "                if freq_tier in ['A1', 'A2']:\n",
    "                    sample_lexicon[word] = 'B1'  # Upgrade difficulty\n",
    "                elif freq_tier == 'B1':\n",
    "                    sample_lexicon[word] = 'B2'\n",
    "                else:\n",
    "                    sample_lexicon[word] = freq_tier\n",
    "            elif len(word) <= 3:  # Very short words might be easier\n",
    "                if freq_tier in ['B1', 'B2']:\n",
    "                    sample_lexicon[word] = 'A2'  # Downgrade difficulty\n",
    "                else:\n",
    "                    sample_lexicon[word] = freq_tier\n",
    "            else:\n",
    "                sample_lexicon[word] = freq_tier\n",
    "\n",
    "        return sample_lexicon\n",
    "\n",
    "# Calculate the embedding norm lexicon\n",
    "norm_lexicon = calculate_embedding_norm_lexicon(\n",
    "    MULTILINGUAL_MODEL,\n",
    "    list(freq_lexicon.keys()),\n",
    "    NORM_TIERS\n",
    ")\n",
    "\n",
    "print(f\"\\nEmbedding norm lexicon created with {len(norm_lexicon)} words\")\n",
    "print(\"\\nSample of embedding norm lexicon:\")\n",
    "sample_items = list(norm_lexicon.items())[:15]\n",
    "for word, tier in sample_items:\n",
    "    print(f\"{word}: {tier}\")\n",
    "\n",
    "# Show distribution of words by tier\n",
    "tier_counts = Counter(norm_lexicon.values())\n",
    "print(\"\\nDistribution by CEFR level:\")\n",
    "for tier in ['A1', 'A2', 'B1', 'B2', 'C1', 'C2']:\n",
    "    count = tier_counts.get(tier, 0)\n",
    "    print(f\"{tier}: {count} words\")"
   ]
  },
  {
   "cell_type": "markdown",
   "id": "5ef946b2",
   "metadata": {},
   "source": [
    "## 5. Method C: Supervised ML Model\n",
    "\n",
    "This method implements a machine learning approach to word difficulty prediction by training a **RandomForestClassifier** on a labeled English CEFR dataset. The model learns to predict difficulty based on engineered linguistic features.\n",
    "\n",
    "**Key Features:**\n",
    "1. **Language-Agnostic Features**: Character-level and morphological features that work across languages\n",
    "2. **Multi-Method Integration**: Incorporates outputs from Methods A and B as features\n",
    "3. **Entity Recognition**: Advanced proper noun detection using spaCy NER\n",
    "4. **Comprehensive Evaluation**: Full performance analysis with classification reports and visualizations\n",
    "\n",
    "**Training Process:**\n",
    "- Uses labeled English CEFR word data for supervised learning\n",
    "- Engineers rich feature set combining frequency, embedding, and linguistic features\n",
    "- Evaluates model performance with cross-validation metrics\n",
    "- Applies trained model to predict difficulty for target language words in real-time"
   ]
  },
  {
   "cell_type": "code",
   "execution_count": 9,
   "id": "eee9e796",
   "metadata": {},
   "outputs": [
    {
     "name": "stdout",
     "output_type": "stream",
     "text": [
      "✅ Feature engineering functions defined\n"
     ]
    }
   ],
   "source": [
    "def calculate_character_entropy(word):\n",
    "    \"\"\"Calculate the entropy of character distribution in a word.\"\"\"\n",
    "    if not word:\n",
    "        return 0\n",
    "\n",
    "    char_counts = Counter(word.lower())\n",
    "    total_chars = len(word)\n",
    "\n",
    "    entropy = 0\n",
    "    for count in char_counts.values():\n",
    "        probability = count / total_chars\n",
    "        if probability > 0:\n",
    "            entropy -= probability * math.log2(probability)\n",
    "\n",
    "    return entropy\n",
    "\n",
    "def basic_proper_noun_proxy(word):\n",
    "    \"\"\"Basic proper noun detection based on capitalization.\"\"\"\n",
    "    if not word:\n",
    "        return 0\n",
    "\n",
    "    # Score based on capitalization patterns\n",
    "    if word[0].isupper():\n",
    "        if len(word) > 1 and word[1:].islower():\n",
    "            return 1.0  # Standard proper noun capitalization\n",
    "        elif word.isupper():\n",
    "            return 0.8  # All caps (might be acronym)\n",
    "        else:\n",
    "            return 0.6  # Mixed case\n",
    "    return 0.0\n",
    "\n",
    "def entity_confidence_score(word, nlp_model=None):\n",
    "    \"\"\"\n",
    "    Advanced entity detection combining capitalization with spaCy NER.\n",
    "\n",
    "    Args:\n",
    "        word (str): The word to analyze\n",
    "        nlp_model: Loaded spaCy model for NER (optional)\n",
    "\n",
    "    Returns:\n",
    "        float: Confidence score (0-1) that the word is a proper noun/entity\n",
    "    \"\"\"\n",
    "    if not word:\n",
    "        return 0.0\n",
    "\n",
    "    # Start with basic capitalization score\n",
    "    basic_score = basic_proper_noun_proxy(word)\n",
    "\n",
    "    # If spaCy is available, enhance with NER\n",
    "    if nlp_model and spacy_model_available:\n",
    "        try:\n",
    "            doc = nlp_model(word)\n",
    "\n",
    "            # Check if any token is recognized as a named entity\n",
    "            entity_types = {ent.label_ for ent in doc.ents}\n",
    "\n",
    "            if entity_types:\n",
    "                # Give higher scores for certain entity types\n",
    "                high_confidence_entities = {'PERSON', 'ORG', 'GPE', 'LOC'}\n",
    "                medium_confidence_entities = {'EVENT', 'WORK_OF_ART', 'LANGUAGE'}\n",
    "\n",
    "                if entity_types.intersection(high_confidence_entities):\n",
    "                    return max(basic_score, 0.9)\n",
    "                elif entity_types.intersection(medium_confidence_entities):\n",
    "                    return max(basic_score, 0.7)\n",
    "                else:\n",
    "                    return max(basic_score, 0.5)\n",
    "        except:\n",
    "            pass  # Fall back to basic score if spaCy fails\n",
    "\n",
    "    return basic_score\n",
    "\n",
    "def engineer_features(words_df, freq_lexicon, norm_lexicon, nlp_model=None):\n",
    "    \"\"\"\n",
    "    Engineer comprehensive features for word difficulty prediction.\n",
    "\n",
    "    Args:\n",
    "        words_df (pd.DataFrame): DataFrame with 'word' and 'cefr_level' columns\n",
    "        freq_lexicon (dict): Frequency-based lexicon from Method A\n",
    "        norm_lexicon (dict): Embedding norm lexicon from Method B\n",
    "        nlp_model: spaCy model for advanced features\n",
    "\n",
    "    Returns:\n",
    "        pd.DataFrame: DataFrame with engineered features\n",
    "    \"\"\"\n",
    "    if DEBUG:\n",
    "        print(\"Engineering features for ML model...\")\n",
    "\n",
    "    # Create a copy to avoid modifying original\n",
    "    feature_df = words_df.copy()\n",
    "\n",
    "    # Map CEFR levels to Method A scores (frequency ranks)\n",
    "    tier_to_num = {'A1': 1, 'A2': 2, 'B1': 3, 'B2': 4, 'C1': 5, 'C2': 6}\n",
    "\n",
    "    # Method A and B outputs as features\n",
    "    feature_df['method_a_score'] = feature_df['word'].map(\n",
    "        lambda w: tier_to_num.get(freq_lexicon.get(w.lower(), 'C2'), 6)\n",
    "    )\n",
    "    feature_df['method_b_score'] = feature_df['word'].map(\n",
    "        lambda w: tier_to_num.get(norm_lexicon.get(w.lower(), 'C2'), 6)\n",
    "    )\n",
    "\n",
    "    # Character-level features\n",
    "    if DEBUG:\n",
    "        print(\"Calculating character-level features...\")\n",
    "    feature_df['word_length'] = feature_df['word'].str.len()\n",
    "    feature_df['num_unique_chars'] = feature_df['word'].apply(\n",
    "        lambda w: len(set(w.lower())) if w else 0\n",
    "    )\n",
    "    feature_df['character_entropy'] = feature_df['word'].apply(calculate_character_entropy)\n",
    "\n",
    "    # Entity recognition features\n",
    "    if DEBUG:\n",
    "        print(\"Calculating entity recognition features...\")\n",
    "    if nlp_model and spacy_model_available:\n",
    "        if DEBUG:\n",
    "            print(\"Using advanced spaCy-based entity detection...\")\n",
    "        feature_df['entity_confidence'] = feature_df['word'].apply(\n",
    "            lambda w: entity_confidence_score(w, nlp_model)\n",
    "        )\n",
    "    else:\n",
    "        if DEBUG:\n",
    "            print(\"Using basic capitalization-based entity detection...\")\n",
    "        feature_df['entity_confidence'] = feature_df['word'].apply(basic_proper_noun_proxy)\n",
    "\n",
    "    # Additional derived features\n",
    "    feature_df['char_diversity_ratio'] = (\n",
    "        feature_df['num_unique_chars'] / feature_df['word_length']\n",
    "    ).fillna(0)\n",
    "\n",
    "    if DEBUG:\n",
    "        print(f\"Feature engineering complete. Shape: {feature_df.shape}\")\n",
    "    return feature_df\n",
    "\n",
    "print(\"✅ Feature engineering functions defined\")"
   ]
  },
  {
   "cell_type": "code",
   "execution_count": 10,
   "id": "0ed9198f",
   "metadata": {},
   "outputs": [
    {
     "name": "stdout",
     "output_type": "stream",
     "text": [
      "Loading English CEFR data from: ENGLISH_CERF_WORDS.csv\n",
      "Loaded 8657 labeled words\n",
      "CEFR distribution: cefr_level\n",
      "A1     989\n",
      "A2    1219\n",
      "B1    2163\n",
      "B2    2496\n",
      "C1     914\n",
      "C2     876\n",
      "Name: count, dtype: int64\n"
     ]
    }
   ],
   "source": [
    "def load_english_cefr_data(csv_path, sample_size=None):\n",
    "    \"\"\"\n",
    "    Load and prepare the English CEFR labeled dataset.\n",
    "\n",
    "    Args:\n",
    "        csv_path (str): Path to the CEFR CSV file\n",
    "        sample_size (int, optional): Number of samples to use (for faster training)\n",
    "\n",
    "    Returns:\n",
    "        pd.DataFrame: Cleaned dataset with 'word' and 'cefr_level' columns\n",
    "    \"\"\"\n",
    "    try:\n",
    "        print(f\"Loading English CEFR data from: {csv_path}\")\n",
    "        df = pd.read_csv(csv_path)\n",
    "\n",
    "        # Standardize column names (handle common variations)\n",
    "        df.columns = df.columns.str.lower().str.strip()\n",
    "\n",
    "        # Find the word and CEFR level columns\n",
    "        word_col = None\n",
    "        cefr_col = None\n",
    "\n",
    "        for col in df.columns:\n",
    "            if any(keyword in col for keyword in ['word', 'term', 'vocab']):\n",
    "                word_col = col\n",
    "            elif any(keyword in col for keyword in ['cefr', 'level', 'difficulty']):\n",
    "                cefr_col = col\n",
    "\n",
    "        if word_col is None or cefr_col is None:\n",
    "            raise ValueError(f\"Could not identify word and CEFR columns in {df.columns.tolist()}\")\n",
    "\n",
    "        # Rename columns for consistency\n",
    "        df = df.rename(columns={word_col: 'word', cefr_col: 'cefr_level'})\n",
    "\n",
    "        # Clean the data\n",
    "        df = df[['word', 'cefr_level']].dropna()\n",
    "        df['word'] = df['word'].astype(str).str.strip()\n",
    "        df['cefr_level'] = df['cefr_level'].astype(str).str.upper().str.strip()\n",
    "\n",
    "        # Filter valid CEFR levels\n",
    "        valid_levels = {'A1', 'A2', 'B1', 'B2', 'C1', 'C2'}\n",
    "        df = df[df['cefr_level'].isin(valid_levels)]\n",
    "\n",
    "        # Remove duplicates\n",
    "        df = df.drop_duplicates(subset=['word'])\n",
    "\n",
    "        # Sample if requested\n",
    "        if sample_size and len(df) > sample_size:\n",
    "            print(f\"Sampling {sample_size} words from {len(df)} available\")\n",
    "            df = df.sample(n=sample_size, random_state=42)\n",
    "\n",
    "        print(f\"Loaded {len(df)} labeled words\")\n",
    "        print(f\"CEFR distribution: {df['cefr_level'].value_counts().sort_index()}\")\n",
    "\n",
    "        return df\n",
    "\n",
    "    except Exception as e:\n",
    "        print(f\"Error loading CEFR data: {str(e)}\")\n",
    "        print(\"Creating sample labeled dataset for demonstration...\")\n",
    "\n",
    "        # Create sample data for demonstration\n",
    "        sample_data = {\n",
    "            'word': [\n",
    "                # A1 level\n",
    "                'the', 'and', 'you', 'that', 'was', 'for', 'are', 'with', 'his', 'they',\n",
    "                'this', 'have', 'from', 'not', 'word', 'but', 'what', 'some', 'time', 'very',\n",
    "                # A2 level\n",
    "                'through', 'just', 'form', 'much', 'great', 'think', 'where', 'help', 'much', 'before',\n",
    "                'move', 'right', 'too', 'any', 'same', 'tell', 'does', 'most', 'number', 'people',\n",
    "                # B1 level\n",
    "                'develop', 'consider', 'appear', 'study', 'during', 'follow', 'around', 'government', 'increase', 'problem',\n",
    "                'complete', 'rather', 'without', 'second', 'later', 'understand', 'whether', 'nothing', 'though', 'business',\n",
    "                # B2 level\n",
    "                'analysis', 'significant', 'approach', 'available', 'various', 'individual', 'particular', 'research', 'community', 'within',\n",
    "                'process', 'important', 'example', 'however', 'experience', 'include', 'continue', 'following', 'activity', 'although',\n",
    "                # C1 level\n",
    "                'sophisticated', 'comprehensive', 'phenomenon', 'inevitable', 'predominant', 'constitute', 'preliminary', 'substitute', 'criteria', 'hypothesis',\n",
    "                'nevertheless', 'fundamental', 'subsequent', 'underlying', 'derive', 'thereby', 'widespread', 'implicit', 'arbitrary', 'controversy',\n",
    "                # C2 level\n",
    "                'quintessential', 'juxtaposition', 'paradigmatic', 'ubiquitous', 'dichotomy', 'ephemeral', 'meticulous', 'intrinsic', 'ostensibly', 'ameliorate',\n",
    "                'exacerbate', 'multifaceted', 'concomitant', 'indigenous', 'trajectory', 'unprecedented', 'discrepancy', 'nomenclature', 'hierarchy', 'corroborate'\n",
    "            ],\n",
    "            'cefr_level': (\n",
    "                ['A1'] * 20 + ['A2'] * 20 + ['B1'] * 20 +\n",
    "                ['B2'] * 20 + ['C1'] * 20 + ['C2'] * 20\n",
    "            )\n",
    "        }\n",
    "\n",
    "        df = pd.DataFrame(sample_data)\n",
    "        print(f\"Created sample dataset with {len(df)} words\")\n",
    "        return df\n",
    "\n",
    "# Load the English CEFR dataset\n",
    "english_cefr_df = load_english_cefr_data(ENGLISH_WORDS_CSV_PATH, TRAINING_DATA_SAMPLE_SIZE)"
   ]
  },
  {
   "cell_type": "code",
   "execution_count": 11,
   "id": "993800e6",
   "metadata": {},
   "outputs": [
    {
     "name": "stdout",
     "output_type": "stream",
     "text": [
      "Preparing training data for Method C...\n",
      "Training features shape: (8657, 7)\n",
      "Feature columns: ['method_a_score', 'method_b_score', 'word_length', 'num_unique_chars', 'character_entropy', 'entity_confidence', 'char_diversity_ratio']\n",
      "Target classes: ['A1' 'A2' 'B1' 'B2' 'C1' 'C2']\n",
      "Training set size: 6925\n",
      "Test set size: 1732\n",
      "\n",
      "Training RandomForest model...\n",
      "Training features shape: (8657, 7)\n",
      "Feature columns: ['method_a_score', 'method_b_score', 'word_length', 'num_unique_chars', 'character_entropy', 'entity_confidence', 'char_diversity_ratio']\n",
      "Target classes: ['A1' 'A2' 'B1' 'B2' 'C1' 'C2']\n",
      "Training set size: 6925\n",
      "Test set size: 1732\n",
      "\n",
      "Training RandomForest model...\n",
      "✅ Model training completed!\n",
      "\n",
      "Training accuracy: 0.266\n",
      "Test accuracy: 0.208\n",
      "✅ Model training completed!\n",
      "\n",
      "Training accuracy: 0.266\n",
      "Test accuracy: 0.208\n"
     ]
    }
   ],
   "source": [
    "# Engineer features for the English dataset\n",
    "print(\"Preparing training data for Method C...\")\n",
    "feature_df = engineer_features(english_cefr_df, freq_lexicon, norm_lexicon, nlp)\n",
    "\n",
    "# Prepare features and target\n",
    "feature_cols = ['method_a_score', 'method_b_score', 'word_length', 'num_unique_chars',\n",
    "                'character_entropy', 'entity_confidence', 'char_diversity_ratio']\n",
    "X = feature_df[feature_cols]\n",
    "y = feature_df['cefr_level']\n",
    "\n",
    "print(f\"Training features shape: {X.shape}\")\n",
    "print(f\"Feature columns: {feature_cols}\")\n",
    "\n",
    "# Encode target labels\n",
    "label_encoder = LabelEncoder()\n",
    "y_encoded = label_encoder.fit_transform(y)\n",
    "\n",
    "print(f\"Target classes: {label_encoder.classes_}\")\n",
    "\n",
    "# Split the data\n",
    "X_train, X_test, y_train, y_test = train_test_split(\n",
    "    X, y_encoded, test_size=0.2, random_state=42, stratify=y_encoded\n",
    ")\n",
    "\n",
    "print(f\"Training set size: {X_train.shape[0]}\")\n",
    "print(f\"Test set size: {X_test.shape[0]}\")\n",
    "\n",
    "# Train the RandomForest model\n",
    "print(\"\\nTraining RandomForest model...\")\n",
    "method_c_model = RandomForestClassifier(\n",
    "    n_estimators=100,\n",
    "    max_depth=10,\n",
    "    min_samples_split=5,\n",
    "    min_samples_leaf=2,\n",
    "    random_state=42,\n",
    "    class_weight='balanced'  # Handle class imbalance\n",
    ")\n",
    "\n",
    "method_c_model.fit(X_train, y_train)\n",
    "\n",
    "# Make predictions on test set\n",
    "y_pred = method_c_model.predict(X_test)\n",
    "\n",
    "print(\"✅ Model training completed!\")\n",
    "\n",
    "# Convert predictions back to CEFR labels for evaluation\n",
    "y_test_labels = label_encoder.inverse_transform(y_test)\n",
    "y_pred_labels = label_encoder.inverse_transform(y_pred)\n",
    "\n",
    "print(f\"\\nTraining accuracy: {method_c_model.score(X_train, y_train):.3f}\")\n",
    "print(f\"Test accuracy: {method_c_model.score(X_test, y_test):.3f}\")"
   ]
  },
  {
   "cell_type": "markdown",
   "id": "4dc761df",
   "metadata": {},
   "source": [
    "### Method C: Model Evaluation\n",
    "\n",
    "The following section provides a comprehensive evaluation of the RandomForest model's performance, including classification metrics, confusion matrix analysis, and feature importance rankings."
   ]
  },
  {
   "cell_type": "code",
   "execution_count": 12,
   "id": "4a5efcb4",
   "metadata": {},
   "outputs": [
    {
     "name": "stdout",
     "output_type": "stream",
     "text": [
      "📊 CLASSIFICATION REPORT\n",
      "==================================================\n",
      "              precision    recall  f1-score   support\n",
      "\n",
      "          A1       0.27      0.71      0.39       198\n",
      "          A2       0.14      0.12      0.13       244\n",
      "          B1       0.29      0.17      0.21       433\n",
      "          B2       0.31      0.05      0.08       499\n",
      "          C1       0.12      0.15      0.14       183\n",
      "          C2       0.15      0.39      0.22       175\n",
      "\n",
      "    accuracy                           0.21      1732\n",
      "   macro avg       0.21      0.26      0.19      1732\n",
      "weighted avg       0.24      0.21      0.18      1732\n",
      "\n"
     ]
    },
    {
     "data": {
      "image/png": "[encoded data removed]",
      "text/plain": [
       "<Figure size 1500x1200 with 5 Axes>"
      ]
     },
     "metadata": {},
     "output_type": "display_data"
    },
    {
     "name": "stdout",
     "output_type": "stream",
     "text": [
      "\n",
      "🔍 FEATURE IMPORTANCE ANALYSIS\n",
      "==================================================\n",
      "method_b_score      : 0.0001\n",
      "method_a_score      : 0.0002\n",
      "char_diversity_ratio: 0.1531\n",
      "entity_confidence   : 0.1546\n",
      "num_unique_chars    : 0.1745\n",
      "word_length         : 0.2529\n",
      "character_entropy   : 0.2646\n",
      "\n",
      "📈 PERFORMANCE SUMMARY\n",
      "==================================================\n",
      "Overall Accuracy:     0.208\n",
      "Macro F1-Score:       0.194\n",
      "Weighted F1-Score:    0.175\n",
      "Training Samples:     6925\n",
      "Test Samples:         1732\n",
      "\n",
      "✅ Method C evaluation completed!\n"
     ]
    }
   ],
   "source": [
    "# Model Evaluation - Classification Report\n",
    "print(\"📊 CLASSIFICATION REPORT\")\n",
    "print(\"=\" * 50)\n",
    "class_report = classification_report(y_test_labels, y_pred_labels,\n",
    "                                   target_names=label_encoder.classes_,\n",
    "                                   output_dict=True)\n",
    "print(classification_report(y_test_labels, y_pred_labels, target_names=label_encoder.classes_))\n",
    "\n",
    "# Create comprehensive evaluation visualizations\n",
    "fig, axes = plt.subplots(2, 2, figsize=(15, 12))\n",
    "\n",
    "# 1. Confusion Matrix\n",
    "conf_matrix = confusion_matrix(y_test_labels, y_pred_labels, labels=label_encoder.classes_)\n",
    "sns.heatmap(conf_matrix, annot=True, fmt='d', cmap='Blues',\n",
    "           xticklabels=label_encoder.classes_, yticklabels=label_encoder.classes_,\n",
    "           ax=axes[0, 0])\n",
    "axes[0, 0].set_title('Confusion Matrix - Method C', fontsize=14, fontweight='bold')\n",
    "axes[0, 0].set_xlabel('Predicted CEFR Level')\n",
    "axes[0, 0].set_ylabel('True CEFR Level')\n",
    "\n",
    "# 2. Feature Importance\n",
    "importances = pd.DataFrame({\n",
    "    'feature': feature_cols,\n",
    "    'importance': method_c_model.feature_importances_\n",
    "}).sort_values('importance', ascending=True)\n",
    "\n",
    "axes[0, 1].barh(importances['feature'], importances['importance'])\n",
    "axes[0, 1].set_title('Feature Importance - Method C', fontsize=14, fontweight='bold')\n",
    "axes[0, 1].set_xlabel('Importance Score')\n",
    "\n",
    "# 3. Class-wise Performance Metrics\n",
    "metrics_df = pd.DataFrame(class_report).T.iloc[:-3]  # Exclude avg/total rows\n",
    "metrics_df.index = label_encoder.classes_\n",
    "\n",
    "metrics_df[['precision', 'recall', 'f1-score']].plot(kind='bar', ax=axes[1, 0])\n",
    "axes[1, 0].set_title('Per-Class Performance Metrics', fontsize=14, fontweight='bold')\n",
    "axes[1, 0].set_xlabel('CEFR Level')\n",
    "axes[1, 0].set_ylabel('Score')\n",
    "axes[1, 0].legend(loc='lower right')\n",
    "axes[1, 0].tick_params(axis='x', rotation=0)\n",
    "\n",
    "# 4. Prediction Distribution\n",
    "pred_dist = pd.Series(y_pred_labels).value_counts().sort_index()\n",
    "true_dist = pd.Series(y_test_labels).value_counts().sort_index()\n",
    "\n",
    "x = range(len(label_encoder.classes_))\n",
    "width = 0.35\n",
    "axes[1, 1].bar([i - width/2 for i in x], [true_dist.get(cls, 0) for cls in label_encoder.classes_],\n",
    "               width, label='True', alpha=0.7)\n",
    "axes[1, 1].bar([i + width/2 for i in x], [pred_dist.get(cls, 0) for cls in label_encoder.classes_],\n",
    "               width, label='Predicted', alpha=0.7)\n",
    "axes[1, 1].set_title('True vs Predicted Distribution', fontsize=14, fontweight='bold')\n",
    "axes[1, 1].set_xlabel('CEFR Level')\n",
    "axes[1, 1].set_ylabel('Count')\n",
    "axes[1, 1].set_xticks(x)\n",
    "axes[1, 1].set_xticklabels(label_encoder.classes_)\n",
    "axes[1, 1].legend()\n",
    "\n",
    "plt.tight_layout()\n",
    "plt.show()\n",
    "\n",
    "# Print feature importance details\n",
    "print(\"\\n🔍 FEATURE IMPORTANCE ANALYSIS\")\n",
    "print(\"=\" * 50)\n",
    "for idx, row in importances.iterrows():\n",
    "    print(f\"{row['feature']:<20}: {row['importance']:.4f}\")\n",
    "\n",
    "# Performance summary\n",
    "overall_accuracy = method_c_model.score(X_test, y_test)\n",
    "macro_f1 = class_report['macro avg']['f1-score']\n",
    "weighted_f1 = class_report['weighted avg']['f1-score']\n",
    "\n",
    "print(f\"\\n📈 PERFORMANCE SUMMARY\")\n",
    "print(\"=\" * 50)\n",
    "print(f\"Overall Accuracy:     {overall_accuracy:.3f}\")\n",
    "print(f\"Macro F1-Score:       {macro_f1:.3f}\")\n",
    "print(f\"Weighted F1-Score:    {weighted_f1:.3f}\")\n",
    "print(f\"Training Samples:     {len(X_train)}\")\n",
    "print(f\"Test Samples:         {len(X_test)}\")\n",
    "\n",
    "print(\"\\n✅ Method C evaluation completed!\")"
   ]
  },
  {
   "cell_type": "markdown",
   "id": "67e957ee",
   "metadata": {},
   "source": [
    "## 6. Topic Modelling\n",
    "\n",
    "We use BERTopic to automatically cluster sentences by semantic similarity. BERTopic combines BERT embeddings with clustering algorithms to identify coherent topics within the text corpus, allowing us to group related sentences together for more meaningful difficulty analysis."
   ]
  },
  {
   "cell_type": "code",
   "execution_count": 13,
   "id": "958e4d09",
   "metadata": {},
   "outputs": [
    {
     "name": "stderr",
     "output_type": "stream",
     "text": [
      "2025-08-30 16:44:50,318 - BERTopic - Embedding - Transforming documents to embeddings.\n"
     ]
    },
    {
     "name": "stdout",
     "output_type": "stream",
     "text": [
      "Initializing BERTopic model...\n",
      "\n",
      "Fitting topic model to sentences...\n"
     ]
    },
    {
     "data": {
      "application/vnd.jupyter.widget-view+json": {
       "model_id": "e17a848a427f4d1ebe4522003d85acc3",
       "version_major": 2,
       "version_minor": 0
      },
      "text/plain": [
       "Batches:   0%|          | 0/1 [00:00<?, ?it/s]"
      ]
     },
     "metadata": {},
     "output_type": "display_data"
    },
    {
     "name": "stderr",
     "output_type": "stream",
     "text": [
      "2025-08-30 16:44:53,168 - BERTopic - Embedding - Completed ✓\n",
      "2025-08-30 16:44:53,169 - BERTopic - Dimensionality - Fitting the dimensionality reduction algorithm\n",
      "2025-08-30 16:44:53,169 - BERTopic - Dimensionality - Fitting the dimensionality reduction algorithm\n",
      "2025-08-30 16:45:03,206 - BERTopic - Dimensionality - Completed ✓\n",
      "2025-08-30 16:45:03,207 - BERTopic - Cluster - Start clustering the reduced embeddings\n",
      "2025-08-30 16:45:03,206 - BERTopic - Dimensionality - Completed ✓\n",
      "2025-08-30 16:45:03,207 - BERTopic - Cluster - Start clustering the reduced embeddings\n",
      "2025-08-30 16:45:06,020 - BERTopic - Cluster - Completed ✓\n",
      "2025-08-30 16:45:06,023 - BERTopic - Representation - Fine-tuning topics using representation models.\n",
      "2025-08-30 16:45:06,031 - BERTopic - Representation - Completed ✓\n",
      "2025-08-30 16:45:06,020 - BERTopic - Cluster - Completed ✓\n",
      "2025-08-30 16:45:06,023 - BERTopic - Representation - Fine-tuning topics using representation models.\n",
      "2025-08-30 16:45:06,031 - BERTopic - Representation - Completed ✓\n"
     ]
    },
    {
     "name": "stdout",
     "output_type": "stream",
     "text": [
      "\n",
      "Topic modeling completed!\n",
      "Number of topics found: 2\n",
      "Number of sentences: 15\n",
      "\n",
      "Topic Information:\n"
     ]
    },
    {
     "data": {
      "application/vnd.microsoft.datawrangler.viewer.v0+json": {
       "columns": [
        {
         "name": "index",
         "rawType": "int64",
         "type": "integer"
        },
        {
         "name": "Topic",
         "rawType": "int64",
         "type": "integer"
        },
        {
         "name": "Count",
         "rawType": "int64",
         "type": "integer"
        },
        {
         "name": "Name",
         "rawType": "object",
         "type": "string"
        },
        {
         "name": "Representation",
         "rawType": "object",
         "type": "unknown"
        },
        {
         "name": "Representative_Docs",
         "rawType": "object",
         "type": "unknown"
        }
       ],
       "ref": "631e5716-807c-499f-a320-335a047b8245",
       "rows": [
        [
         "0",
         "0",
         "7",
         "0_sehr_gehen_heute_in",
         "['sehr', 'gehen', 'heute', 'in', 'zu', 'ist', 'dieses', 'der', 'abends', 'angenehm']",
         "['Das Wetter ist heute Morgen sehr angenehm.', 'Der öffentliche Verkehr ist in dieser Stadt sehr effizient.', 'Wir gehen in den Park, um ein bisschen spazieren zu gehen.']"
        ],
        [
         "1",
         "1",
         "4",
         "1_die_planeten_herausforderungen_entwicklung",
         "['die', 'planeten', 'herausforderungen', 'entwicklung', 'entscheidend', 'entdeckt', 'nachhaltige', 'neue', 'meeresarten', 'technologie']",
         "['Die Weltwirtschaft steht vor vielen Herausforderungen.', 'Die Technologie hat unser Leben völlig verändert.', 'Nachhaltige Entwicklung ist entscheidend für die Zukunft unseres Planeten.']"
        ],
        [
         "2",
         "2",
         "4",
         "2_das_die_abschlussprüfungen_ausstellung",
         "['das', 'die', 'abschlussprüfungen', 'ausstellung', 'auf', 'bereiten', 'eine', 'fasziniert', 'geschichtsbücher', 'immer']",
         "['Die Studenten bereiten sich auf ihre Abschlussprüfungen vor.', 'Das Museum für moderne Kunst hat eine interessante Ausstellung.', 'Die Natur lehrt uns wichtige Lektionen über das Leben.']"
        ]
       ],
       "shape": {
        "columns": 5,
        "rows": 3
       }
      },
      "text/html": [
       "<div>\n",
       "<style scoped>\n",
       "    .dataframe tbody tr th:only-of-type {\n",
       "        vertical-align: middle;\n",
       "    }\n",
       "\n",
       "    .dataframe tbody tr th {\n",
       "        vertical-align: top;\n",
       "    }\n",
       "\n",
       "    .dataframe thead th {\n",
       "        text-align: right;\n",
       "    }\n",
       "</style>\n",
       "<table border=\"1\" class=\"dataframe\">\n",
       "  <thead>\n",
       "    <tr style=\"text-align: right;\">\n",
       "      <th></th>\n",
       "      <th>Topic</th>\n",
       "      <th>Count</th>\n",
       "      <th>Name</th>\n",
       "      <th>Representation</th>\n",
       "      <th>Representative_Docs</th>\n",
       "    </tr>\n",
       "  </thead>\n",
       "  <tbody>\n",
       "    <tr>\n",
       "      <th>0</th>\n",
       "      <td>0</td>\n",
       "      <td>7</td>\n",
       "      <td>0_sehr_gehen_heute_in</td>\n",
       "      <td>[sehr, gehen, heute, in, zu, ist, dieses, der,...</td>\n",
       "      <td>[Das Wetter ist heute Morgen sehr angenehm., D...</td>\n",
       "    </tr>\n",
       "    <tr>\n",
       "      <th>1</th>\n",
       "      <td>1</td>\n",
       "      <td>4</td>\n",
       "      <td>1_die_planeten_herausforderungen_entwicklung</td>\n",
       "      <td>[die, planeten, herausforderungen, entwicklung...</td>\n",
       "      <td>[Die Weltwirtschaft steht vor vielen Herausfor...</td>\n",
       "    </tr>\n",
       "    <tr>\n",
       "      <th>2</th>\n",
       "      <td>2</td>\n",
       "      <td>4</td>\n",
       "      <td>2_das_die_abschlussprüfungen_ausstellung</td>\n",
       "      <td>[das, die, abschlussprüfungen, ausstellung, au...</td>\n",
       "      <td>[Die Studenten bereiten sich auf ihre Abschlus...</td>\n",
       "    </tr>\n",
       "  </tbody>\n",
       "</table>\n",
       "</div>"
      ],
      "text/plain": [
       "   Topic  Count                                          Name  \\\n",
       "0      0      7                         0_sehr_gehen_heute_in   \n",
       "1      1      4  1_die_planeten_herausforderungen_entwicklung   \n",
       "2      2      4      2_das_die_abschlussprüfungen_ausstellung   \n",
       "\n",
       "                                      Representation  \\\n",
       "0  [sehr, gehen, heute, in, zu, ist, dieses, der,...   \n",
       "1  [die, planeten, herausforderungen, entwicklung...   \n",
       "2  [das, die, abschlussprüfungen, ausstellung, au...   \n",
       "\n",
       "                                 Representative_Docs  \n",
       "0  [Das Wetter ist heute Morgen sehr angenehm., D...  \n",
       "1  [Die Weltwirtschaft steht vor vielen Herausfor...  \n",
       "2  [Die Studenten bereiten sich auf ihre Abschlus...  "
      ]
     },
     "metadata": {},
     "output_type": "display_data"
    },
    {
     "name": "stdout",
     "output_type": "stream",
     "text": [
      "\n",
      "Sentence distribution across topics:\n",
      "Topic 0: 7 sentences\n",
      "Topic 1: 4 sentences\n",
      "Topic 2: 4 sentences\n"
     ]
    }
   ],
   "source": [
    "# Initialize BERTopic with the multilingual model\n",
    "print(\"Initializing BERTopic model...\")\n",
    "\n",
    "# Import additional components for better small dataset handling\n",
    "from sklearn.cluster import KMeans\n",
    "from umap import UMAP\n",
    "\n",
    "# Configure BERTopic for small datasets\n",
    "umap_model = UMAP(\n",
    "    n_neighbors=3,          # Reduce from default 15 for small datasets\n",
    "    n_components=2,         # Keep low dimensional\n",
    "    min_dist=0.0,\n",
    "    metric='cosine',\n",
    "    random_state=42\n",
    ")\n",
    "\n",
    "# Use KMeans instead of HDBSCAN for small datasets\n",
    "cluster_model = KMeans(n_clusters=3, random_state=42)  # Force 3 clusters\n",
    "\n",
    "topic_model = BERTopic(\n",
    "    embedding_model=MULTILINGUAL_MODEL,\n",
    "    language=\"multilingual\",\n",
    "    calculate_probabilities=True,\n",
    "    verbose=True,\n",
    "    umap_model=umap_model,\n",
    "    hdbscan_model=cluster_model,  # Use KMeans instead of HDBSCAN\n",
    "    min_topic_size=2              # Allow smaller topics\n",
    ")\n",
    "\n",
    "# Fit the model to our sentences\n",
    "print(\"\\nFitting topic model to sentences...\")\n",
    "topics, probabilities = topic_model.fit_transform(sentences)\n",
    "\n",
    "# Create a DataFrame for easy analysis\n",
    "df_sentences = pd.DataFrame({\n",
    "    'sentence': sentences,\n",
    "    'topic': topics\n",
    "})\n",
    "\n",
    "print(f\"\\nTopic modeling completed!\")\n",
    "print(f\"Number of topics found: {len(topic_model.get_topic_info()) - 1}\")  # -1 to exclude outliers\n",
    "print(f\"Number of sentences: {len(sentences)}\")\n",
    "\n",
    "# Display topic information\n",
    "topic_info = topic_model.get_topic_info()\n",
    "print(\"\\nTopic Information:\")\n",
    "display(topic_info)\n",
    "\n",
    "# Show sentence distribution across topics\n",
    "topic_distribution = df_sentences['topic'].value_counts().sort_index()\n",
    "print(\"\\nSentence distribution across topics:\")\n",
    "for topic_id, count in topic_distribution.items():\n",
    "    if topic_id == -1:\n",
    "        print(f\"Outliers (Topic -1): {count} sentences\")\n",
    "    else:\n",
    "        print(f\"Topic {topic_id}: {count} sentences\")"
   ]
  },
  {
   "cell_type": "markdown",
   "id": "2550162f",
   "metadata": {},
   "source": [
    "## 7. Visualization & Comparative Analysis\n",
    "\n",
    "This section presents the core comparison between all three word difficulty methods. Each sentence is displayed with color-coding from all three approaches:\n",
    "\n",
    "- **Method A (Frequency)**: Classic frequency-based difficulty assessment\n",
    "- **Method B (Embedding Norm)**: Experimental embedding magnitude approach  \n",
    "- **Method C (ML Model)**: Supervised machine learning predictions using engineered features\n",
    "\n",
    "This comprehensive side-by-side visualization allows for immediate qualitative comparison of how each method classifies word difficulty across different approaches.\n",
    "\n",
    "**Color Scheme:**\n",
    "- 🟢 **A1 (Green)**: Beginner level words\n",
    "- 🔵 **A2 (Light Green)**: Elementary level words  \n",
    "- 🟡 **B1 (Amber)**: Intermediate level words\n",
    "- 🟠 **B2 (Orange)**: Upper intermediate level words\n",
    "- 🔴 **C1 (Red)**: Advanced level words\n",
    "- 🟤 **C2 (Dark Red)**: Proficiency level words\n",
    "- ⚫ **OOV (Grey)**: Out of vocabulary words"
   ]
  },
  {
   "cell_type": "code",
   "execution_count": 14,
   "id": "9722469d",
   "metadata": {},
   "outputs": [
    {
     "name": "stdout",
     "output_type": "stream",
     "text": [
      "✅ spaCy with de model loaded successfully\n",
      "Generating comparative analysis with all three methods...\n"
     ]
    }
   ],
   "source": [
    "# Check if spacy is available and load model\n",
    "try:\n",
    "    import spacy\n",
    "    # Try to load the model for target language\n",
    "    try:\n",
    "        nlp = spacy.load(SPACY_MODEL)\n",
    "        spacy_model_available = True\n",
    "        print(f\"✅ spaCy with {TARGET_LANGUAGE} model loaded successfully\")\n",
    "    except OSError:\n",
    "        spacy_model_available = False\n",
    "        nlp = None\n",
    "        print(f\"⚠️ spaCy {TARGET_LANGUAGE} model not found, using basic lemmatization\")\n",
    "except ImportError:\n",
    "    spacy_model_available = False\n",
    "    nlp = None\n",
    "    print(\"⚠️ spaCy not available, using basic lemmatization\")\n",
    "\n",
    "def predict_word_difficulty_method_c(word, model, label_encoder, freq_lexicon, norm_lexicon, nlp_model=None):\n",
    "    \"\"\"\n",
    "    Predict word difficulty using Method C (ML model).\n",
    "\n",
    "    Args:\n",
    "        word (str): Word to predict\n",
    "        model: Trained RandomForest model\n",
    "        label_encoder: Fitted label encoder\n",
    "        freq_lexicon (dict): Method A lexicon\n",
    "        norm_lexicon (dict): Method B lexicon\n",
    "        nlp_model: spaCy model for features\n",
    "\n",
    "    Returns:\n",
    "        str: Predicted CEFR level\n",
    "    \"\"\"\n",
    "    try:\n",
    "        # Create a mini DataFrame for feature engineering\n",
    "        word_df = pd.DataFrame({'word': [word], 'cefr_level': ['A1']})  # Dummy CEFR level\n",
    "\n",
    "        # Engineer features\n",
    "        feature_df = engineer_features(word_df, freq_lexicon, norm_lexicon, nlp_model)\n",
    "\n",
    "        # Extract features in the same order as training\n",
    "        X_word = feature_df[feature_cols].iloc[0:1]\n",
    "\n",
    "        # Make prediction\n",
    "        prediction = model.predict(X_word)[0]\n",
    "\n",
    "        # Convert back to CEFR label\n",
    "        return label_encoder.inverse_transform([prediction])[0]\n",
    "\n",
    "    except Exception as e:\n",
    "        # Fallback to Method A if prediction fails\n",
    "        return freq_lexicon.get(word.lower(), 'OOV')\n",
    "\n",
    "def colorize_sentence(sentence, lexicon, color_map, nlp_model=None, method_name=\"\",\n",
    "                     use_method_c=False, ml_model=None, ml_label_encoder=None,\n",
    "                     freq_lexicon=None, norm_lexicon=None):\n",
    "    \"\"\"\n",
    "    Color-code words in a sentence using spaCy if available, otherwise basic processing.\n",
    "\n",
    "    Args:\n",
    "        sentence (str): The sentence to colorize\n",
    "        lexicon (dict): Dictionary mapping word lemmas to difficulty tiers\n",
    "        color_map (dict): Dictionary mapping tiers to colors\n",
    "        nlp_model (spacy.Language, optional): The loaded spaCy model for the target language\n",
    "        method_name (str): Name of the method for debugging\n",
    "        use_method_c (bool): Whether to use Method C for prediction\n",
    "        ml_model: Trained ML model for Method C\n",
    "        ml_label_encoder: Label encoder for Method C\n",
    "        freq_lexicon (dict): Method A lexicon (for Method C features)\n",
    "        norm_lexicon (dict): Method B lexicon (for Method C features)\n",
    "\n",
    "    Returns:\n",
    "        str: HTML string with colored words\n",
    "    \"\"\"\n",
    "    if nlp_model and spacy_model_available:\n",
    "        # Use spaCy for proper lemmatization with cleaner text reconstruction\n",
    "        doc = nlp_model(sentence)\n",
    "        html_parts = []\n",
    "\n",
    "        for token in doc:\n",
    "            # Check if the token is a word (not punctuation or space)\n",
    "            if not token.is_punct and not token.is_space:\n",
    "                if use_method_c and ml_model is not None:\n",
    "                    # Use Method C prediction\n",
    "                    tier = predict_word_difficulty_method_c(\n",
    "                        token.text, ml_model, ml_label_encoder,\n",
    "                        freq_lexicon, norm_lexicon, nlp_model\n",
    "                    )\n",
    "                    lemma_display = f\"ML: {token.text}\"\n",
    "                else:\n",
    "                    # Use provided lexicon\n",
    "                    lemma = token.lemma_.lower()\n",
    "                    tier = lexicon.get(lemma, 'OOV')\n",
    "                    lemma_display = f\"Lemma: {lemma}\"\n",
    "\n",
    "                color = color_map.get(tier, color_map['OOV'])\n",
    "\n",
    "                # Create the colored HTML span for the word\n",
    "                colored_word = f'<span style=\"color: {color}; font-weight: bold;\" title=\"Tier: {tier} | {lemma_display}\">{token.text}</span>'\n",
    "\n",
    "                # Append the colored word followed by its original trailing space\n",
    "                html_parts.append(colored_word + token.whitespace_)\n",
    "            else:\n",
    "                # For punctuation and spaces, just append them as they are\n",
    "                html_parts.append(token.text_with_ws)\n",
    "\n",
    "        return \"\".join(html_parts)\n",
    "    else:\n",
    "        # Fallback to basic word processing (original method)\n",
    "        import re\n",
    "        # Split sentence into words while preserving punctuation\n",
    "        words = re.findall(r'\\b\\w+\\b|[^\\w\\s]', sentence)\n",
    "        colored_words = []\n",
    "\n",
    "        for word in words:\n",
    "            if re.match(r'\\w+', word):  # It's a word (not punctuation)\n",
    "                if use_method_c and ml_model is not None:\n",
    "                    # Use Method C prediction\n",
    "                    tier = predict_word_difficulty_method_c(\n",
    "                        word, ml_model, ml_label_encoder,\n",
    "                        freq_lexicon, norm_lexicon, nlp_model\n",
    "                    )\n",
    "                else:\n",
    "                    # Clean the word for lookup (lowercase, no punctuation)\n",
    "                    clean_word = re.sub(r'[^a-záéíóúñüäöüß]', '', word.lower())  # Include German characters\n",
    "                    # Look up the tier\n",
    "                    tier = lexicon.get(clean_word, 'OOV')\n",
    "\n",
    "                color = color_map.get(tier, color_map['OOV'])\n",
    "\n",
    "                # Create colored span\n",
    "                colored_word = f'<span style=\"color: {color}; font-weight: bold;\" title=\"{tier}\">{word}</span>'\n",
    "                colored_words.append(colored_word)\n",
    "            else:\n",
    "                # It's punctuation, don't color it\n",
    "                colored_words.append(word)\n",
    "\n",
    "        return ' '.join(colored_words)\n",
    "\n",
    "# Generate the comparative visualization\n",
    "print(\"Generating comparative analysis with all three methods...\")"
   ]
  },
  {
   "cell_type": "code",
   "execution_count": 15,
   "id": "d0e2ba4c",
   "metadata": {},
   "outputs": [
    {
     "data": {
      "text/html": [
       "<h3>🎨 Color Legend</h3><p><span style=\"color: #4CAF50; font-weight: bold;\">■ A1</span>&nbsp;&nbsp;&nbsp;<span style=\"color: #8BC34A; font-weight: bold;\">■ A2</span>&nbsp;&nbsp;&nbsp;<span style=\"color: #FFC107; font-weight: bold;\">■ B1</span>&nbsp;&nbsp;&nbsp;<span style=\"color: #FF9800; font-weight: bold;\">■ B2</span>&nbsp;&nbsp;&nbsp;<span style=\"color: #F44336; font-weight: bold;\">■ C1</span>&nbsp;&nbsp;&nbsp;<span style=\"color: #B71C1C; font-weight: bold;\">■ C2</span>&nbsp;&nbsp;&nbsp;<span style=\"color: #607D8B; font-weight: bold;\">■ OOV</span>&nbsp;&nbsp;&nbsp;</p><hr>"
      ],
      "text/plain": [
       "<IPython.core.display.HTML object>"
      ]
     },
     "metadata": {},
     "output_type": "display_data"
    },
    {
     "data": {
      "text/html": [
       "<h2 style='color: #333; border-bottom: 2px solid #ddd; padding-bottom: 10px;'>📚 Topic 0 (sehr, gehen, heute, in, zu)</h2>"
      ],
      "text/plain": [
       "<IPython.core.display.HTML object>"
      ]
     },
     "metadata": {},
     "output_type": "display_data"
    },
    {
     "data": {
      "text/html": [
       "<p><strong>Sentence 1:</strong> Hallo, wie geht es dir heute?</p>"
      ],
      "text/plain": [
       "<IPython.core.display.HTML object>"
      ]
     },
     "metadata": {},
     "output_type": "display_data"
    },
    {
     "data": {
      "text/html": [
       "<p><strong>🔤 Method A (Frequency):</strong><br><span style=\"color: #4CAF50; font-weight: bold;\" title=\"Tier: A1 | Lemma: hallo\">Hallo</span>, <span style=\"color: #4CAF50; font-weight: bold;\" title=\"Tier: A1 | Lemma: wie\">wie</span> <span style=\"color: #607D8B; font-weight: bold;\" title=\"Tier: OOV | Lemma: gehen\">geht</span> <span style=\"color: #4CAF50; font-weight: bold;\" title=\"Tier: A1 | Lemma: es\">es</span> <span style=\"color: #607D8B; font-weight: bold;\" title=\"Tier: OOV | Lemma: dir\">dir</span> <span style=\"color: #607D8B; font-weight: bold;\" title=\"Tier: OOV | Lemma: heute\">heute</span>?</p>"
      ],
      "text/plain": [
       "<IPython.core.display.HTML object>"
      ]
     },
     "metadata": {},
     "output_type": "display_data"
    },
    {
     "data": {
      "text/html": [
       "<p><strong>🧠 Method B (Embedding Norm):</strong><br><span style=\"color: #8BC34A; font-weight: bold;\" title=\"Tier: A2 | Lemma: hallo\">Hallo</span>, <span style=\"color: #8BC34A; font-weight: bold;\" title=\"Tier: A2 | Lemma: wie\">wie</span> <span style=\"color: #607D8B; font-weight: bold;\" title=\"Tier: OOV | Lemma: gehen\">geht</span> <span style=\"color: #8BC34A; font-weight: bold;\" title=\"Tier: A2 | Lemma: es\">es</span> <span style=\"color: #607D8B; font-weight: bold;\" title=\"Tier: OOV | Lemma: dir\">dir</span> <span style=\"color: #607D8B; font-weight: bold;\" title=\"Tier: OOV | Lemma: heute\">heute</span>?</p>"
      ],
      "text/plain": [
       "<IPython.core.display.HTML object>"
      ]
     },
     "metadata": {},
     "output_type": "display_data"
    },
    {
     "data": {
      "text/html": [
       "<p><strong>🤖 Method C (ML Model):</strong><br><span style=\"color: #4CAF50; font-weight: bold;\" title=\"Tier: A1 | ML: Hallo\">Hallo</span>, <span style=\"color: #4CAF50; font-weight: bold;\" title=\"Tier: A1 | ML: wie\">wie</span> <span style=\"color: #4CAF50; font-weight: bold;\" title=\"Tier: A1 | ML: geht\">geht</span> <span style=\"color: #4CAF50; font-weight: bold;\" title=\"Tier: A1 | ML: es\">es</span> <span style=\"color: #4CAF50; font-weight: bold;\" title=\"Tier: A1 | ML: dir\">dir</span> <span style=\"color: #4CAF50; font-weight: bold;\" title=\"Tier: A1 | ML: heute\">heute</span>?</p>"
      ],
      "text/plain": [
       "<IPython.core.display.HTML object>"
      ]
     },
     "metadata": {},
     "output_type": "display_data"
    },
    {
     "data": {
      "text/html": [
       "<hr style='margin: 20px 0; border: 1px solid #eee;'>"
      ],
      "text/plain": [
       "<IPython.core.display.HTML object>"
      ]
     },
     "metadata": {},
     "output_type": "display_data"
    },
    {
     "data": {
      "text/html": [
       "<p><strong>Sentence 2:</strong> Ich mag deutsches Essen sehr gerne.</p>"
      ],
      "text/plain": [
       "<IPython.core.display.HTML object>"
      ]
     },
     "metadata": {},
     "output_type": "display_data"
    },
    {
     "data": {
      "text/html": [
       "<p><strong>🔤 Method A (Frequency):</strong><br><span style=\"color: #4CAF50; font-weight: bold;\" title=\"Tier: A1 | Lemma: ich\">Ich</span> <span style=\"color: #607D8B; font-weight: bold;\" title=\"Tier: OOV | Lemma: mögen\">mag</span> <span style=\"color: #8BC34A; font-weight: bold;\" title=\"Tier: A2 | Lemma: deutsch\">deutsches</span> <span style=\"color: #8BC34A; font-weight: bold;\" title=\"Tier: A2 | Lemma: essen\">Essen</span> <span style=\"color: #4CAF50; font-weight: bold;\" title=\"Tier: A1 | Lemma: sehr\">sehr</span> <span style=\"color: #607D8B; font-weight: bold;\" title=\"Tier: OOV | Lemma: gerne\">gerne</span>.</p>"
      ],
      "text/plain": [
       "<IPython.core.display.HTML object>"
      ]
     },
     "metadata": {},
     "output_type": "display_data"
    },
    {
     "data": {
      "text/html": [
       "<p><strong>🧠 Method B (Embedding Norm):</strong><br><span style=\"color: #4CAF50; font-weight: bold;\" title=\"Tier: A1 | Lemma: ich\">Ich</span> <span style=\"color: #607D8B; font-weight: bold;\" title=\"Tier: OOV | Lemma: mögen\">mag</span> <span style=\"color: #F44336; font-weight: bold;\" title=\"Tier: C1 | Lemma: deutsch\">deutsches</span> <span style=\"color: #FFC107; font-weight: bold;\" title=\"Tier: B1 | Lemma: essen\">Essen</span> <span style=\"color: #8BC34A; font-weight: bold;\" title=\"Tier: A2 | Lemma: sehr\">sehr</span> <span style=\"color: #607D8B; font-weight: bold;\" title=\"Tier: OOV | Lemma: gerne\">gerne</span>.</p>"
      ],
      "text/plain": [
       "<IPython.core.display.HTML object>"
      ]
     },
     "metadata": {},
     "output_type": "display_data"
    },
    {
     "data": {
      "text/html": [
       "<p><strong>🤖 Method C (ML Model):</strong><br><span style=\"color: #4CAF50; font-weight: bold;\" title=\"Tier: A1 | ML: Ich\">Ich</span> <span style=\"color: #4CAF50; font-weight: bold;\" title=\"Tier: A1 | ML: mag\">mag</span> <span style=\"color: #B71C1C; font-weight: bold;\" title=\"Tier: C2 | ML: deutsches\">deutsches</span> <span style=\"color: #FF9800; font-weight: bold;\" title=\"Tier: B2 | ML: Essen\">Essen</span> <span style=\"color: #4CAF50; font-weight: bold;\" title=\"Tier: A1 | ML: sehr\">sehr</span> <span style=\"color: #4CAF50; font-weight: bold;\" title=\"Tier: A1 | ML: gerne\">gerne</span>.</p>"
      ],
      "text/plain": [
       "<IPython.core.display.HTML object>"
      ]
     },
     "metadata": {},
     "output_type": "display_data"
    },
    {
     "data": {
      "text/html": [
       "<hr style='margin: 20px 0; border: 1px solid #eee;'>"
      ],
      "text/plain": [
       "<IPython.core.display.HTML object>"
      ]
     },
     "metadata": {},
     "output_type": "display_data"
    },
    {
     "data": {
      "text/html": [
       "<p><strong>Sentence 3:</strong> Das Wetter ist heute Morgen sehr angenehm.</p>"
      ],
      "text/plain": [
       "<IPython.core.display.HTML object>"
      ]
     },
     "metadata": {},
     "output_type": "display_data"
    },
    {
     "data": {
      "text/html": [
       "<p><strong>🔤 Method A (Frequency):</strong><br><span style=\"color: #4CAF50; font-weight: bold;\" title=\"Tier: A1 | Lemma: der\">Das</span> <span style=\"color: #607D8B; font-weight: bold;\" title=\"Tier: OOV | Lemma: wetter\">Wetter</span> <span style=\"color: #607D8B; font-weight: bold;\" title=\"Tier: OOV | Lemma: sein\">ist</span> <span style=\"color: #607D8B; font-weight: bold;\" title=\"Tier: OOV | Lemma: heute\">heute</span> <span style=\"color: #607D8B; font-weight: bold;\" title=\"Tier: OOV | Lemma: morgen\">Morgen</span> <span style=\"color: #4CAF50; font-weight: bold;\" title=\"Tier: A1 | Lemma: sehr\">sehr</span> <span style=\"color: #607D8B; font-weight: bold;\" title=\"Tier: OOV | Lemma: angenehm\">angenehm</span>.</p>"
      ],
      "text/plain": [
       "<IPython.core.display.HTML object>"
      ]
     },
     "metadata": {},
     "output_type": "display_data"
    },
    {
     "data": {
      "text/html": [
       "<p><strong>🧠 Method B (Embedding Norm):</strong><br><span style=\"color: #8BC34A; font-weight: bold;\" title=\"Tier: A2 | Lemma: der\">Das</span> <span style=\"color: #607D8B; font-weight: bold;\" title=\"Tier: OOV | Lemma: wetter\">Wetter</span> <span style=\"color: #607D8B; font-weight: bold;\" title=\"Tier: OOV | Lemma: sein\">ist</span> <span style=\"color: #607D8B; font-weight: bold;\" title=\"Tier: OOV | Lemma: heute\">heute</span> <span style=\"color: #607D8B; font-weight: bold;\" title=\"Tier: OOV | Lemma: morgen\">Morgen</span> <span style=\"color: #8BC34A; font-weight: bold;\" title=\"Tier: A2 | Lemma: sehr\">sehr</span> <span style=\"color: #607D8B; font-weight: bold;\" title=\"Tier: OOV | Lemma: angenehm\">angenehm</span>.</p>"
      ],
      "text/plain": [
       "<IPython.core.display.HTML object>"
      ]
     },
     "metadata": {},
     "output_type": "display_data"
    },
    {
     "data": {
      "text/html": [
       "<p><strong>🤖 Method C (ML Model):</strong><br><span style=\"color: #4CAF50; font-weight: bold;\" title=\"Tier: A1 | ML: Das\">Das</span> <span style=\"color: #4CAF50; font-weight: bold;\" title=\"Tier: A1 | ML: Wetter\">Wetter</span> <span style=\"color: #4CAF50; font-weight: bold;\" title=\"Tier: A1 | ML: ist\">ist</span> <span style=\"color: #4CAF50; font-weight: bold;\" title=\"Tier: A1 | ML: heute\">heute</span> <span style=\"color: #4CAF50; font-weight: bold;\" title=\"Tier: A1 | ML: Morgen\">Morgen</span> <span style=\"color: #4CAF50; font-weight: bold;\" title=\"Tier: A1 | ML: sehr\">sehr</span> <span style=\"color: #FFC107; font-weight: bold;\" title=\"Tier: B1 | ML: angenehm\">angenehm</span>.</p>"
      ],
      "text/plain": [
       "<IPython.core.display.HTML object>"
      ]
     },
     "metadata": {},
     "output_type": "display_data"
    },
    {
     "data": {
      "text/html": [
       "<hr style='margin: 20px 0; border: 1px solid #eee;'>"
      ],
      "text/plain": [
       "<IPython.core.display.HTML object>"
      ]
     },
     "metadata": {},
     "output_type": "display_data"
    },
    {
     "data": {
      "text/html": [
       "<p><strong>Sentence 4:</strong> Wir gehen in den Park, um ein bisschen spazieren zu gehen.</p>"
      ],
      "text/plain": [
       "<IPython.core.display.HTML object>"
      ]
     },
     "metadata": {},
     "output_type": "display_data"
    },
    {
     "data": {
      "text/html": [
       "<p><strong>🔤 Method A (Frequency):</strong><br><span style=\"color: #607D8B; font-weight: bold;\" title=\"Tier: OOV | Lemma: wir\">Wir</span> <span style=\"color: #607D8B; font-weight: bold;\" title=\"Tier: OOV | Lemma: gehen\">gehen</span> <span style=\"color: #607D8B; font-weight: bold;\" title=\"Tier: OOV | Lemma: in\">in</span> <span style=\"color: #4CAF50; font-weight: bold;\" title=\"Tier: A1 | Lemma: der\">den</span> <span style=\"color: #607D8B; font-weight: bold;\" title=\"Tier: OOV | Lemma: park\">Park</span>, <span style=\"color: #607D8B; font-weight: bold;\" title=\"Tier: OOV | Lemma: um\">um</span> <span style=\"color: #4CAF50; font-weight: bold;\" title=\"Tier: A1 | Lemma: ein\">ein</span> <span style=\"color: #607D8B; font-weight: bold;\" title=\"Tier: OOV | Lemma: bissch\">bisschen</span> <span style=\"color: #607D8B; font-weight: bold;\" title=\"Tier: OOV | Lemma: spazier\">spazieren</span> <span style=\"color: #4CAF50; font-weight: bold;\" title=\"Tier: A1 | Lemma: zu\">zu</span> <span style=\"color: #607D8B; font-weight: bold;\" title=\"Tier: OOV | Lemma: gehen\">gehen</span>.</p>"
      ],
      "text/plain": [
       "<IPython.core.display.HTML object>"
      ]
     },
     "metadata": {},
     "output_type": "display_data"
    },
    {
     "data": {
      "text/html": [
       "<p><strong>🧠 Method B (Embedding Norm):</strong><br><span style=\"color: #607D8B; font-weight: bold;\" title=\"Tier: OOV | Lemma: wir\">Wir</span> <span style=\"color: #607D8B; font-weight: bold;\" title=\"Tier: OOV | Lemma: gehen\">gehen</span> <span style=\"color: #607D8B; font-weight: bold;\" title=\"Tier: OOV | Lemma: in\">in</span> <span style=\"color: #8BC34A; font-weight: bold;\" title=\"Tier: A2 | Lemma: der\">den</span> <span style=\"color: #607D8B; font-weight: bold;\" title=\"Tier: OOV | Lemma: park\">Park</span>, <span style=\"color: #607D8B; font-weight: bold;\" title=\"Tier: OOV | Lemma: um\">um</span> <span style=\"color: #8BC34A; font-weight: bold;\" title=\"Tier: A2 | Lemma: ein\">ein</span> <span style=\"color: #607D8B; font-weight: bold;\" title=\"Tier: OOV | Lemma: bissch\">bisschen</span> <span style=\"color: #607D8B; font-weight: bold;\" title=\"Tier: OOV | Lemma: spazier\">spazieren</span> <span style=\"color: #4CAF50; font-weight: bold;\" title=\"Tier: A1 | Lemma: zu\">zu</span> <span style=\"color: #607D8B; font-weight: bold;\" title=\"Tier: OOV | Lemma: gehen\">gehen</span>.</p>"
      ],
      "text/plain": [
       "<IPython.core.display.HTML object>"
      ]
     },
     "metadata": {},
     "output_type": "display_data"
    },
    {
     "data": {
      "text/html": [
       "<p><strong>🤖 Method C (ML Model):</strong><br><span style=\"color: #4CAF50; font-weight: bold;\" title=\"Tier: A1 | ML: Wir\">Wir</span> <span style=\"color: #4CAF50; font-weight: bold;\" title=\"Tier: A1 | ML: gehen\">gehen</span> <span style=\"color: #4CAF50; font-weight: bold;\" title=\"Tier: A1 | ML: in\">in</span> <span style=\"color: #4CAF50; font-weight: bold;\" title=\"Tier: A1 | ML: den\">den</span> <span style=\"color: #4CAF50; font-weight: bold;\" title=\"Tier: A1 | ML: Park\">Park</span>, <span style=\"color: #4CAF50; font-weight: bold;\" title=\"Tier: A1 | ML: um\">um</span> <span style=\"color: #4CAF50; font-weight: bold;\" title=\"Tier: A1 | ML: ein\">ein</span> <span style=\"color: #F44336; font-weight: bold;\" title=\"Tier: C1 | ML: bisschen\">bisschen</span> <span style=\"color: #B71C1C; font-weight: bold;\" title=\"Tier: C2 | ML: spazieren\">spazieren</span> <span style=\"color: #4CAF50; font-weight: bold;\" title=\"Tier: A1 | ML: zu\">zu</span> <span style=\"color: #4CAF50; font-weight: bold;\" title=\"Tier: A1 | ML: gehen\">gehen</span>.</p>"
      ],
      "text/plain": [
       "<IPython.core.display.HTML object>"
      ]
     },
     "metadata": {},
     "output_type": "display_data"
    },
    {
     "data": {
      "text/html": [
       "<hr style='margin: 20px 0; border: 1px solid #eee;'>"
      ],
      "text/plain": [
       "<IPython.core.display.HTML object>"
      ]
     },
     "metadata": {},
     "output_type": "display_data"
    },
    {
     "data": {
      "text/html": [
       "<p><strong>Sentence 5:</strong> Meine Familie kommt dieses Wochenende zu Besuch.</p>"
      ],
      "text/plain": [
       "<IPython.core.display.HTML object>"
      ]
     },
     "metadata": {},
     "output_type": "display_data"
    },
    {
     "data": {
      "text/html": [
       "<p><strong>🔤 Method A (Frequency):</strong><br><span style=\"color: #607D8B; font-weight: bold;\" title=\"Tier: OOV | Lemma: mein\">Meine</span> <span style=\"color: #8BC34A; font-weight: bold;\" title=\"Tier: A2 | Lemma: familie\">Familie</span> <span style=\"color: #607D8B; font-weight: bold;\" title=\"Tier: OOV | Lemma: kommen\">kommt</span> <span style=\"color: #607D8B; font-weight: bold;\" title=\"Tier: OOV | Lemma: dieser\">dieses</span> <span style=\"color: #607D8B; font-weight: bold;\" title=\"Tier: OOV | Lemma: wochenende\">Wochenende</span> <span style=\"color: #4CAF50; font-weight: bold;\" title=\"Tier: A1 | Lemma: zu\">zu</span> <span style=\"color: #607D8B; font-weight: bold;\" title=\"Tier: OOV | Lemma: besuch\">Besuch</span>.</p>"
      ],
      "text/plain": [
       "<IPython.core.display.HTML object>"
      ]
     },
     "metadata": {},
     "output_type": "display_data"
    },
    {
     "data": {
      "text/html": [
       "<p><strong>🧠 Method B (Embedding Norm):</strong><br><span style=\"color: #607D8B; font-weight: bold;\" title=\"Tier: OOV | Lemma: mein\">Meine</span> <span style=\"color: #8BC34A; font-weight: bold;\" title=\"Tier: A2 | Lemma: familie\">Familie</span> <span style=\"color: #607D8B; font-weight: bold;\" title=\"Tier: OOV | Lemma: kommen\">kommt</span> <span style=\"color: #607D8B; font-weight: bold;\" title=\"Tier: OOV | Lemma: dieser\">dieses</span> <span style=\"color: #607D8B; font-weight: bold;\" title=\"Tier: OOV | Lemma: wochenende\">Wochenende</span> <span style=\"color: #4CAF50; font-weight: bold;\" title=\"Tier: A1 | Lemma: zu\">zu</span> <span style=\"color: #607D8B; font-weight: bold;\" title=\"Tier: OOV | Lemma: besuch\">Besuch</span>.</p>"
      ],
      "text/plain": [
       "<IPython.core.display.HTML object>"
      ]
     },
     "metadata": {},
     "output_type": "display_data"
    },
    {
     "data": {
      "text/html": [
       "<p><strong>🤖 Method C (ML Model):</strong><br><span style=\"color: #4CAF50; font-weight: bold;\" title=\"Tier: A1 | ML: Meine\">Meine</span> <span style=\"color: #4CAF50; font-weight: bold;\" title=\"Tier: A1 | ML: Familie\">Familie</span> <span style=\"color: #4CAF50; font-weight: bold;\" title=\"Tier: A1 | ML: kommt\">kommt</span> <span style=\"color: #8BC34A; font-weight: bold;\" title=\"Tier: A2 | ML: dieses\">dieses</span> <span style=\"color: #4CAF50; font-weight: bold;\" title=\"Tier: A1 | ML: Wochenende\">Wochenende</span> <span style=\"color: #4CAF50; font-weight: bold;\" title=\"Tier: A1 | ML: zu\">zu</span> <span style=\"color: #4CAF50; font-weight: bold;\" title=\"Tier: A1 | ML: Besuch\">Besuch</span>.</p>"
      ],
      "text/plain": [
       "<IPython.core.display.HTML object>"
      ]
     },
     "metadata": {},
     "output_type": "display_data"
    },
    {
     "data": {
      "text/html": [
       "<hr style='margin: 20px 0; border: 1px solid #eee;'>"
      ],
      "text/plain": [
       "<IPython.core.display.HTML object>"
      ]
     },
     "metadata": {},
     "output_type": "display_data"
    },
    {
     "data": {
      "text/html": [
       "<p><strong>Sentence 6:</strong> Klassische Musik hilft mir abends beim Entspannen.</p>"
      ],
      "text/plain": [
       "<IPython.core.display.HTML object>"
      ]
     },
     "metadata": {},
     "output_type": "display_data"
    },
    {
     "data": {
      "text/html": [
       "<p><strong>🔤 Method A (Frequency):</strong><br><span style=\"color: #607D8B; font-weight: bold;\" title=\"Tier: OOV | Lemma: klassisch\">Klassische</span> <span style=\"color: #8BC34A; font-weight: bold;\" title=\"Tier: A2 | Lemma: musik\">Musik</span> <span style=\"color: #607D8B; font-weight: bold;\" title=\"Tier: OOV | Lemma: helfen\">hilft</span> <span style=\"color: #607D8B; font-weight: bold;\" title=\"Tier: OOV | Lemma: mir\">mir</span> <span style=\"color: #607D8B; font-weight: bold;\" title=\"Tier: OOV | Lemma: abends\">abends</span> <span style=\"color: #607D8B; font-weight: bold;\" title=\"Tier: OOV | Lemma: bei\">beim</span> <span style=\"color: #607D8B; font-weight: bold;\" title=\"Tier: OOV | Lemma: entspann\">Entspannen</span>.</p>"
      ],
      "text/plain": [
       "<IPython.core.display.HTML object>"
      ]
     },
     "metadata": {},
     "output_type": "display_data"
    },
    {
     "data": {
      "text/html": [
       "<p><strong>🧠 Method B (Embedding Norm):</strong><br><span style=\"color: #607D8B; font-weight: bold;\" title=\"Tier: OOV | Lemma: klassisch\">Klassische</span> <span style=\"color: #FFC107; font-weight: bold;\" title=\"Tier: B1 | Lemma: musik\">Musik</span> <span style=\"color: #607D8B; font-weight: bold;\" title=\"Tier: OOV | Lemma: helfen\">hilft</span> <span style=\"color: #607D8B; font-weight: bold;\" title=\"Tier: OOV | Lemma: mir\">mir</span> <span style=\"color: #607D8B; font-weight: bold;\" title=\"Tier: OOV | Lemma: abends\">abends</span> <span style=\"color: #607D8B; font-weight: bold;\" title=\"Tier: OOV | Lemma: bei\">beim</span> <span style=\"color: #607D8B; font-weight: bold;\" title=\"Tier: OOV | Lemma: entspann\">Entspannen</span>.</p>"
      ],
      "text/plain": [
       "<IPython.core.display.HTML object>"
      ]
     },
     "metadata": {},
     "output_type": "display_data"
    },
    {
     "data": {
      "text/html": [
       "<p><strong>🤖 Method C (ML Model):</strong><br><span style=\"color: #4CAF50; font-weight: bold;\" title=\"Tier: A1 | ML: Klassische\">Klassische</span> <span style=\"color: #4CAF50; font-weight: bold;\" title=\"Tier: A1 | ML: Musik\">Musik</span> <span style=\"color: #4CAF50; font-weight: bold;\" title=\"Tier: A1 | ML: hilft\">hilft</span> <span style=\"color: #4CAF50; font-weight: bold;\" title=\"Tier: A1 | ML: mir\">mir</span> <span style=\"color: #8BC34A; font-weight: bold;\" title=\"Tier: A2 | ML: abends\">abends</span> <span style=\"color: #4CAF50; font-weight: bold;\" title=\"Tier: A1 | ML: beim\">beim</span> <span style=\"color: #4CAF50; font-weight: bold;\" title=\"Tier: A1 | ML: Entspannen\">Entspannen</span>.</p>"
      ],
      "text/plain": [
       "<IPython.core.display.HTML object>"
      ]
     },
     "metadata": {},
     "output_type": "display_data"
    },
    {
     "data": {
      "text/html": [
       "<hr style='margin: 20px 0; border: 1px solid #eee;'>"
      ],
      "text/plain": [
       "<IPython.core.display.HTML object>"
      ]
     },
     "metadata": {},
     "output_type": "display_data"
    },
    {
     "data": {
      "text/html": [
       "<p><strong>Sentence 7:</strong> Der öffentliche Verkehr ist in dieser Stadt sehr effizient.</p>"
      ],
      "text/plain": [
       "<IPython.core.display.HTML object>"
      ]
     },
     "metadata": {},
     "output_type": "display_data"
    },
    {
     "data": {
      "text/html": [
       "<p><strong>🔤 Method A (Frequency):</strong><br><span style=\"color: #4CAF50; font-weight: bold;\" title=\"Tier: A1 | Lemma: der\">Der</span> <span style=\"color: #607D8B; font-weight: bold;\" title=\"Tier: OOV | Lemma: öffentlich\">öffentliche</span> <span style=\"color: #607D8B; font-weight: bold;\" title=\"Tier: OOV | Lemma: verkehr\">Verkehr</span> <span style=\"color: #607D8B; font-weight: bold;\" title=\"Tier: OOV | Lemma: sein\">ist</span> <span style=\"color: #607D8B; font-weight: bold;\" title=\"Tier: OOV | Lemma: in\">in</span> <span style=\"color: #607D8B; font-weight: bold;\" title=\"Tier: OOV | Lemma: dieser\">dieser</span> <span style=\"color: #8BC34A; font-weight: bold;\" title=\"Tier: A2 | Lemma: stadt\">Stadt</span> <span style=\"color: #4CAF50; font-weight: bold;\" title=\"Tier: A1 | Lemma: sehr\">sehr</span> <span style=\"color: #607D8B; font-weight: bold;\" title=\"Tier: OOV | Lemma: effizient\">effizient</span>.</p>"
      ],
      "text/plain": [
       "<IPython.core.display.HTML object>"
      ]
     },
     "metadata": {},
     "output_type": "display_data"
    },
    {
     "data": {
      "text/html": [
       "<p><strong>🧠 Method B (Embedding Norm):</strong><br><span style=\"color: #8BC34A; font-weight: bold;\" title=\"Tier: A2 | Lemma: der\">Der</span> <span style=\"color: #607D8B; font-weight: bold;\" title=\"Tier: OOV | Lemma: öffentlich\">öffentliche</span> <span style=\"color: #607D8B; font-weight: bold;\" title=\"Tier: OOV | Lemma: verkehr\">Verkehr</span> <span style=\"color: #607D8B; font-weight: bold;\" title=\"Tier: OOV | Lemma: sein\">ist</span> <span style=\"color: #607D8B; font-weight: bold;\" title=\"Tier: OOV | Lemma: in\">in</span> <span style=\"color: #607D8B; font-weight: bold;\" title=\"Tier: OOV | Lemma: dieser\">dieser</span> <span style=\"color: #FFC107; font-weight: bold;\" title=\"Tier: B1 | Lemma: stadt\">Stadt</span> <span style=\"color: #8BC34A; font-weight: bold;\" title=\"Tier: A2 | Lemma: sehr\">sehr</span> <span style=\"color: #607D8B; font-weight: bold;\" title=\"Tier: OOV | Lemma: effizient\">effizient</span>.</p>"
      ],
      "text/plain": [
       "<IPython.core.display.HTML object>"
      ]
     },
     "metadata": {},
     "output_type": "display_data"
    },
    {
     "data": {
      "text/html": [
       "<p><strong>🤖 Method C (ML Model):</strong><br><span style=\"color: #4CAF50; font-weight: bold;\" title=\"Tier: A1 | ML: Der\">Der</span> <span style=\"color: #B71C1C; font-weight: bold;\" title=\"Tier: C2 | ML: öffentliche\">öffentliche</span> <span style=\"color: #4CAF50; font-weight: bold;\" title=\"Tier: A1 | ML: Verkehr\">Verkehr</span> <span style=\"color: #4CAF50; font-weight: bold;\" title=\"Tier: A1 | ML: ist\">ist</span> <span style=\"color: #4CAF50; font-weight: bold;\" title=\"Tier: A1 | ML: in\">in</span> <span style=\"color: #4CAF50; font-weight: bold;\" title=\"Tier: A1 | ML: dieser\">dieser</span> <span style=\"color: #4CAF50; font-weight: bold;\" title=\"Tier: A1 | ML: Stadt\">Stadt</span> <span style=\"color: #4CAF50; font-weight: bold;\" title=\"Tier: A1 | ML: sehr\">sehr</span> <span style=\"color: #F44336; font-weight: bold;\" title=\"Tier: C1 | ML: effizient\">effizient</span>.</p>"
      ],
      "text/plain": [
       "<IPython.core.display.HTML object>"
      ]
     },
     "metadata": {},
     "output_type": "display_data"
    },
    {
     "data": {
      "text/html": [
       "<hr style='margin: 20px 0; border: 1px solid #eee;'>"
      ],
      "text/plain": [
       "<IPython.core.display.HTML object>"
      ]
     },
     "metadata": {},
     "output_type": "display_data"
    },
    {
     "data": {
      "text/html": [
       "<div style='margin: 40px 0; border-top: 3px solid #333;'></div>"
      ],
      "text/plain": [
       "<IPython.core.display.HTML object>"
      ]
     },
     "metadata": {},
     "output_type": "display_data"
    },
    {
     "data": {
      "text/html": [
       "<h2 style='color: #333; border-bottom: 2px solid #ddd; padding-bottom: 10px;'>📚 Topic 1 (die, planeten, herausforderungen, entwicklung, entscheidend)</h2>"
      ],
      "text/plain": [
       "<IPython.core.display.HTML object>"
      ]
     },
     "metadata": {},
     "output_type": "display_data"
    },
    {
     "data": {
      "text/html": [
       "<p><strong>Sentence 1:</strong> Die Technologie hat unser Leben völlig verändert.</p>"
      ],
      "text/plain": [
       "<IPython.core.display.HTML object>"
      ]
     },
     "metadata": {},
     "output_type": "display_data"
    },
    {
     "data": {
      "text/html": [
       "<p><strong>🔤 Method A (Frequency):</strong><br><span style=\"color: #4CAF50; font-weight: bold;\" title=\"Tier: A1 | Lemma: der\">Die</span> <span style=\"color: #FFC107; font-weight: bold;\" title=\"Tier: B1 | Lemma: technologie\">Technologie</span> <span style=\"color: #607D8B; font-weight: bold;\" title=\"Tier: OOV | Lemma: haben\">hat</span> <span style=\"color: #607D8B; font-weight: bold;\" title=\"Tier: OOV | Lemma: unser\">unser</span> <span style=\"color: #607D8B; font-weight: bold;\" title=\"Tier: OOV | Lemma: leben\">Leben</span> <span style=\"color: #607D8B; font-weight: bold;\" title=\"Tier: OOV | Lemma: völlig\">völlig</span> <span style=\"color: #607D8B; font-weight: bold;\" title=\"Tier: OOV | Lemma: verändern\">verändert</span>.</p>"
      ],
      "text/plain": [
       "<IPython.core.display.HTML object>"
      ]
     },
     "metadata": {},
     "output_type": "display_data"
    },
    {
     "data": {
      "text/html": [
       "<p><strong>🧠 Method B (Embedding Norm):</strong><br><span style=\"color: #8BC34A; font-weight: bold;\" title=\"Tier: A2 | Lemma: der\">Die</span> <span style=\"color: #FFC107; font-weight: bold;\" title=\"Tier: B1 | Lemma: technologie\">Technologie</span> <span style=\"color: #607D8B; font-weight: bold;\" title=\"Tier: OOV | Lemma: haben\">hat</span> <span style=\"color: #607D8B; font-weight: bold;\" title=\"Tier: OOV | Lemma: unser\">unser</span> <span style=\"color: #607D8B; font-weight: bold;\" title=\"Tier: OOV | Lemma: leben\">Leben</span> <span style=\"color: #607D8B; font-weight: bold;\" title=\"Tier: OOV | Lemma: völlig\">völlig</span> <span style=\"color: #607D8B; font-weight: bold;\" title=\"Tier: OOV | Lemma: verändern\">verändert</span>.</p>"
      ],
      "text/plain": [
       "<IPython.core.display.HTML object>"
      ]
     },
     "metadata": {},
     "output_type": "display_data"
    },
    {
     "data": {
      "text/html": [
       "<p><strong>🤖 Method C (ML Model):</strong><br><span style=\"color: #4CAF50; font-weight: bold;\" title=\"Tier: A1 | ML: Die\">Die</span> <span style=\"color: #4CAF50; font-weight: bold;\" title=\"Tier: A1 | ML: Technologie\">Technologie</span> <span style=\"color: #4CAF50; font-weight: bold;\" title=\"Tier: A1 | ML: hat\">hat</span> <span style=\"color: #4CAF50; font-weight: bold;\" title=\"Tier: A1 | ML: unser\">unser</span> <span style=\"color: #4CAF50; font-weight: bold;\" title=\"Tier: A1 | ML: Leben\">Leben</span> <span style=\"color: #4CAF50; font-weight: bold;\" title=\"Tier: A1 | ML: völlig\">völlig</span> <span style=\"color: #B71C1C; font-weight: bold;\" title=\"Tier: C2 | ML: verändert\">verändert</span>.</p>"
      ],
      "text/plain": [
       "<IPython.core.display.HTML object>"
      ]
     },
     "metadata": {},
     "output_type": "display_data"
    },
    {
     "data": {
      "text/html": [
       "<hr style='margin: 20px 0; border: 1px solid #eee;'>"
      ],
      "text/plain": [
       "<IPython.core.display.HTML object>"
      ]
     },
     "metadata": {},
     "output_type": "display_data"
    },
    {
     "data": {
      "text/html": [
       "<p><strong>Sentence 2:</strong> Die Weltwirtschaft steht vor vielen Herausforderungen.</p>"
      ],
      "text/plain": [
       "<IPython.core.display.HTML object>"
      ]
     },
     "metadata": {},
     "output_type": "display_data"
    },
    {
     "data": {
      "text/html": [
       "<p><strong>🔤 Method A (Frequency):</strong><br><span style=\"color: #4CAF50; font-weight: bold;\" title=\"Tier: A1 | Lemma: der\">Die</span> <span style=\"color: #607D8B; font-weight: bold;\" title=\"Tier: OOV | Lemma: weltwirtschaft\">Weltwirtschaft</span> <span style=\"color: #607D8B; font-weight: bold;\" title=\"Tier: OOV | Lemma: stehen\">steht</span> <span style=\"color: #607D8B; font-weight: bold;\" title=\"Tier: OOV | Lemma: vor\">vor</span> <span style=\"color: #607D8B; font-weight: bold;\" title=\"Tier: OOV | Lemma: vieler\">vielen</span> <span style=\"color: #607D8B; font-weight: bold;\" title=\"Tier: OOV | Lemma: herausforderung\">Herausforderungen</span>.</p>"
      ],
      "text/plain": [
       "<IPython.core.display.HTML object>"
      ]
     },
     "metadata": {},
     "output_type": "display_data"
    },
    {
     "data": {
      "text/html": [
       "<p><strong>🧠 Method B (Embedding Norm):</strong><br><span style=\"color: #8BC34A; font-weight: bold;\" title=\"Tier: A2 | Lemma: der\">Die</span> <span style=\"color: #607D8B; font-weight: bold;\" title=\"Tier: OOV | Lemma: weltwirtschaft\">Weltwirtschaft</span> <span style=\"color: #607D8B; font-weight: bold;\" title=\"Tier: OOV | Lemma: stehen\">steht</span> <span style=\"color: #607D8B; font-weight: bold;\" title=\"Tier: OOV | Lemma: vor\">vor</span> <span style=\"color: #607D8B; font-weight: bold;\" title=\"Tier: OOV | Lemma: vieler\">vielen</span> <span style=\"color: #607D8B; font-weight: bold;\" title=\"Tier: OOV | Lemma: herausforderung\">Herausforderungen</span>.</p>"
      ],
      "text/plain": [
       "<IPython.core.display.HTML object>"
      ]
     },
     "metadata": {},
     "output_type": "display_data"
    },
    {
     "data": {
      "text/html": [
       "<p><strong>🤖 Method C (ML Model):</strong><br><span style=\"color: #4CAF50; font-weight: bold;\" title=\"Tier: A1 | ML: Die\">Die</span> <span style=\"color: #4CAF50; font-weight: bold;\" title=\"Tier: A1 | ML: Weltwirtschaft\">Weltwirtschaft</span> <span style=\"color: #4CAF50; font-weight: bold;\" title=\"Tier: A1 | ML: steht\">steht</span> <span style=\"color: #4CAF50; font-weight: bold;\" title=\"Tier: A1 | ML: vor\">vor</span> <span style=\"color: #4CAF50; font-weight: bold;\" title=\"Tier: A1 | ML: vielen\">vielen</span> <span style=\"color: #4CAF50; font-weight: bold;\" title=\"Tier: A1 | ML: Herausforderungen\">Herausforderungen</span>.</p>"
      ],
      "text/plain": [
       "<IPython.core.display.HTML object>"
      ]
     },
     "metadata": {},
     "output_type": "display_data"
    },
    {
     "data": {
      "text/html": [
       "<hr style='margin: 20px 0; border: 1px solid #eee;'>"
      ],
      "text/plain": [
       "<IPython.core.display.HTML object>"
      ]
     },
     "metadata": {},
     "output_type": "display_data"
    },
    {
     "data": {
      "text/html": [
       "<p><strong>Sentence 3:</strong> Wissenschaftler haben neue Meeresarten entdeckt.</p>"
      ],
      "text/plain": [
       "<IPython.core.display.HTML object>"
      ]
     },
     "metadata": {},
     "output_type": "display_data"
    },
    {
     "data": {
      "text/html": [
       "<p><strong>🔤 Method A (Frequency):</strong><br><span style=\"color: #FF9800; font-weight: bold;\" title=\"Tier: B2 | Lemma: wissenschaftler\">Wissenschaftler</span> <span style=\"color: #607D8B; font-weight: bold;\" title=\"Tier: OOV | Lemma: haben\">haben</span> <span style=\"color: #607D8B; font-weight: bold;\" title=\"Tier: OOV | Lemma: neu\">neue</span> <span style=\"color: #607D8B; font-weight: bold;\" title=\"Tier: OOV | Lemma: meeresarte\">Meeresarten</span> <span style=\"color: #607D8B; font-weight: bold;\" title=\"Tier: OOV | Lemma: entdecken\">entdeckt</span>.</p>"
      ],
      "text/plain": [
       "<IPython.core.display.HTML object>"
      ]
     },
     "metadata": {},
     "output_type": "display_data"
    },
    {
     "data": {
      "text/html": [
       "<p><strong>🧠 Method B (Embedding Norm):</strong><br><span style=\"color: #FFC107; font-weight: bold;\" title=\"Tier: B1 | Lemma: wissenschaftler\">Wissenschaftler</span> <span style=\"color: #607D8B; font-weight: bold;\" title=\"Tier: OOV | Lemma: haben\">haben</span> <span style=\"color: #607D8B; font-weight: bold;\" title=\"Tier: OOV | Lemma: neu\">neue</span> <span style=\"color: #607D8B; font-weight: bold;\" title=\"Tier: OOV | Lemma: meeresarte\">Meeresarten</span> <span style=\"color: #607D8B; font-weight: bold;\" title=\"Tier: OOV | Lemma: entdecken\">entdeckt</span>.</p>"
      ],
      "text/plain": [
       "<IPython.core.display.HTML object>"
      ]
     },
     "metadata": {},
     "output_type": "display_data"
    },
    {
     "data": {
      "text/html": [
       "<p><strong>🤖 Method C (ML Model):</strong><br><span style=\"color: #B71C1C; font-weight: bold;\" title=\"Tier: C2 | ML: Wissenschaftler\">Wissenschaftler</span> <span style=\"color: #4CAF50; font-weight: bold;\" title=\"Tier: A1 | ML: haben\">haben</span> <span style=\"color: #4CAF50; font-weight: bold;\" title=\"Tier: A1 | ML: neue\">neue</span> <span style=\"color: #4CAF50; font-weight: bold;\" title=\"Tier: A1 | ML: Meeresarten\">Meeresarten</span> <span style=\"color: #FFC107; font-weight: bold;\" title=\"Tier: B1 | ML: entdeckt\">entdeckt</span>.</p>"
      ],
      "text/plain": [
       "<IPython.core.display.HTML object>"
      ]
     },
     "metadata": {},
     "output_type": "display_data"
    },
    {
     "data": {
      "text/html": [
       "<hr style='margin: 20px 0; border: 1px solid #eee;'>"
      ],
      "text/plain": [
       "<IPython.core.display.HTML object>"
      ]
     },
     "metadata": {},
     "output_type": "display_data"
    },
    {
     "data": {
      "text/html": [
       "<p><strong>Sentence 4:</strong> Nachhaltige Entwicklung ist entscheidend für die Zukunft unseres Planeten.</p>"
      ],
      "text/plain": [
       "<IPython.core.display.HTML object>"
      ]
     },
     "metadata": {},
     "output_type": "display_data"
    },
    {
     "data": {
      "text/html": [
       "<p><strong>🔤 Method A (Frequency):</strong><br><span style=\"color: #F44336; font-weight: bold;\" title=\"Tier: C1 | Lemma: nachhaltig\">Nachhaltige</span> <span style=\"color: #FF9800; font-weight: bold;\" title=\"Tier: B2 | Lemma: entwicklung\">Entwicklung</span> <span style=\"color: #607D8B; font-weight: bold;\" title=\"Tier: OOV | Lemma: sein\">ist</span> <span style=\"color: #607D8B; font-weight: bold;\" title=\"Tier: OOV | Lemma: entscheidend\">entscheidend</span> <span style=\"color: #4CAF50; font-weight: bold;\" title=\"Tier: A1 | Lemma: für\">für</span> <span style=\"color: #4CAF50; font-weight: bold;\" title=\"Tier: A1 | Lemma: der\">die</span> <span style=\"color: #607D8B; font-weight: bold;\" title=\"Tier: OOV | Lemma: zukunft\">Zukunft</span> <span style=\"color: #607D8B; font-weight: bold;\" title=\"Tier: OOV | Lemma: unser\">unseres</span> <span style=\"color: #607D8B; font-weight: bold;\" title=\"Tier: OOV | Lemma: planet\">Planeten</span>.</p>"
      ],
      "text/plain": [
       "<IPython.core.display.HTML object>"
      ]
     },
     "metadata": {},
     "output_type": "display_data"
    },
    {
     "data": {
      "text/html": [
       "<p><strong>🧠 Method B (Embedding Norm):</strong><br><span style=\"color: #B71C1C; font-weight: bold;\" title=\"Tier: C2 | Lemma: nachhaltig\">Nachhaltige</span> <span style=\"color: #FF9800; font-weight: bold;\" title=\"Tier: B2 | Lemma: entwicklung\">Entwicklung</span> <span style=\"color: #607D8B; font-weight: bold;\" title=\"Tier: OOV | Lemma: sein\">ist</span> <span style=\"color: #607D8B; font-weight: bold;\" title=\"Tier: OOV | Lemma: entscheidend\">entscheidend</span> <span style=\"color: #8BC34A; font-weight: bold;\" title=\"Tier: A2 | Lemma: für\">für</span> <span style=\"color: #8BC34A; font-weight: bold;\" title=\"Tier: A2 | Lemma: der\">die</span> <span style=\"color: #607D8B; font-weight: bold;\" title=\"Tier: OOV | Lemma: zukunft\">Zukunft</span> <span style=\"color: #607D8B; font-weight: bold;\" title=\"Tier: OOV | Lemma: unser\">unseres</span> <span style=\"color: #607D8B; font-weight: bold;\" title=\"Tier: OOV | Lemma: planet\">Planeten</span>.</p>"
      ],
      "text/plain": [
       "<IPython.core.display.HTML object>"
      ]
     },
     "metadata": {},
     "output_type": "display_data"
    },
    {
     "data": {
      "text/html": [
       "<p><strong>🤖 Method C (ML Model):</strong><br><span style=\"color: #4CAF50; font-weight: bold;\" title=\"Tier: A1 | ML: Nachhaltige\">Nachhaltige</span> <span style=\"color: #4CAF50; font-weight: bold;\" title=\"Tier: A1 | ML: Entwicklung\">Entwicklung</span> <span style=\"color: #4CAF50; font-weight: bold;\" title=\"Tier: A1 | ML: ist\">ist</span> <span style=\"color: #B71C1C; font-weight: bold;\" title=\"Tier: C2 | ML: entscheidend\">entscheidend</span> <span style=\"color: #4CAF50; font-weight: bold;\" title=\"Tier: A1 | ML: für\">für</span> <span style=\"color: #4CAF50; font-weight: bold;\" title=\"Tier: A1 | ML: die\">die</span> <span style=\"color: #4CAF50; font-weight: bold;\" title=\"Tier: A1 | ML: Zukunft\">Zukunft</span> <span style=\"color: #8BC34A; font-weight: bold;\" title=\"Tier: A2 | ML: unseres\">unseres</span> <span style=\"color: #4CAF50; font-weight: bold;\" title=\"Tier: A1 | ML: Planeten\">Planeten</span>.</p>"
      ],
      "text/plain": [
       "<IPython.core.display.HTML object>"
      ]
     },
     "metadata": {},
     "output_type": "display_data"
    },
    {
     "data": {
      "text/html": [
       "<hr style='margin: 20px 0; border: 1px solid #eee;'>"
      ],
      "text/plain": [
       "<IPython.core.display.HTML object>"
      ]
     },
     "metadata": {},
     "output_type": "display_data"
    },
    {
     "data": {
      "text/html": [
       "<div style='margin: 40px 0; border-top: 3px solid #333;'></div>"
      ],
      "text/plain": [
       "<IPython.core.display.HTML object>"
      ]
     },
     "metadata": {},
     "output_type": "display_data"
    },
    {
     "data": {
      "text/html": [
       "<h2 style='color: #333; border-bottom: 2px solid #ddd; padding-bottom: 10px;'>📚 Topic 2 (das, die, abschlussprüfungen, ausstellung, auf)</h2>"
      ],
      "text/plain": [
       "<IPython.core.display.HTML object>"
      ]
     },
     "metadata": {},
     "output_type": "display_data"
    },
    {
     "data": {
      "text/html": [
       "<p><strong>Sentence 1:</strong> Die Studenten bereiten sich auf ihre Abschlussprüfungen vor.</p>"
      ],
      "text/plain": [
       "<IPython.core.display.HTML object>"
      ]
     },
     "metadata": {},
     "output_type": "display_data"
    },
    {
     "data": {
      "text/html": [
       "<p><strong>🔤 Method A (Frequency):</strong><br><span style=\"color: #4CAF50; font-weight: bold;\" title=\"Tier: A1 | Lemma: der\">Die</span> <span style=\"color: #607D8B; font-weight: bold;\" title=\"Tier: OOV | Lemma: student\">Studenten</span> <span style=\"color: #607D8B; font-weight: bold;\" title=\"Tier: OOV | Lemma: bereiten\">bereiten</span> <span style=\"color: #607D8B; font-weight: bold;\" title=\"Tier: OOV | Lemma: sich\">sich</span> <span style=\"color: #4CAF50; font-weight: bold;\" title=\"Tier: A1 | Lemma: auf\">auf</span> <span style=\"color: #607D8B; font-weight: bold;\" title=\"Tier: OOV | Lemma: ihr\">ihre</span> <span style=\"color: #607D8B; font-weight: bold;\" title=\"Tier: OOV | Lemma: abschlussprüfung\">Abschlussprüfungen</span> <span style=\"color: #607D8B; font-weight: bold;\" title=\"Tier: OOV | Lemma: vor\">vor</span>.</p>"
      ],
      "text/plain": [
       "<IPython.core.display.HTML object>"
      ]
     },
     "metadata": {},
     "output_type": "display_data"
    },
    {
     "data": {
      "text/html": [
       "<p><strong>🧠 Method B (Embedding Norm):</strong><br><span style=\"color: #8BC34A; font-weight: bold;\" title=\"Tier: A2 | Lemma: der\">Die</span> <span style=\"color: #607D8B; font-weight: bold;\" title=\"Tier: OOV | Lemma: student\">Studenten</span> <span style=\"color: #607D8B; font-weight: bold;\" title=\"Tier: OOV | Lemma: bereiten\">bereiten</span> <span style=\"color: #607D8B; font-weight: bold;\" title=\"Tier: OOV | Lemma: sich\">sich</span> <span style=\"color: #4CAF50; font-weight: bold;\" title=\"Tier: A1 | Lemma: auf\">auf</span> <span style=\"color: #607D8B; font-weight: bold;\" title=\"Tier: OOV | Lemma: ihr\">ihre</span> <span style=\"color: #607D8B; font-weight: bold;\" title=\"Tier: OOV | Lemma: abschlussprüfung\">Abschlussprüfungen</span> <span style=\"color: #607D8B; font-weight: bold;\" title=\"Tier: OOV | Lemma: vor\">vor</span>.</p>"
      ],
      "text/plain": [
       "<IPython.core.display.HTML object>"
      ]
     },
     "metadata": {},
     "output_type": "display_data"
    },
    {
     "data": {
      "text/html": [
       "<p><strong>🤖 Method C (ML Model):</strong><br><span style=\"color: #4CAF50; font-weight: bold;\" title=\"Tier: A1 | ML: Die\">Die</span> <span style=\"color: #4CAF50; font-weight: bold;\" title=\"Tier: A1 | ML: Studenten\">Studenten</span> <span style=\"color: #FF9800; font-weight: bold;\" title=\"Tier: B2 | ML: bereiten\">bereiten</span> <span style=\"color: #4CAF50; font-weight: bold;\" title=\"Tier: A1 | ML: sich\">sich</span> <span style=\"color: #4CAF50; font-weight: bold;\" title=\"Tier: A1 | ML: auf\">auf</span> <span style=\"color: #4CAF50; font-weight: bold;\" title=\"Tier: A1 | ML: ihre\">ihre</span> <span style=\"color: #B71C1C; font-weight: bold;\" title=\"Tier: C2 | ML: Abschlussprüfungen\">Abschlussprüfungen</span> <span style=\"color: #4CAF50; font-weight: bold;\" title=\"Tier: A1 | ML: vor\">vor</span>.</p>"
      ],
      "text/plain": [
       "<IPython.core.display.HTML object>"
      ]
     },
     "metadata": {},
     "output_type": "display_data"
    },
    {
     "data": {
      "text/html": [
       "<hr style='margin: 20px 0; border: 1px solid #eee;'>"
      ],
      "text/plain": [
       "<IPython.core.display.HTML object>"
      ]
     },
     "metadata": {},
     "output_type": "display_data"
    },
    {
     "data": {
      "text/html": [
       "<p><strong>Sentence 2:</strong> Das Museum für moderne Kunst hat eine interessante Ausstellung.</p>"
      ],
      "text/plain": [
       "<IPython.core.display.HTML object>"
      ]
     },
     "metadata": {},
     "output_type": "display_data"
    },
    {
     "data": {
      "text/html": [
       "<p><strong>🔤 Method A (Frequency):</strong><br><span style=\"color: #4CAF50; font-weight: bold;\" title=\"Tier: A1 | Lemma: der\">Das</span> <span style=\"color: #607D8B; font-weight: bold;\" title=\"Tier: OOV | Lemma: museum\">Museum</span> <span style=\"color: #4CAF50; font-weight: bold;\" title=\"Tier: A1 | Lemma: für\">für</span> <span style=\"color: #607D8B; font-weight: bold;\" title=\"Tier: OOV | Lemma: modern\">moderne</span> <span style=\"color: #607D8B; font-weight: bold;\" title=\"Tier: OOV | Lemma: kunst\">Kunst</span> <span style=\"color: #607D8B; font-weight: bold;\" title=\"Tier: OOV | Lemma: haben\">hat</span> <span style=\"color: #4CAF50; font-weight: bold;\" title=\"Tier: A1 | Lemma: ein\">eine</span> <span style=\"color: #607D8B; font-weight: bold;\" title=\"Tier: OOV | Lemma: interessant\">interessante</span> <span style=\"color: #FF9800; font-weight: bold;\" title=\"Tier: B2 | Lemma: ausstellung\">Ausstellung</span>.</p>"
      ],
      "text/plain": [
       "<IPython.core.display.HTML object>"
      ]
     },
     "metadata": {},
     "output_type": "display_data"
    },
    {
     "data": {
      "text/html": [
       "<p><strong>🧠 Method B (Embedding Norm):</strong><br><span style=\"color: #8BC34A; font-weight: bold;\" title=\"Tier: A2 | Lemma: der\">Das</span> <span style=\"color: #607D8B; font-weight: bold;\" title=\"Tier: OOV | Lemma: museum\">Museum</span> <span style=\"color: #8BC34A; font-weight: bold;\" title=\"Tier: A2 | Lemma: für\">für</span> <span style=\"color: #607D8B; font-weight: bold;\" title=\"Tier: OOV | Lemma: modern\">moderne</span> <span style=\"color: #607D8B; font-weight: bold;\" title=\"Tier: OOV | Lemma: kunst\">Kunst</span> <span style=\"color: #607D8B; font-weight: bold;\" title=\"Tier: OOV | Lemma: haben\">hat</span> <span style=\"color: #8BC34A; font-weight: bold;\" title=\"Tier: A2 | Lemma: ein\">eine</span> <span style=\"color: #607D8B; font-weight: bold;\" title=\"Tier: OOV | Lemma: interessant\">interessante</span> <span style=\"color: #8BC34A; font-weight: bold;\" title=\"Tier: A2 | Lemma: ausstellung\">Ausstellung</span>.</p>"
      ],
      "text/plain": [
       "<IPython.core.display.HTML object>"
      ]
     },
     "metadata": {},
     "output_type": "display_data"
    },
    {
     "data": {
      "text/html": [
       "<p><strong>🤖 Method C (ML Model):</strong><br><span style=\"color: #4CAF50; font-weight: bold;\" title=\"Tier: A1 | ML: Das\">Das</span> <span style=\"color: #4CAF50; font-weight: bold;\" title=\"Tier: A1 | ML: Museum\">Museum</span> <span style=\"color: #4CAF50; font-weight: bold;\" title=\"Tier: A1 | ML: für\">für</span> <span style=\"color: #FFC107; font-weight: bold;\" title=\"Tier: B1 | ML: moderne\">moderne</span> <span style=\"color: #4CAF50; font-weight: bold;\" title=\"Tier: A1 | ML: Kunst\">Kunst</span> <span style=\"color: #4CAF50; font-weight: bold;\" title=\"Tier: A1 | ML: hat\">hat</span> <span style=\"color: #4CAF50; font-weight: bold;\" title=\"Tier: A1 | ML: eine\">eine</span> <span style=\"color: #B71C1C; font-weight: bold;\" title=\"Tier: C2 | ML: interessante\">interessante</span> <span style=\"color: #4CAF50; font-weight: bold;\" title=\"Tier: A1 | ML: Ausstellung\">Ausstellung</span>.</p>"
      ],
      "text/plain": [
       "<IPython.core.display.HTML object>"
      ]
     },
     "metadata": {},
     "output_type": "display_data"
    },
    {
     "data": {
      "text/html": [
       "<hr style='margin: 20px 0; border: 1px solid #eee;'>"
      ],
      "text/plain": [
       "<IPython.core.display.HTML object>"
      ]
     },
     "metadata": {},
     "output_type": "display_data"
    },
    {
     "data": {
      "text/html": [
       "<p><strong>Sentence 3:</strong> Geschichtsbücher haben mich schon immer sehr fasziniert.</p>"
      ],
      "text/plain": [
       "<IPython.core.display.HTML object>"
      ]
     },
     "metadata": {},
     "output_type": "display_data"
    },
    {
     "data": {
      "text/html": [
       "<p><strong>🔤 Method A (Frequency):</strong><br><span style=\"color: #607D8B; font-weight: bold;\" title=\"Tier: OOV | Lemma: geschichtsbücher\">Geschichtsbücher</span> <span style=\"color: #607D8B; font-weight: bold;\" title=\"Tier: OOV | Lemma: haben\">haben</span> <span style=\"color: #607D8B; font-weight: bold;\" title=\"Tier: OOV | Lemma: mich\">mich</span> <span style=\"color: #607D8B; font-weight: bold;\" title=\"Tier: OOV | Lemma: schon\">schon</span> <span style=\"color: #607D8B; font-weight: bold;\" title=\"Tier: OOV | Lemma: immer\">immer</span> <span style=\"color: #4CAF50; font-weight: bold;\" title=\"Tier: A1 | Lemma: sehr\">sehr</span> <span style=\"color: #607D8B; font-weight: bold;\" title=\"Tier: OOV | Lemma: fasziniert\">fasziniert</span>.</p>"
      ],
      "text/plain": [
       "<IPython.core.display.HTML object>"
      ]
     },
     "metadata": {},
     "output_type": "display_data"
    },
    {
     "data": {
      "text/html": [
       "<p><strong>🧠 Method B (Embedding Norm):</strong><br><span style=\"color: #607D8B; font-weight: bold;\" title=\"Tier: OOV | Lemma: geschichtsbücher\">Geschichtsbücher</span> <span style=\"color: #607D8B; font-weight: bold;\" title=\"Tier: OOV | Lemma: haben\">haben</span> <span style=\"color: #607D8B; font-weight: bold;\" title=\"Tier: OOV | Lemma: mich\">mich</span> <span style=\"color: #607D8B; font-weight: bold;\" title=\"Tier: OOV | Lemma: schon\">schon</span> <span style=\"color: #607D8B; font-weight: bold;\" title=\"Tier: OOV | Lemma: immer\">immer</span> <span style=\"color: #8BC34A; font-weight: bold;\" title=\"Tier: A2 | Lemma: sehr\">sehr</span> <span style=\"color: #607D8B; font-weight: bold;\" title=\"Tier: OOV | Lemma: fasziniert\">fasziniert</span>.</p>"
      ],
      "text/plain": [
       "<IPython.core.display.HTML object>"
      ]
     },
     "metadata": {},
     "output_type": "display_data"
    },
    {
     "data": {
      "text/html": [
       "<p><strong>🤖 Method C (ML Model):</strong><br><span style=\"color: #4CAF50; font-weight: bold;\" title=\"Tier: A1 | ML: Geschichtsbücher\">Geschichtsbücher</span> <span style=\"color: #4CAF50; font-weight: bold;\" title=\"Tier: A1 | ML: haben\">haben</span> <span style=\"color: #4CAF50; font-weight: bold;\" title=\"Tier: A1 | ML: mich\">mich</span> <span style=\"color: #4CAF50; font-weight: bold;\" title=\"Tier: A1 | ML: schon\">schon</span> <span style=\"color: #4CAF50; font-weight: bold;\" title=\"Tier: A1 | ML: immer\">immer</span> <span style=\"color: #4CAF50; font-weight: bold;\" title=\"Tier: A1 | ML: sehr\">sehr</span> <span style=\"color: #B71C1C; font-weight: bold;\" title=\"Tier: C2 | ML: fasziniert\">fasziniert</span>.</p>"
      ],
      "text/plain": [
       "<IPython.core.display.HTML object>"
      ]
     },
     "metadata": {},
     "output_type": "display_data"
    },
    {
     "data": {
      "text/html": [
       "<hr style='margin: 20px 0; border: 1px solid #eee;'>"
      ],
      "text/plain": [
       "<IPython.core.display.HTML object>"
      ]
     },
     "metadata": {},
     "output_type": "display_data"
    },
    {
     "data": {
      "text/html": [
       "<p><strong>Sentence 4:</strong> Die Natur lehrt uns wichtige Lektionen über das Leben.</p>"
      ],
      "text/plain": [
       "<IPython.core.display.HTML object>"
      ]
     },
     "metadata": {},
     "output_type": "display_data"
    },
    {
     "data": {
      "text/html": [
       "<p><strong>🔤 Method A (Frequency):</strong><br><span style=\"color: #4CAF50; font-weight: bold;\" title=\"Tier: A1 | Lemma: der\">Die</span> <span style=\"color: #607D8B; font-weight: bold;\" title=\"Tier: OOV | Lemma: natur\">Natur</span> <span style=\"color: #607D8B; font-weight: bold;\" title=\"Tier: OOV | Lemma: lehren\">lehrt</span> <span style=\"color: #607D8B; font-weight: bold;\" title=\"Tier: OOV | Lemma: uns\">uns</span> <span style=\"color: #607D8B; font-weight: bold;\" title=\"Tier: OOV | Lemma: wichtig\">wichtige</span> <span style=\"color: #607D8B; font-weight: bold;\" title=\"Tier: OOV | Lemma: lektion\">Lektionen</span> <span style=\"color: #607D8B; font-weight: bold;\" title=\"Tier: OOV | Lemma: über\">über</span> <span style=\"color: #4CAF50; font-weight: bold;\" title=\"Tier: A1 | Lemma: der\">das</span> <span style=\"color: #607D8B; font-weight: bold;\" title=\"Tier: OOV | Lemma: leben\">Leben</span>.</p>"
      ],
      "text/plain": [
       "<IPython.core.display.HTML object>"
      ]
     },
     "metadata": {},
     "output_type": "display_data"
    },
    {
     "data": {
      "text/html": [
       "<p><strong>🧠 Method B (Embedding Norm):</strong><br><span style=\"color: #8BC34A; font-weight: bold;\" title=\"Tier: A2 | Lemma: der\">Die</span> <span style=\"color: #607D8B; font-weight: bold;\" title=\"Tier: OOV | Lemma: natur\">Natur</span> <span style=\"color: #607D8B; font-weight: bold;\" title=\"Tier: OOV | Lemma: lehren\">lehrt</span> <span style=\"color: #607D8B; font-weight: bold;\" title=\"Tier: OOV | Lemma: uns\">uns</span> <span style=\"color: #607D8B; font-weight: bold;\" title=\"Tier: OOV | Lemma: wichtig\">wichtige</span> <span style=\"color: #607D8B; font-weight: bold;\" title=\"Tier: OOV | Lemma: lektion\">Lektionen</span> <span style=\"color: #607D8B; font-weight: bold;\" title=\"Tier: OOV | Lemma: über\">über</span> <span style=\"color: #8BC34A; font-weight: bold;\" title=\"Tier: A2 | Lemma: der\">das</span> <span style=\"color: #607D8B; font-weight: bold;\" title=\"Tier: OOV | Lemma: leben\">Leben</span>.</p>"
      ],
      "text/plain": [
       "<IPython.core.display.HTML object>"
      ]
     },
     "metadata": {},
     "output_type": "display_data"
    },
    {
     "data": {
      "text/html": [
       "<p><strong>🤖 Method C (ML Model):</strong><br><span style=\"color: #4CAF50; font-weight: bold;\" title=\"Tier: A1 | ML: Die\">Die</span> <span style=\"color: #4CAF50; font-weight: bold;\" title=\"Tier: A1 | ML: Natur\">Natur</span> <span style=\"color: #4CAF50; font-weight: bold;\" title=\"Tier: A1 | ML: lehrt\">lehrt</span> <span style=\"color: #4CAF50; font-weight: bold;\" title=\"Tier: A1 | ML: uns\">uns</span> <span style=\"color: #F44336; font-weight: bold;\" title=\"Tier: C1 | ML: wichtige\">wichtige</span> <span style=\"color: #4CAF50; font-weight: bold;\" title=\"Tier: A1 | ML: Lektionen\">Lektionen</span> <span style=\"color: #4CAF50; font-weight: bold;\" title=\"Tier: A1 | ML: über\">über</span> <span style=\"color: #4CAF50; font-weight: bold;\" title=\"Tier: A1 | ML: das\">das</span> <span style=\"color: #4CAF50; font-weight: bold;\" title=\"Tier: A1 | ML: Leben\">Leben</span>.</p>"
      ],
      "text/plain": [
       "<IPython.core.display.HTML object>"
      ]
     },
     "metadata": {},
     "output_type": "display_data"
    },
    {
     "data": {
      "text/html": [
       "<hr style='margin: 20px 0; border: 1px solid #eee;'>"
      ],
      "text/plain": [
       "<IPython.core.display.HTML object>"
      ]
     },
     "metadata": {},
     "output_type": "display_data"
    },
    {
     "data": {
      "text/html": [
       "<div style='margin: 40px 0; border-top: 3px solid #333;'></div>"
      ],
      "text/plain": [
       "<IPython.core.display.HTML object>"
      ]
     },
     "metadata": {},
     "output_type": "display_data"
    },
    {
     "name": "stdout",
     "output_type": "stream",
     "text": [
      "\n",
      "✅ Comparative visualization complete for all three methods!\n"
     ]
    }
   ],
   "source": [
    "# Display legend first\n",
    "legend_html = \"<h3>🎨 Color Legend</h3><p>\"\n",
    "for tier, color in COLOR_MAP.items():\n",
    "    legend_html += f'<span style=\"color: {color}; font-weight: bold;\">■ {tier}</span>&nbsp;&nbsp;&nbsp;'\n",
    "legend_html += \"</p><hr>\"\n",
    "display(HTML(legend_html))\n",
    "\n",
    "# Get unique topics sorted\n",
    "unique_topics = sorted(df_sentences['topic'].unique())\n",
    "\n",
    "for topic_id in unique_topics:\n",
    "    # Get topic information\n",
    "    if topic_id == -1:\n",
    "        topic_name = \"Outliers\"\n",
    "        topic_words = [\"miscellaneous\", \"outliers\"]\n",
    "    else:\n",
    "        topic_info_row = topic_info[topic_info['Topic'] == topic_id]\n",
    "        if not topic_info_row.empty:\n",
    "            topic_name = f\"Topic {topic_id}\"\n",
    "            # Get top words for this topic\n",
    "            try:\n",
    "                topic_words = [word for word, _ in topic_model.get_topic(topic_id)[:5]]\n",
    "                topic_name += f\" ({', '.join(topic_words)})\"\n",
    "            except:\n",
    "                topic_name += \" (Unknown)\"\n",
    "        else:\n",
    "            topic_name = f\"Topic {topic_id}\"\n",
    "\n",
    "    # Display topic header\n",
    "    topic_header = f\"<h2 style='color: #333; border-bottom: 2px solid #ddd; padding-bottom: 10px;'>📚 {topic_name}</h2>\"\n",
    "    display(HTML(topic_header))\n",
    "\n",
    "    # Get sentences for this topic\n",
    "    topic_sentences = df_sentences[df_sentences['topic'] == topic_id]['sentence'].tolist()\n",
    "\n",
    "    # Display each sentence with all three methods\n",
    "    for i, sentence in enumerate(topic_sentences, 1):\n",
    "        # Original sentence\n",
    "        display(HTML(f\"<p><strong>Sentence {i}:</strong> {sentence}</p>\"))\n",
    "\n",
    "        # Method A (Frequency)\n",
    "        freq_colored = colorize_sentence(sentence, freq_lexicon, COLOR_MAP, nlp)\n",
    "        display(HTML(f\"<p><strong>🔤 Method A (Frequency):</strong><br>{freq_colored}</p>\"))\n",
    "\n",
    "        # Method B (Embedding Norm)\n",
    "        norm_colored = colorize_sentence(sentence, norm_lexicon, COLOR_MAP, nlp)\n",
    "        display(HTML(f\"<p><strong>🧠 Method B (Embedding Norm):</strong><br>{norm_colored}</p>\"))\n",
    "\n",
    "        # Method C (ML Model) - Real-time prediction\n",
    "        ml_colored = colorize_sentence(\n",
    "            sentence, None, COLOR_MAP, nlp,\n",
    "            use_method_c=True, ml_model=method_c_model, ml_label_encoder=label_encoder,\n",
    "            freq_lexicon=freq_lexicon, norm_lexicon=norm_lexicon\n",
    "        )\n",
    "        display(HTML(f\"<p><strong>🤖 Method C (ML Model):</strong><br>{ml_colored}</p>\"))\n",
    "\n",
    "        # Add separator\n",
    "        display(HTML(\"<hr style='margin: 20px 0; border: 1px solid #eee;'>\"))\n",
    "\n",
    "    # Add topic separator\n",
    "    display(HTML(\"<div style='margin: 40px 0; border-top: 3px solid #333;'></div>\"))\n",
    "\n",
    "print(\"\\n✅ Comparative visualization complete for all three methods!\")"
   ]
  },
  {
   "cell_type": "markdown",
   "id": "d32af616",
   "metadata": {},
   "source": [
    "## 8. Quantitative Analysis & Conclusion\n",
    "\n",
    "This final section provides comprehensive quantitative analysis comparing all three word difficulty methods: Frequency-based (A), Embedding Norm (B), and Machine Learning (C)."
   ]
  },
  {
   "cell_type": "code",
   "execution_count": 16,
   "id": "4f3e5b03",
   "metadata": {},
   "outputs": [
    {
     "name": "stdout",
     "output_type": "stream",
     "text": [
      "Performing comprehensive quantitative analysis...\n",
      "\n",
      "📊 AGREEMENT ANALYSIS\n",
      "==================================================\n",
      "Total words compared: 60\n",
      "Method A-B agreement: 17 words (28.3%)\n",
      "Method A-C agreement: 33 words (55.0%)\n",
      "Method B-C agreement: 11 words (18.3%)\n",
      "All three agree: 9 words (15.0%)\n",
      "\n",
      "📈 CORRELATION ANALYSIS\n",
      "==================================================\n",
      "Method A-B correlation: 0.418\n",
      "Method A-C correlation: 0.884\n",
      "Method B-C correlation: 0.447\n",
      "\n",
      "📊 AGREEMENT ANALYSIS\n",
      "==================================================\n",
      "Total words compared: 60\n",
      "Method A-B agreement: 17 words (28.3%)\n",
      "Method A-C agreement: 33 words (55.0%)\n",
      "Method B-C agreement: 11 words (18.3%)\n",
      "All three agree: 9 words (15.0%)\n",
      "\n",
      "📈 CORRELATION ANALYSIS\n",
      "==================================================\n",
      "Method A-B correlation: 0.418\n",
      "Method A-C correlation: 0.884\n",
      "Method B-C correlation: 0.447\n"
     ]
    },
    {
     "data": {
      "image/png": "[encoded data removed]",
      "text/plain": [
       "<Figure size 1800x1500 with 12 Axes>"
      ]
     },
     "metadata": {},
     "output_type": "display_data"
    },
    {
     "name": "stdout",
     "output_type": "stream",
     "text": [
      "\n",
      "🔍 EXAMPLES OF DISAGREEMENTS\n",
      "==================================================\n",
      "\n",
      "Three-way disagreements (all methods differ):\n",
      "essen: A=A2, B=B1, C=B2\n",
      "haus: A=A2, B=B2, C=A1\n",
      "zeit: A=A2, B=B1, C=A1\n",
      "musik: A=A2, B=B1, C=A1\n",
      "stadt: A=A2, B=B1, C=A1\n",
      "\n",
      "Method A-C major disagreements (>2 tier difference):\n",
      "essen: A=A2, C=B2\n",
      "technologie: A=B1, C=C2\n",
      "studenten: A=B1, C=C1\n",
      "universität: A=B1, C=C2\n",
      "regierung: A=B1, C=C1\n",
      "\n",
      "==================================================\n",
      "THREE-METHOD ANALYSIS COMPLETE\n",
      "==================================================\n"
     ]
    }
   ],
   "source": [
    "# Comprehensive Three-Method Quantitative Analysis\n",
    "print(\"Performing comprehensive quantitative analysis...\")\n",
    "\n",
    "# Create comparison DataFrame for all three methods\n",
    "comparison_data = []\n",
    "for word in freq_lexicon.keys():\n",
    "    if word in norm_lexicon:\n",
    "        # Get Method C prediction\n",
    "        try:\n",
    "            method_c_prediction = predict_word_difficulty_method_c(\n",
    "                word, method_c_model, label_encoder, freq_lexicon, norm_lexicon, nlp\n",
    "            )\n",
    "        except:\n",
    "            method_c_prediction = 'OOV'\n",
    "\n",
    "        comparison_data.append({\n",
    "            'word': word,\n",
    "            'method_a_tier': freq_lexicon[word],\n",
    "            'method_b_tier': norm_lexicon[word],\n",
    "            'method_c_tier': method_c_prediction,\n",
    "            'ab_agreement': freq_lexicon[word] == norm_lexicon[word],\n",
    "            'ac_agreement': freq_lexicon[word] == method_c_prediction,\n",
    "            'bc_agreement': norm_lexicon[word] == method_c_prediction,\n",
    "            'all_agree': (freq_lexicon[word] == norm_lexicon[word] == method_c_prediction)\n",
    "        })\n",
    "\n",
    "comparison_df = pd.DataFrame(comparison_data)\n",
    "\n",
    "# Calculate agreement statistics\n",
    "total_words = len(comparison_df)\n",
    "ab_agreement = comparison_df['ab_agreement'].sum()\n",
    "ac_agreement = comparison_df['ac_agreement'].sum()\n",
    "bc_agreement = comparison_df['bc_agreement'].sum()\n",
    "all_agreement = comparison_df['all_agree'].sum()\n",
    "\n",
    "print(f\"\\n📊 AGREEMENT ANALYSIS\")\n",
    "print(\"=\" * 50)\n",
    "print(f\"Total words compared: {total_words}\")\n",
    "print(f\"Method A-B agreement: {ab_agreement} words ({ab_agreement/total_words*100:.1f}%)\")\n",
    "print(f\"Method A-C agreement: {ac_agreement} words ({ac_agreement/total_words*100:.1f}%)\")\n",
    "print(f\"Method B-C agreement: {bc_agreement} words ({bc_agreement/total_words*100:.1f}%)\")\n",
    "print(f\"All three agree: {all_agreement} words ({all_agreement/total_words*100:.1f}%)\")\n",
    "\n",
    "# Create tier mapping for numerical analysis\n",
    "tier_to_num = {'A1': 1, 'A2': 2, 'B1': 3, 'B2': 4, 'C1': 5, 'C2': 6, 'OOV': 0}\n",
    "comparison_df['method_a_numeric'] = comparison_df['method_a_tier'].map(tier_to_num)\n",
    "comparison_df['method_b_numeric'] = comparison_df['method_b_tier'].map(tier_to_num)\n",
    "comparison_df['method_c_numeric'] = comparison_df['method_c_tier'].map(tier_to_num)\n",
    "\n",
    "# Calculate correlations\n",
    "ab_correlation = comparison_df['method_a_numeric'].corr(comparison_df['method_b_numeric'])\n",
    "ac_correlation = comparison_df['method_a_numeric'].corr(comparison_df['method_c_numeric'])\n",
    "bc_correlation = comparison_df['method_b_numeric'].corr(comparison_df['method_c_numeric'])\n",
    "\n",
    "print(f\"\\n📈 CORRELATION ANALYSIS\")\n",
    "print(\"=\" * 50)\n",
    "print(f\"Method A-B correlation: {ab_correlation:.3f}\")\n",
    "print(f\"Method A-C correlation: {ac_correlation:.3f}\")\n",
    "print(f\"Method B-C correlation: {bc_correlation:.3f}\")\n",
    "\n",
    "# Create comprehensive visualization\n",
    "fig, axes = plt.subplots(3, 3, figsize=(18, 15))\n",
    "fig.suptitle('Comprehensive Three-Method Comparison Analysis', fontsize=16, fontweight='bold')\n",
    "\n",
    "# Row 1: Scatter plots for pairwise comparisons\n",
    "# A vs B\n",
    "axes[0, 0].scatter(comparison_df['method_a_numeric'], comparison_df['method_b_numeric'], alpha=0.6, s=30)\n",
    "axes[0, 0].plot([0, 6], [0, 6], 'r--', alpha=0.5, label='Perfect agreement')\n",
    "axes[0, 0].set_xlabel('Method A (Frequency)')\n",
    "axes[0, 0].set_ylabel('Method B (Embedding)')\n",
    "axes[0, 0].set_title(f'A vs B (r={ab_correlation:.3f})')\n",
    "axes[0, 0].grid(True, alpha=0.3)\n",
    "axes[0, 0].legend()\n",
    "\n",
    "# A vs C\n",
    "axes[0, 1].scatter(comparison_df['method_a_numeric'], comparison_df['method_c_numeric'], alpha=0.6, s=30)\n",
    "axes[0, 1].plot([0, 6], [0, 6], 'r--', alpha=0.5, label='Perfect agreement')\n",
    "axes[0, 1].set_xlabel('Method A (Frequency)')\n",
    "axes[0, 1].set_ylabel('Method C (ML Model)')\n",
    "axes[0, 1].set_title(f'A vs C (r={ac_correlation:.3f})')\n",
    "axes[0, 1].grid(True, alpha=0.3)\n",
    "axes[0, 1].legend()\n",
    "\n",
    "# B vs C\n",
    "axes[0, 2].scatter(comparison_df['method_b_numeric'], comparison_df['method_c_numeric'], alpha=0.6, s=30)\n",
    "axes[0, 2].plot([0, 6], [0, 6], 'r--', alpha=0.5, label='Perfect agreement')\n",
    "axes[0, 2].set_xlabel('Method B (Embedding)')\n",
    "axes[0, 2].set_ylabel('Method C (ML Model)')\n",
    "axes[0, 2].set_title(f'B vs C (r={bc_correlation:.3f})')\n",
    "axes[0, 2].grid(True, alpha=0.3)\n",
    "axes[0, 2].legend()\n",
    "\n",
    "# Row 2: Distribution comparisons\n",
    "all_tiers = ['A1', 'A2', 'B1', 'B2', 'C1', 'C2']\n",
    "method_a_dist = comparison_df['method_a_tier'].value_counts().reindex(all_tiers, fill_value=0)\n",
    "method_b_dist = comparison_df['method_b_tier'].value_counts().reindex(all_tiers, fill_value=0)\n",
    "method_c_dist = comparison_df['method_c_tier'].value_counts().reindex(all_tiers, fill_value=0)\n",
    "\n",
    "x = range(len(all_tiers))\n",
    "width = 0.25\n",
    "\n",
    "axes[1, 0].bar([i - width for i in x], method_a_dist.values, width, label='Method A', alpha=0.8)\n",
    "axes[1, 0].bar([i for i in x], method_b_dist.values, width, label='Method B', alpha=0.8)\n",
    "axes[1, 0].bar([i + width for i in x], method_c_dist.values, width, label='Method C', alpha=0.8)\n",
    "axes[1, 0].set_xlabel('CEFR Tier')\n",
    "axes[1, 0].set_ylabel('Number of Words')\n",
    "axes[1, 0].set_title('Word Distribution by Method')\n",
    "axes[1, 0].set_xticks(x)\n",
    "axes[1, 0].set_xticklabels(all_tiers)\n",
    "axes[1, 0].legend()\n",
    "axes[1, 0].grid(True, alpha=0.3)\n",
    "\n",
    "# Agreement rates by tier\n",
    "tier_agreement_ab = comparison_df.groupby('method_a_tier')['ab_agreement'].mean() * 100\n",
    "tier_agreement_ac = comparison_df.groupby('method_a_tier')['ac_agreement'].mean() * 100\n",
    "tier_agreement_bc = comparison_df.groupby('method_a_tier')['bc_agreement'].mean() * 100\n",
    "\n",
    "if not tier_agreement_ab.empty:\n",
    "    tier_agreement_ab.plot(kind='bar', ax=axes[1, 1], alpha=0.7, label='A-B Agreement')\n",
    "if not tier_agreement_ac.empty:\n",
    "    tier_agreement_ac.plot(kind='bar', ax=axes[1, 1], alpha=0.7, label='A-C Agreement')\n",
    "if not tier_agreement_bc.empty:\n",
    "    tier_agreement_bc.plot(kind='bar', ax=axes[1, 1], alpha=0.7, label='B-C Agreement')\n",
    "\n",
    "axes[1, 1].set_title('Agreement Rates by Tier')\n",
    "axes[1, 1].set_ylabel('Agreement Rate (%)')\n",
    "axes[1, 1].set_xlabel('Tier (Method A Reference)')\n",
    "axes[1, 1].legend()\n",
    "axes[1, 1].grid(True, alpha=0.3)\n",
    "\n",
    "# Method performance comparison\n",
    "methods_performance = pd.DataFrame({\n",
    "    'Agreement_with_A': [100, ab_agreement/total_words*100, ac_agreement/total_words*100],\n",
    "    'Agreement_with_B': [ab_agreement/total_words*100, 100, bc_agreement/total_words*100],\n",
    "    'Agreement_with_C': [ac_agreement/total_words*100, bc_agreement/total_words*100, 100]\n",
    "}, index=['Method A', 'Method B', 'Method C'])\n",
    "\n",
    "sns.heatmap(methods_performance, annot=True, fmt='.1f', cmap='RdYlGn',\n",
    "            ax=axes[1, 2], cbar_kws={'label': 'Agreement %'})\n",
    "axes[1, 2].set_title('Inter-Method Agreement Matrix')\n",
    "\n",
    "# Row 3: Confusion matrices\n",
    "# Method A vs C confusion matrix\n",
    "conf_ac = pd.crosstab(comparison_df['method_a_tier'], comparison_df['method_c_tier'])\n",
    "sns.heatmap(conf_ac, annot=True, fmt='d', cmap='Blues', ax=axes[2, 0])\n",
    "axes[2, 0].set_title('Confusion Matrix: A vs C')\n",
    "axes[2, 0].set_ylabel('Method A (Frequency)')\n",
    "axes[2, 0].set_xlabel('Method C (ML Model)')\n",
    "\n",
    "# Method B vs C confusion matrix\n",
    "conf_bc = pd.crosstab(comparison_df['method_b_tier'], comparison_df['method_c_tier'])\n",
    "sns.heatmap(conf_bc, annot=True, fmt='d', cmap='Greens', ax=axes[2, 1])\n",
    "axes[2, 1].set_title('Confusion Matrix: B vs C')\n",
    "axes[2, 1].set_ylabel('Method B (Embedding)')\n",
    "axes[2, 1].set_xlabel('Method C (ML Model)')\n",
    "\n",
    "# Triple agreement analysis\n",
    "agreement_summary = pd.DataFrame({\n",
    "    'Count': [ab_agreement, ac_agreement, bc_agreement, all_agreement],\n",
    "    'Percentage': [ab_agreement/total_words*100, ac_agreement/total_words*100,\n",
    "                   bc_agreement/total_words*100, all_agreement/total_words*100]\n",
    "}, index=['A-B', 'A-C', 'B-C', 'All Three'])\n",
    "\n",
    "agreement_summary['Percentage'].plot(kind='bar', ax=axes[2, 2], color=['skyblue', 'lightgreen', 'salmon', 'gold'])\n",
    "axes[2, 2].set_title('Pairwise & Triple Agreement')\n",
    "axes[2, 2].set_ylabel('Agreement Rate (%)')\n",
    "axes[2, 2].set_xlabel('Method Pairs')\n",
    "axes[2, 2].grid(True, alpha=0.3)\n",
    "\n",
    "plt.tight_layout()\n",
    "plt.show()\n",
    "\n",
    "# Show disagreement examples for all methods\n",
    "print(\"\\n🔍 EXAMPLES OF DISAGREEMENTS\")\n",
    "print(\"=\" * 50)\n",
    "print(\"\\nThree-way disagreements (all methods differ):\")\n",
    "three_way_disagreements = comparison_df[\n",
    "    (comparison_df['method_a_tier'] != comparison_df['method_b_tier']) &\n",
    "    (comparison_df['method_b_tier'] != comparison_df['method_c_tier']) &\n",
    "    (comparison_df['method_a_tier'] != comparison_df['method_c_tier'])\n",
    "].head(5)\n",
    "\n",
    "for _, row in three_way_disagreements.iterrows():\n",
    "    print(f\"{row['word']}: A={row['method_a_tier']}, B={row['method_b_tier']}, C={row['method_c_tier']}\")\n",
    "\n",
    "print(f\"\\nMethod A-C major disagreements (>2 tier difference):\")\n",
    "ac_major_disagreements = comparison_df[\n",
    "    abs(comparison_df['method_a_numeric'] - comparison_df['method_c_numeric']) >= 2\n",
    "].head(5)\n",
    "\n",
    "for _, row in ac_major_disagreements.iterrows():\n",
    "    print(f\"{row['word']}: A={row['method_a_tier']}, C={row['method_c_tier']}\")\n",
    "\n",
    "print(\"\\n\" + \"=\"*50)\n",
    "print(\"THREE-METHOD ANALYSIS COMPLETE\")\n",
    "print(\"=\"*50)"
   ]
  },
  {
   "cell_type": "markdown",
   "id": "25492237",
   "metadata": {},
   "source": [
    "### 📈 Quantitative Analysis\n",
    "\n",
    "**Three-Method Correlation Analysis**: \n",
    "Compare all three approaches by analyzing correlations between:\n",
    "- Method A (Frequency) vs Method B (Embedding Norm) \n",
    "- Method A (Frequency) vs Method C (ML Model)\n",
    "- Method B (Embedding Norm) vs Method C (ML Model)\n",
    "\n",
    "**Statistical Metrics**:\n",
    "- Calculate pairwise agreement rates between all method combinations\n",
    "- Compute triple agreement rate (all three methods agree)\n",
    "- Generate comprehensive confusion matrices to identify systematic differences\n",
    "- Analyze correlation coefficients between numerical tier assignments\n",
    "\n",
    "**Distribution Analysis**:\n",
    "Compare how many words each method assigns to each CEFR level to identify potential biases and method-specific characteristics.\n",
    "\n",
    "### 🔍 Qualitative Observations\n",
    "\n",
    "**Three-Method Comparison Questions to Consider**:\n",
    "1. Which method seemed most intuitive when viewing the colored sentences?\n",
    "2. How did Method C (ML Model) perform compared to the traditional approaches?\n",
    "3. Were there surprising classifications where the ML model significantly differed from frequency/embedding methods?\n",
    "4. How did each method handle:\n",
    "   - Short vs. long words?\n",
    "   - Cognates and borrowed words?\n",
    "   - Technical terminology?\n",
    "   - Proper nouns and named entities?\n",
    "\n",
    "**Method C Specific Insights**:\n",
    "- Did the engineered features (character entropy, entity confidence) contribute meaningfully?\n",
    "- How well did the model generalize from English training data to German text?\n",
    "- Which features were most important according to the model's feature importance analysis?\n",
    "\n",
    "**Topic-Specific Insights**:\n",
    "- Did certain topics show better agreement between methods?\n",
    "- Were there topic domains where one method was clearly more appropriate?\n",
    "- How did Method C's real-time predictions compare to the lexicon-based approaches?\n",
    "\n",
    "### 🎯 Conclusion\n",
    "\n",
    "**Summary Space for Findings**:\n",
    "*(Complete this section based on your observations)*\n",
    "\n",
    "**Method Performance Comparison**:\n",
    "Based on the quantitative metrics and qualitative observations:\n",
    "\n",
    "1. **Method A (Frequency)**: Classic and reliable, good baseline performance\n",
    "2. **Method B (Embedding Norm)**: Experimental approach, may capture semantic complexity\n",
    "3. **Method C (ML Model)**: Combines multiple features, adaptable and extensible\n",
    "\n",
    "**Method Preference Recommendations**:\n",
    "- **Beginner language learners**: Consider Method A for simplicity and established linguistic principles\n",
    "- **Advanced learners**: Method C may provide more nuanced difficulty assessment\n",
    "- **Specific domains**: Analyze which method performs best for your particular content type\n",
    "\n",
    "**Future Improvements**:\n",
    "- **Ensemble Approach**: Combine predictions from all three methods using weighted voting\n",
    "- **Language-Specific Training**: Train Method C directly on target language data when available\n",
    "- **Feature Enhancement**: Add morphological complexity, syntactic features, and domain-specific vocabulary indicators\n",
    "- **Dynamic Learning**: Implement feedback mechanisms to improve predictions based on learner performance\n",
    "\n",
    "**Practical Applications**:\n",
    "These findings can be implemented in:\n",
    "- Adaptive reading systems that adjust content difficulty in real-time\n",
    "- Vocabulary learning applications with personalized word selection\n",
    "- Content difficulty assessment tools for educators\n",
    "- Automatic text simplification systems\n",
    "\n",
    "**Technical Contributions**:\n",
    "This notebook demonstrates:\n",
    "- A novel multi-method approach to computational word difficulty assessment\n",
    "- Integration of traditional corpus linguistics with modern machine learning\n",
    "- Language-agnostic feature engineering for cross-linguistic applications\n",
    "- Comprehensive evaluation methodology for comparing difficulty assessment approaches\n",
    "\n",
    "---\n",
    "\n",
    "*This notebook presents a comprehensive comparison of computational approaches to word difficulty assessment, combining established frequency-based methods with experimental embedding techniques and supervised machine learning to provide robust, multi-perspective analysis for language learning applications.*"
   ]
  }
 ],
 "metadata": {
  "kernelspec": {
   "display_name": "nlp_env",
   "language": "python",
   "name": "python3"
  },
  "language_info": {
   "codemirror_mode": {
    "name": "ipython",
    "version": 3
   },
   "file_extension": ".py",
   "mimetype": "text/x-python",
   "name": "python",
   "nbconvert_exporter": "python",
   "pygments_lexer": "ipython3",
   "version": "3.13.3"
  }
 },
 "nbformat": 4,
 "nbformat_minor": 5
}
